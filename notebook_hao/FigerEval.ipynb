{
 "cells": [
  {
   "cell_type": "code",
   "execution_count": 1,
   "metadata": {
    "collapsed": false
   },
   "outputs": [],
   "source": [
    "from dfiner.utils import get_default_config\n",
    "from dfiner.ontonote.ontonotes_data import read_figer\n",
    "from dfiner.ontonote.mention_classifier import MentionClassifier\n",
    "from dfiner.ontonote.ontonote_annotator import OntonoteTypeAnnotator\n",
    "from dfiner.annotators.mention_lex_entail import MentionEntailmentAnnotator\n",
    "from dfiner.annotators.nsd_annotator import NounSenseAnnotator, AverageEmbeddingNSD\n",
    "\n",
    "from dfiner.kb_bias.kb_bias_annotator import KBBiasTypeAnnotator\n",
    "from dfiner.eval.utils import to_column_format\n",
    "import spacy\n",
    "import numpy as np\n",
    "import codecs\n",
    "import os\n",
    "\n",
    "nlp = spacy.load('en')\n",
    "config = get_default_config()\n",
    "kbann = KBBiasTypeAnnotator(config, \"OntonoteType\")\n",
    "config[\"kba\"] = kbann\n",
    "mc = OntonoteTypeAnnotator(config)\n",
    "noun_sense = NounSenseAnnotator(config)\n",
    "\n",
    "nsd = None\n",
    "nsd_cache_path = config[\"nsd_cache_path\"]\n",
    "embeddings_path = config[\"embeddings_path\"]\n",
    "synset_offset_pos_embeddings_path = config[\"synset_offset_pos_embeddings_path\"]\n",
    "if os.path.isfile(nsd_cache_path):\n",
    "    try:\n",
    "        nsd = AverageEmbeddingNSD.load_instance_from_pickle(nsd_cache_path)\n",
    "    except:\n",
    "        print(\"Encountered error while loading pickle from \" + nsd_cache_path)\n",
    "nsd = nsd if nsd else AverageEmbeddingNSD(embeddings_path, synset_offset_pos_embeddings_path)\n",
    "nsd = NounSenseAnnotator(nsd)\n",
    "\n",
    "from dfiner.annotators import get_non_default_annotator\n",
    "non_default_annotators = get_non_default_annotator(nlp, config, ngram_length=3)\n",
    "\n",
    "mention_lex = MentionEntailmentAnnotator(config)\n",
    "mention_lex.mention_view =\"OntonoteType\""
   ]
  },
  {
   "cell_type": "code",
   "execution_count": 170,
   "metadata": {
    "collapsed": false
   },
   "outputs": [],
   "source": [
    "figer_docs = read_figer(nlp, config[\"figer_path\"])\n",
    "# figer_docs = read_figer(nlp, \"/home/haowu4/codes/dataless_finer/eval_figer/data/figer_original_gold_test.label\")\n",
    "\n",
    "for doc in figer_docs:\n",
    "    nlp.tagger(doc)\n",
    "    nlp.parser(doc)\n",
    "    mc(doc)\n",
    "    kbann(doc)\n",
    "    nsd(doc)\n",
    "#     non_default_annotators(doc)\n",
    "    mention_lex(doc)\n",
    "    "
   ]
  },
  {
   "cell_type": "code",
   "execution_count": 171,
   "metadata": {
    "collapsed": false
   },
   "outputs": [],
   "source": [
    "# %debug"
   ]
  },
  {
   "cell_type": "code",
   "execution_count": 172,
   "metadata": {
    "collapsed": true
   },
   "outputs": [],
   "source": [
    "with codecs.open(\"/tmp/figer_output.label\", \"w\", \"utf-8\") as out:\n",
    "    for doc in figer_docs:\n",
    "        s = to_column_format(doc, [(\"OntonoteType\", False), (\"KBBiasType\", False)])\n",
    "#         s = to_column_format(doc, [(\"OntonoteType\", False)])        \n",
    "        out.write(s)\n",
    "        out.write(\"\\n\")"
   ]
  },
  {
   "cell_type": "code",
   "execution_count": null,
   "metadata": {
    "collapsed": false
   },
   "outputs": [],
   "source": []
  },
  {
   "cell_type": "code",
   "execution_count": 16,
   "metadata": {
    "collapsed": false
   },
   "outputs": [],
   "source": [
    "from dfiner.utils.utils import best_k_label\n",
    "\n",
    "def print_constituent(doc, vn):\n",
    "    for c in doc.user_data[vn].constituents:\n",
    "        print doc[c.start: c.end].text,\n",
    "        print \"  --  [\"\n",
    "        \n",
    "        if c.label2score:\n",
    "            b = c.best_label_name\n",
    "            for l in c.label2score:\n",
    "                if b == l:\n",
    "                    print \"BEST\\t\", l, \", \", \"%.2f\" % c.label2score[l]\n",
    "                else:\n",
    "                    print \"    \\t\", l, \", \", \"%.2f\" % c.label2score[l]\n",
    "        print \"]\"\n",
    "        \n",
    "#         if c.outgoing_relations:\n",
    "#             for rel in c.outgoing_relations:\n",
    "#                 print rel.relation_name + \": \",\n",
    "#                 t = rel.target\n",
    "#                 print doc[t.start: t.end].text,\n",
    "#                 print \", \",\n",
    "#         print \"]\"\n",
    "        \n",
    "    "
   ]
  },
  {
   "cell_type": "code",
   "execution_count": 17,
   "metadata": {
    "collapsed": false
   },
   "outputs": [],
   "source": [
    "figer_docs[:10]\n",
    "doc = figer_docs[1]\n",
    "i=0"
   ]
  },
  {
   "cell_type": "code",
   "execution_count": 169,
   "metadata": {
    "collapsed": false
   },
   "outputs": [
    {
     "name": "stdout",
     "output_type": "stream",
     "text": [
      "150\n",
      "“ Everybody knows me in this area , ” he said . \n",
      "\n",
      "\n",
      "============================================================\n"
     ]
    }
   ],
   "source": [
    "# 29\n",
    "print i\n",
    "doc = figer_docs[i]\n",
    "print doc\n",
    "print \"\"\n",
    "print_constituent(doc, \"MentionEntail\")\n",
    "print \"\\n\" + \"=\"*60\n",
    "i+=1"
   ]
  },
  {
   "cell_type": "code",
   "execution_count": null,
   "metadata": {
    "collapsed": false,
    "scrolled": false
   },
   "outputs": [],
   "source": []
  },
  {
   "cell_type": "code",
   "execution_count": 8,
   "metadata": {
    "collapsed": false
   },
   "outputs": [],
   "source": [
    "from dfiner.annotators.fine_type_annotator import SynsetFineTyper\n",
    "typer=SynsetFineTyper(config)\n"
   ]
  },
  {
   "cell_type": "code",
   "execution_count": 9,
   "metadata": {
    "collapsed": false
   },
   "outputs": [
    {
     "ename": "TypeError",
     "evalue": "get_fine_types() takes exactly 2 arguments (1 given)",
     "output_type": "error",
     "traceback": [
      "\u001b[0;31m---------------------------------------------------------------------------\u001b[0m",
      "\u001b[0;31mTypeError\u001b[0m                                 Traceback (most recent call last)",
      "\u001b[0;32m<ipython-input-9-355193395bdc>\u001b[0m in \u001b[0;36m<module>\u001b[0;34m()\u001b[0m\n\u001b[0;32m----> 1\u001b[0;31m \u001b[0mtyper\u001b[0m\u001b[0;34m.\u001b[0m\u001b[0mget_fine_types\u001b[0m\u001b[0;34m(\u001b[0m\u001b[0;34m)\u001b[0m\u001b[0;34m\u001b[0m\u001b[0m\n\u001b[0m",
      "\u001b[0;31mTypeError\u001b[0m: get_fine_types() takes exactly 2 arguments (1 given)"
     ]
    }
   ],
   "source": [
    "typer.get_fine_types()"
   ]
  },
  {
   "cell_type": "code",
   "execution_count": 174,
   "metadata": {
    "collapsed": true
   },
   "outputs": [],
   "source": [
    "from nltk.corpus import wordnet as wn\n"
   ]
  },
  {
   "cell_type": "code",
   "execution_count": null,
   "metadata": {
    "collapsed": false
   },
   "outputs": [],
   "source": [
    "ss = [\"%d_n\" % x.offset() for x in wn.synsets(\"dam\") if x.pos() == \"n\"]"
   ]
  },
  {
   "cell_type": "code",
   "execution_count": null,
   "metadata": {
    "collapsed": false
   },
   "outputs": [],
   "source": [
    "typer.get_fine_types(ss[1])"
   ]
  },
  {
   "cell_type": "code",
   "execution_count": 145,
   "metadata": {
    "collapsed": false
   },
   "outputs": [
    {
     "data": {
      "text/plain": [
       "{u'government.government': 0.0016155088852988692,\n",
       " u'government_agency': 0.0032310177705977385,\n",
       " u'location.province': 0.4862681744749596,\n",
       " u'organization.company': 0.17609046849757673,\n",
       " u'organization.educational_institution': 0.1777059773828756,\n",
       " u'organization.sports_team': 0.15508885298869143}"
      ]
     },
     "execution_count": 145,
     "metadata": {},
     "output_type": "execute_result"
    }
   ],
   "source": [
    "kbann.surface_totype_dist[\"Washington State\"]"
   ]
  },
  {
   "cell_type": "code",
   "execution_count": null,
   "metadata": {
    "collapsed": false
   },
   "outputs": [],
   "source": [
    "# %autoreload 2\n",
    "# from dfiner.annotators.mention_lex_entail import MentionEntailmentAnnotator\n",
    "\n",
    "# mention_lex = MentionEntailmentAnnotator(config)\n"
   ]
  },
  {
   "cell_type": "code",
   "execution_count": 176,
   "metadata": {
    "collapsed": false
   },
   "outputs": [
    {
     "data": {
      "text/plain": [
       "[Synset('taw.n.02'),\n",
       " Synset('shot.n.05'),\n",
       " Synset('shooter.n.03'),\n",
       " Synset('shooter.n.04'),\n",
       " Synset('gunman.n.01')]"
      ]
     },
     "execution_count": 176,
     "metadata": {},
     "output_type": "execute_result"
    }
   ],
   "source": [
    "wn.synsets(\"shooter\")"
   ]
  },
  {
   "cell_type": "code",
   "execution_count": null,
   "metadata": {
    "collapsed": true
   },
   "outputs": [],
   "source": []
  }
 ],
 "metadata": {
  "anaconda-cloud": {},
  "kernelspec": {
   "display_name": "Python [conda env:dataless_finer]",
   "language": "python",
   "name": "conda-env-dataless_finer-py"
  },
  "language_info": {
   "codemirror_mode": {
    "name": "ipython",
    "version": 2
   },
   "file_extension": ".py",
   "mimetype": "text/x-python",
   "name": "python",
   "nbconvert_exporter": "python",
   "pygments_lexer": "ipython2",
   "version": "2.7.13"
  }
 },
 "nbformat": 4,
 "nbformat_minor": 1
}
