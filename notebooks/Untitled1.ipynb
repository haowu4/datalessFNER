{
 "cells": [
  {
   "cell_type": "code",
   "execution_count": 1,
   "metadata": {
    "collapsed": false
   },
   "outputs": [
    {
     "name": "stdout",
     "output_type": "stream",
     "text": [
      "\u001b[0m\u001b[01;34mannotated\u001b[0m/\r\n",
      "config-err-oHn2vS\r\n",
      "config-err-ztLnNP\r\n",
      "\u001b[01;34meval_out\u001b[0m/\r\n",
      "\u001b[01;34mguest-lbcg4b\u001b[0m/\r\n",
      "\u001b[01;34mhsperfdata_haowu4\u001b[0m/\r\n",
      "+~JF138089353431429024.tmp\r\n",
      "+~JF2231274217053297113.tmp\r\n",
      "+~JF2567725599244216430.tmp\r\n",
      "+~JF4628514551528324356.tmp\r\n",
      "+~JF5202256810299763323.tmp\r\n",
      "+~JF7046986725946527012.tmp\r\n",
      "+~JF7904865772164847927.tmp\r\n",
      "+~JF79356211335875559.tmp\r\n",
      "+~JF8791485359352692685.tmp\r\n",
      "+~JF9164242941050215766.tmp\r\n",
      "\u001b[01;34mlu1271jaodi7.tmp\u001b[0m/\r\n",
      "\u001b[01;35mOSL_PIPE_1000_SingleOfficeIPC_2421f448b26d251b46e972798ce37638\u001b[0m=\r\n",
      "\u001b[01;34mSlack Crashes\u001b[0m/\r\n",
      "\u001b[01;34mssh-3ngn0ImX0zt5\u001b[0m/\r\n",
      "\u001b[01;34mssh-t52d8vw4jnFN\u001b[0m/\r\n",
      "\u001b[01;34msystemd-private-c8c71ac6d7ff4efeb5d9020789aa1367-colord.service-DUN1Sq\u001b[0m/\r\n",
      "\u001b[01;34msystemd-private-c8c71ac6d7ff4efeb5d9020789aa1367-rtkit-daemon.service-RUsvhf\u001b[0m/\r\n",
      "\u001b[01;34msystemd-private-c8c71ac6d7ff4efeb5d9020789aa1367-systemd-timesyncd.service-PUWXhX\u001b[0m\u001b[K/\r\n",
      "\u001b[01;34mtmux-1000\u001b[0m/\r\n"
     ]
    }
   ],
   "source": [
    "ls /tmp"
   ]
  },
  {
   "cell_type": "code",
   "execution_count": null,
   "metadata": {
    "collapsed": true
   },
   "outputs": [],
   "source": []
  }
 ],
 "metadata": {
  "kernelspec": {
   "display_name": "Py2-finer",
   "language": "python",
   "name": "finer"
  },
  "language_info": {
   "codemirror_mode": {
    "name": "ipython",
    "version": 2
   },
   "file_extension": ".py",
   "mimetype": "text/x-python",
   "name": "python",
   "nbconvert_exporter": "python",
   "pygments_lexer": "ipython2",
   "version": "2.7.13"
  }
 },
 "nbformat": 4,
 "nbformat_minor": 2
}
