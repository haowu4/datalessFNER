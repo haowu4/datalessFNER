{
 "cells": [
  {
   "cell_type": "code",
   "execution_count": 5,
   "metadata": {
    "collapsed": false
   },
   "outputs": [
    {
     "name": "stdout",
     "output_type": "stream",
     "text": [
      "using sklearn version -> 0.18.1\n"
     ]
    }
   ],
   "source": [
    "import matplotlib\n",
    "%matplotlib inline\n",
    "\n",
    "# core libs\n",
    "import os\n",
    "import itertools\n",
    "from collections import defaultdict, OrderedDict\n",
    "import json\n",
    "import yaml\n",
    "import codecs\n",
    "import re\n",
    "import cPickle as pickle\n",
    "\n",
    "from functools import wraps\n",
    "from unidecode import unidecode\n",
    "\n",
    "# numerical and ml libs\n",
    "import numpy as np\n",
    "from scipy.sparse import coo_matrix, hstack\n",
    "from nltk.stem import WordNetLemmatizer\n",
    "from nltk.corpus import wordnet as wn\n",
    "import spacy\n",
    "from spacy.strings import StringStore\n",
    "import sklearn\n",
    "print(\"using sklearn version -> %s\" % sklearn.__version__)\n",
    "from sklearn.metrics import f1_score, confusion_matrix\n",
    "from sklearn import linear_model, datasets, svm, ensemble\n",
    "from sklearn.utils.extmath import safe_sparse_dot\n",
    "import matplotlib.pyplot as plt\n",
    "\n",
    "# project files\n",
    "from dfiner.ontonote.ontonotes_data import load_ontonotes, read_figer, GoldMentionView\n",
    "from dfiner.utils import get_default_config, get_size, dump_pickle, load_pickle\n",
    "from dfiner.datastructures.utils import print_view\n",
    "from dfiner.annotators.hyp_pattern_annotator import HypPatternAnnotator\n",
    "from dfiner.annotators.kb_bias_annotator import KBBiasTypeAnnotator\n",
    "from dfiner.annotators.nsd_annotator import NSDView\n",
    "from dfiner.annotators.fine_type_annotator import FineTypeView\n",
    "from dfiner.annotators import get_non_default_annotator\n",
    "import dfiner.ontonotes_annotation_extender as oae\n",
    "from dfiner.topics import get_embedding_func, EmbeddingsType\n",
    "from dfiner.classifier.lexicon import Lexicon\n",
    "from dfiner.classifier.feature_function import DenseFeatureFunction, FeatureExtractor, FeatureFunction\n",
    "\n",
    "config = get_default_config()"
   ]
  },
  {
   "cell_type": "code",
   "execution_count": 2,
   "metadata": {
    "collapsed": false
   },
   "outputs": [
    {
     "name": "stdout",
     "output_type": "stream",
     "text": [
      "CPU times: user 4.99 s, sys: 456 ms, total: 5.44 s\n",
      "Wall time: 5.45 s\n"
     ]
    }
   ],
   "source": [
    "%%time\n",
    "nlp = spacy.load('en')"
   ]
  },
  {
   "cell_type": "code",
   "execution_count": 3,
   "metadata": {
    "collapsed": false
   },
   "outputs": [
    {
     "name": "stdout",
     "output_type": "stream",
     "text": [
      "CPU times: user 2min 15s, sys: 424 ms, total: 2min 15s\n",
      "Wall time: 2min 15s\n"
     ]
    }
   ],
   "source": [
    "%%time\n",
    "train_docs = load_ontonotes(nlp, config['ontonotes_train_and_dev_path'])\n",
    "test_docs = load_ontonotes(nlp, config['ontonotes_test_path'])\n",
    "figer_docs = read_figer(nlp, config['figer_path'])"
   ]
  },
  {
   "cell_type": "code",
   "execution_count": 6,
   "metadata": {
    "collapsed": false
   },
   "outputs": [],
   "source": [
    "figer_gold_path = config[\"figer_gold\"]\n",
    "figer_gold_docs = read_figer(nlp, figer_gold_path)"
   ]
  },
  {
   "cell_type": "code",
   "execution_count": 7,
   "metadata": {
    "collapsed": true
   },
   "outputs": [],
   "source": [
    "def annotate_extend(docs):\n",
    "    _ = [oae.add_titles(doc, oae.title_set) for doc in docs]\n",
    "    _ = [oae.add_typexs('MEDICINE', doc, oae.symptom_alias_set.union(oae.drug_set.union(oae.treatment_set))) for doc in docs]\n",
    "    _ = [oae.add_typexs('ANIMAL', doc, oae.animal_set) for doc in docs]\n",
    "    _ = [oae.add_typexs('ROAD', doc, oae.road_set) for doc in docs]"
   ]
  },
  {
   "cell_type": "code",
   "execution_count": 8,
   "metadata": {
    "collapsed": false
   },
   "outputs": [
    {
     "name": "stdout",
     "output_type": "stream",
     "text": [
      "CPU times: user 54.8 s, sys: 256 ms, total: 55.1 s\n",
      "Wall time: 54.7 s\n"
     ]
    }
   ],
   "source": [
    "%%time\n",
    "annotate_extend(train_docs)\n",
    "annotate_extend(test_docs)"
   ]
  },
  {
   "cell_type": "code",
   "execution_count": 9,
   "metadata": {
    "collapsed": false
   },
   "outputs": [
    {
     "name": "stdout",
     "output_type": "stream",
     "text": [
      "loaded 83533 train docs\n",
      "loaded 9518 test docs\n",
      "loaded 434 figer docs\n"
     ]
    }
   ],
   "source": [
    "print \"loaded %d train docs\" % len(train_docs)\n",
    "print \"loaded %d test docs\" % len(test_docs)\n",
    "print \"loaded %d figer docs\" % len(figer_docs)"
   ]
  },
  {
   "cell_type": "code",
   "execution_count": 10,
   "metadata": {
    "collapsed": true
   },
   "outputs": [],
   "source": [
    "kba = KBBiasTypeAnnotator(config)"
   ]
  },
  {
   "cell_type": "code",
   "execution_count": 11,
   "metadata": {
    "collapsed": true
   },
   "outputs": [],
   "source": [
    "hyp_pattern_annotator = HypPatternAnnotator(nlp)"
   ]
  },
  {
   "cell_type": "code",
   "execution_count": 12,
   "metadata": {
    "collapsed": true
   },
   "outputs": [],
   "source": [
    "with open(config[\"ontonote_to_figer_map\"]) as f_in:\n",
    "    ontonotes_to_figer_course = yaml.load(f_in)\n",
    "\n",
    "def type_func(mention_constituent):\n",
    "    return ontonotes_to_figer_course[mention_constituent.name]\n",
    "\n",
    "def get_figer_type_func(kba):\n",
    "    def figer_type_func(mention_constituent):\n",
    "        all_types = mention_constituent.name.split(\",\")\n",
    "        course_types = set(kba.type_system.get_root, all_types)\n",
    "    "
   ]
  },
  {
   "cell_type": "code",
   "execution_count": 13,
   "metadata": {
    "collapsed": true
   },
   "outputs": [],
   "source": [
    "def slash_to_dot(slash_str):\n",
    "    return \".\".join(slash_str.split(\"/\")[1:])\n",
    "\n",
    "def get_figer_type_func(kba):\n",
    "    def figer_type_func(mention_constituent):\n",
    "        all_types = map(slash_to_dot, mention_constituent.name.split(\",\"))\n",
    "        try:\n",
    "            course_types = list(set(map(kba.type_system.get_root, all_types)))\n",
    "            if len(course_types) > 1:\n",
    "                print \"CAUTION: more than one course types -> (%s). Assigining (%s).\" % (course_types, course_types[0])\n",
    "                return course_types[0]\n",
    "            return course_types[0]\n",
    "        except:\n",
    "            print \"CAUTION: encoutered error while looking up (%s)\" % (all_types)\n",
    "            return None\n",
    "    return figer_type_func\n",
    "\n",
    "figer_type_func = get_figer_type_func(kba)"
   ]
  },
  {
   "cell_type": "code",
   "execution_count": 21,
   "metadata": {
    "collapsed": false
   },
   "outputs": [
    {
     "name": "stdout",
     "output_type": "stream",
     "text": [
      "167240 mention loaded\n",
      "57541 word loaded\n",
      "45428 words have w2v\n",
      "CPU times: user 1.13 s, sys: 52 ms, total: 1.18 s\n",
      "Wall time: 1.18 s\n"
     ]
    }
   ],
   "source": [
    "%%time\n",
    "\n",
    "VOCAB = set()\n",
    "\n",
    "num_mentions = 0\n",
    "for docs in [train_docs, test_docs, figer_docs]:\n",
    "    for doc in docs:\n",
    "        num_mentions += len(doc.user_data[GoldMentionView.GOLD_MENTION_VIEW_NAME])\n",
    "        for token in doc:\n",
    "            VOCAB.add(token.text)\n",
    "\n",
    "print(\"%d mention loaded\" % num_mentions)\n",
    "print(\"%d word loaded\" % len(VOCAB))\n",
    "\n",
    "\n",
    "def loadW2V(w2v_file, allowed = None):\n",
    "    ret = {}\n",
    "    err = 0\n",
    "    with codecs.open(w2v_file, \"r\" , 'utf-8') as f_in:\n",
    "        for line in f_in:\n",
    "            line = line.strip()\n",
    "            if len(line) == 0:\n",
    "                continue\n",
    "            try:\n",
    "                w, vec = line.split(\"\\t\")\n",
    "            except ValueError:\n",
    "#                 print(line)\n",
    "                err += 1\n",
    "                continue\n",
    "            if allowed is not None and w in allowed:\n",
    "                vec = [float(v) for v in vec.split(\" \")]\n",
    "                ret[w] = np.array(vec)\n",
    "    print(\"%d line failed\" % err)\n",
    "    return ret\n",
    "\n",
    "\n",
    "w2vdict_file_path = \"/tmp/w2vdict.pkl\"\n",
    "try:\n",
    "    with open(w2vdict_file_path) as f_in:\n",
    "        w2vdict = pickle.load(f_in)\n",
    "except:\n",
    "    print \"couldn't load w2v from cache\"\n",
    "    w2vdict = None\n",
    "\n",
    "# w2vdict = None\n",
    "if w2vdict is None:\n",
    "    w2vdict=loadW2V(config[\"embeddings_path\"], VOCAB)\n",
    "    try:\n",
    "        with open(w2vdict_file_path, 'w') as f_out:\n",
    "            pickle.dump(w2vdict, f_out, pickle.HIGHEST_PROTOCOL)\n",
    "    except:\n",
    "        print \"couldn't cache w2v\"\n",
    "\n",
    "print(\"%d words have w2v\" % len(w2vdict))\n",
    "\n",
    "default_w2v_mean = np.mean(list(w2vdict.values()), axis=0)\n",
    "default_w2v_zero = np.zeros(default_w2v_mean.shape)"
   ]
  },
  {
   "cell_type": "code",
   "execution_count": 22,
   "metadata": {
    "collapsed": true
   },
   "outputs": [],
   "source": [
    "from spacy.strings import hash_string"
   ]
  },
  {
   "cell_type": "code",
   "execution_count": 23,
   "metadata": {
    "collapsed": false
   },
   "outputs": [
    {
     "name": "stdout",
     "output_type": "stream",
     "text": [
      "77553\n"
     ]
    }
   ],
   "source": [
    "print len(set([(doc.text) for doc in train_docs]))"
   ]
  },
  {
   "cell_type": "code",
   "execution_count": 24,
   "metadata": {
    "collapsed": false
   },
   "outputs": [
    {
     "name": "stdout",
     "output_type": "stream",
     "text": [
      "number of train docs - 83533\n",
      "77553\n",
      "CPU times: user 580 ms, sys: 12 ms, total: 592 ms\n",
      "Wall time: 535 ms\n"
     ]
    }
   ],
   "source": [
    "%%time\n",
    "print \"number of train docs - \" + str(len(train_docs))\n",
    "print len(set([hash_string(doc.text) for doc in train_docs]))"
   ]
  },
  {
   "cell_type": "code",
   "execution_count": 25,
   "metadata": {
    "collapsed": false
   },
   "outputs": [],
   "source": [
    "# lsi_embedding_func = get_embedding_func(config, EmbeddingsType.LSI, 100)\n",
    "# lda_embedding_func = get_embedding_func(config, EmbeddingsType.LDA, 50)"
   ]
  },
  {
   "cell_type": "code",
   "execution_count": 26,
   "metadata": {
    "collapsed": false
   },
   "outputs": [],
   "source": [
    "# Define features:\n",
    "\n",
    "# from nltk.stem.wordnet import WordNetLemmatizer\n",
    "# lmtzr = WordNetLemmatizer().lemmatize\n",
    "\n",
    "\n",
    "def word_shape_func(text):\n",
    "    text = re.sub(\"[a-z]+\", \"a\" ,text)\n",
    "    text = re.sub(\"[A-Z]+\", \"A\" ,text)\n",
    "    text = re.sub(\"[0-9]+\", \"0\" ,text)\n",
    "    return text\n",
    "\n",
    "    \n",
    "\n",
    "\n",
    "@FeatureFunction(\"dep_feature\")\n",
    "def mention_details(doc, mention):\n",
    "    start, end = mention.start, mention.end\n",
    "    heads = [token.head for token in doc[start:end]]\n",
    "    deps = [list(token.children) for token in doc[start:end]]\n",
    "    for token, head, children in zip(doc[start:end], heads, deps):\n",
    "        if not (head.i >= start and head.i < end):            \n",
    "            yield \"<-%s- %s\" % (token.dep_, head.lemma_)\n",
    "            yield \"<- %s\" % (head.lemma_)\n",
    "        for child in children:\n",
    "            if not (child.i >= start and child.i < end):\n",
    "                yield  \"-%s-> %s\" % (child.dep_,child.lemma_)\n",
    "                yield  \"-> %s\" % (child.lemma_)\n",
    "\n",
    "\n",
    "def word_before(pos):\n",
    "    @FeatureFunction(\"word_before\")\n",
    "    def f(doc, mention):\n",
    "        start, end = mention.start, mention.end\n",
    "        for i in range(max(start-pos,0), start):\n",
    "            yield doc[i].text\n",
    "#             yield word_shape_func(doc[i].text)\n",
    "    return f\n",
    "\n",
    "\n",
    "def word_before_loc(pos):\n",
    "    @FeatureFunction(\"word_before\")\n",
    "    def f(doc, mention):\n",
    "        start, end = mention.start, mention.end\n",
    "        for i in range(max(start-pos,0), start):\n",
    "            yield \"%d-%s\" % (start - i,doc[i].text)\n",
    "    return f\n",
    "\n",
    "\n",
    "def word_before_lemma(pos):\n",
    "    @FeatureFunction(\"word_before_lemma\")\n",
    "    def f(doc, mention):\n",
    "        start, end = mention.start, mention.end\n",
    "        for i in range(max(start-pos,0), start):\n",
    "            yield doc[i].lemma_\n",
    "    return f\n",
    "\n",
    "\n",
    "def word_after(pos):\n",
    "    @FeatureFunction(\"word_after\")\n",
    "    def f(doc, mention):\n",
    "        start, end = mention.start, mention.end\n",
    "        for i in range(end, min(end+pos,len(doc))):\n",
    "            yield doc[i].text\n",
    "#             yield word_shape_func(doc[i].text)\n",
    "    return f\n",
    "\n",
    "\n",
    "def word_after_loc(pos):\n",
    "    @FeatureFunction(\"word_after_loc\")\n",
    "    def f(doc, mention):\n",
    "        start, end = mention.start, mention.end\n",
    "        for i in range(end, min(end+pos,len(doc))):\n",
    "            yield \"%d-%s\" % (i - end,doc[i].text)\n",
    "    return f\n",
    "\n",
    "\n",
    "def word_after_lemma(pos):\n",
    "    @FeatureFunction(\"word_after_lemma\")\n",
    "    def f(doc, mention):\n",
    "        start, end = mention.start, mention.end\n",
    "        for i in range(end, min(end+pos,len(doc))):\n",
    "            yield doc[i].lemma_\n",
    "        \n",
    "    return f\n",
    "\n",
    "\n",
    "@FeatureFunction(\"wim\")\n",
    "def word_in_mention(doc, mention):\n",
    "    start, end = mention.start, mention.end\n",
    "    for token in doc[start:end]:\n",
    "        yield token.text\n",
    "        yield word_shape_func(token.text)\n",
    "\n",
    "@FeatureFunction(\"wim_lemma\")\n",
    "def word_in_mention_lemma(doc, mention):\n",
    "    start, end = mention.start, mention.end\n",
    "    for token in doc[start:end]:\n",
    "        yield token.lemma_\n",
    "        \n",
    "\n",
    "@FeatureFunction(\"wim_loc\")\n",
    "def word_in_mention_loc(doc, mention):\n",
    "    start, end = mention.start, mention.end\n",
    "    for i,x in enumerate(doc[start:end]):\n",
    "        yield \"f%d-%s\" % (i,x.text)\n",
    "        yield \"b%d-%s\" % ((end-start-1) - i,x.text)\n",
    "        \n",
    "\n",
    "@FeatureFunction(\"wim_loc_lemma\")\n",
    "def word_in_mention_loc_lemma(doc, mention):\n",
    "    start, end = mention.start, mention.end\n",
    "    for i,x in enumerate(doc[start:end]):\n",
    "        x = x.lemma_\n",
    "        yield \"f%d-%s\" % (i,x)\n",
    "        yield \"b%d-%s\" % ((end-start-1) - i,x)\n",
    "    \n",
    "\n",
    "def wim_ngram(n=2):\n",
    "    @FeatureFunction(\"wim_%dgram\" % n)\n",
    "    def f(doc, mention):\n",
    "        start, end = mention.start, mention.end\n",
    "        words = map(lambda token: token.text, doc[start:end])\n",
    "        for ngram_tup in zip(*[words[i:] for i in xrange(n)]):\n",
    "            yield \"-\".join(ngram_tup)\n",
    "    return f\n",
    "        \n",
    "\n",
    "def wim_ngram_lemma(n=2):\n",
    "    @FeatureFunction(\"wim_%dgram_lemma\" % n)\n",
    "    def f(doc, mention):\n",
    "        start, end = mention.start, mention.end\n",
    "        words = map(lambda token: token.lemma_, doc[start:end])\n",
    "        for ngram_tup in zip(*[words[i:] for i in xrange(n)]):\n",
    "            yield \"-\".join(ngram_tup)\n",
    "    return f\n",
    "        \n",
    "\n",
    "@FeatureFunction(\"word_shape\")\n",
    "def word_shape(doc, mention):\n",
    "    start, end = mention.start, mention.end\n",
    "    t = \" \".join([x.text for x in doc[start:end]])\n",
    "    return [word_shape_func(t)]\n",
    "        \n",
    "\n",
    "@FeatureFunction(\"length\")\n",
    "def mention_length(doc, mention):\n",
    "    start, end = mention.start, mention.end\n",
    "    return [\"%d\" % (end-start)]\n",
    "        \n",
    "\n",
    "@FeatureFunction(\"prefix\")\n",
    "def prefix(doc, mention):\n",
    "    start, end = mention.start, mention.end\n",
    "    for w in doc[start:end]:\n",
    "        for i in range(3, min(5, len(w.text))):\n",
    "            yield w.text[:i]\n",
    "        \n",
    "\n",
    "@FeatureFunction(\"suffix\")\n",
    "def postfix(doc, mention):\n",
    "    start, end = mention.start, mention.end\n",
    "    for w in doc[start:end]:\n",
    "        for i in range(3, min(5, len(w.text))):\n",
    "            yield w.text[-i:]\n",
    "\n",
    "# KB-Bias features\n",
    "def kbbias(kbbias_annotator):\n",
    "    @FeatureFunction(\"kbbias\")\n",
    "    def wrappee(doc, mention):\n",
    "        surface = doc[mention.start:mention.end].text\n",
    "        results = None\n",
    "        if surface in kbbias_annotator.surface_to_type_dist:\n",
    "            results = kbbias_annotator.surface_to_type_dist[surface]\n",
    "        elif (surface[:4].lower() == 'the ') and \\\n",
    "              surface[4:] in kbbias_annotator.surface_to_type_dist:\n",
    "            results = kbbias_annotator.surface_to_type_dist[surface[4:]]\n",
    "        if results:\n",
    "            return results.iteritems()\n",
    "        else:\n",
    "            return []\n",
    "    return wrappee\n",
    "             \n",
    "\n",
    "\n",
    "@FeatureFunction(\"bias\")\n",
    "def CONSTANT_BIAS(doc, mention):\n",
    "    start, end = mention.start, mention.end\n",
    "    return [\"bias\"]\n",
    "\n",
    "# def gazzarteer(gas):\n",
    "#     @FeatureFunction(\"gazzarteer\")\n",
    "#     def gazzarteer_wrappee(mention):\n",
    "#         for gz_name in gas:\n",
    "#             if mention.surface:\n",
    "#                 return\n",
    "\n",
    "\n",
    "def getOrDefault(m, k, d):\n",
    "    if k in m:\n",
    "        return m[k]\n",
    "    else:\n",
    "        return d\n",
    "\n",
    "\n",
    "def w2vBefore(w2v_dict, default_w2v, pos = 4):  \n",
    "    @DenseFeatureFunction()\n",
    "    def w2vBefore(doc, mention):\n",
    "        word_vecs = []\n",
    "        for i in range(mention.start-pos, mention.start):\n",
    "            if i < 0:\n",
    "                word_vecs.append(np.zeros(default_w2v.shape))\n",
    "            else:\n",
    "                word_vecs.append(getOrDefault(w2v_dict, doc[i].text, default_w2v))\n",
    "        word_vecs.append(np.mean(word_vecs, axis=0))\n",
    "        return np.hstack(word_vecs)\n",
    "    return w2vBefore\n",
    "\n",
    "\n",
    "def w2vAfter(w2v_dict, default_w2v, pos = 4):    \n",
    "    @DenseFeatureFunction()\n",
    "    def w2vAfter(doc, mention):\n",
    "        word_vecs = []\n",
    "        for i in range(mention.end, mention.end+pos):\n",
    "            if i >= len(mention.tokens):\n",
    "                word_vecs.append(np.zeros(default_w2v.shape))\n",
    "            else:\n",
    "                word_vecs.append(getOrDefault(w2v_dict, doc[i].text, default_w2v))\n",
    "        word_vecs.append(np.mean(word_vecs, axis=0))\n",
    "        return np.hstack(word_vecs)\n",
    "    return w2vAfter\n",
    "\n",
    "\n",
    "def w2vMention(w2v_dict, default_w2v):    \n",
    "    @DenseFeatureFunction(dim=300)\n",
    "    def w2vMention(doc, mention):\n",
    "        if mention.start == mention.end:\n",
    "            print(doc)\n",
    "        mean_vecs = [getOrDefault(w2v_dict, token.text, default_w2v) for token in doc[mention.start:mention.end]]\n",
    "        return np.mean(mean_vecs, axis=0)\n",
    "    return w2vMention\n",
    "\n",
    "\n",
    "def topicSentence(sentEmbeddingFunc, feature_name):\n",
    "    @DenseFeatureFunction()\n",
    "    def topicSentence(doc, mention):\n",
    "        tokenized_doc = [token.text for token in doc]\n",
    "        return sentEmbeddingFunc(tokenized_doc)\n",
    "    topicSentence.__name__ = feature_name\n",
    "    return topicSentence"
   ]
  },
  {
   "cell_type": "code",
   "execution_count": 28,
   "metadata": {
    "collapsed": false
   },
   "outputs": [],
   "source": [
    "# features\n",
    "\n",
    "# sparse feature functions\n",
    "\n",
    "sparse_feat_funcs = [\n",
    "#     CONSTANT_BIAS,\n",
    "    mention_details,\n",
    "    word_shape,\n",
    "    word_in_mention, word_in_mention_lemma,\n",
    "    word_in_mention_loc, word_in_mention_loc_lemma,\n",
    "    wim_ngram(2), wim_ngram_lemma(2),\n",
    "    wim_ngram(3), wim_ngram(3),\n",
    "    kbbias(kba),\n",
    "    w2vMention(w2vdict, default_w2v_mean)\n",
    "                    ]\n",
    "#             wim_ext, wim_ext_lemma,   \n",
    "#             word_shape,\n",
    "#             mention_length,\n",
    "#             prefix,\n",
    "#             postfix,\n",
    "#             mention_pronoun_wh_dep\n",
    "extractors = FeatureExtractor(sparse_feat_funcs)"
   ]
  },
  {
   "cell_type": "code",
   "execution_count": 42,
   "metadata": {
    "collapsed": false
   },
   "outputs": [],
   "source": [
    "def build_corpora(docs):\n",
    "    ret = []\n",
    "    for doc in docs:\n",
    "        for m in doc.user_data[\"gold_mention_view\"]:\n",
    "            ret.append((doc, m))\n",
    "    return ret\n",
    "\n",
    "def build_ys_from_gold(docs, type_lex):\n",
    "    ret = []\n",
    "    missing = set()\n",
    "    for doc, m in docs:\n",
    "        type_lex.see_lexeme(m.name)\n",
    "        idx = type_lex.getOrNegOne(m.name)\n",
    "        if idx == -1:\n",
    "            missing.add(m.name)\n",
    "        ret.append(idx)\n",
    "    for m in missing:\n",
    "        print(\"missing lebel %s\" % m)\n",
    "    return np.array(ret)\n",
    "\n",
    "type_lex = Lexicon()\n",
    "    \n",
    "ontonote_train = build_corpora(train_docs)\n",
    "Y_train = build_ys_from_gold(ontonote_train, type_lex)\n",
    "\n",
    "ontonote_test = build_corpora(test_docs)\n",
    "Y_test = build_ys_from_gold(ontonote_test, type_lex)\n",
    "\n",
    "figer_test = build_corpora(figer_docs)"
   ]
  },
  {
   "cell_type": "code",
   "execution_count": 39,
   "metadata": {
    "collapsed": false
   },
   "outputs": [
    {
     "name": "stdout",
     "output_type": "stream",
     "text": [
      "Using exist lexicon for feature [dep_feature]..\n",
      "Using exist lexicon for feature [word_shape]..\n",
      "Using exist lexicon for feature [wim]..\n",
      "Using exist lexicon for feature [wim_lemma]..\n",
      "Using exist lexicon for feature [wim_loc]..\n",
      "Using exist lexicon for feature [wim_loc_lemma]..\n",
      "Using exist lexicon for feature [wim_2gram]..\n",
      "Using exist lexicon for feature [wim_2gram_lemma]..\n",
      "Using exist lexicon for feature [wim_3gram]..\n",
      "Using exist lexicon for feature [wim_3gram]..\n",
      "Using exist lexicon for feature [kbbias]..\n",
      "Searching cache for ontonote-train on dep_feature\n",
      "/tmp/cache/dep_feature__ontonote-train.cache_mat.coo_mat.npz\n",
      "Found cache for ontonote-train on dep_feature\n",
      "Searching cache for ontonote-train on word_shape\n",
      "/tmp/cache/word_shape__ontonote-train.cache_mat.coo_mat.npz\n",
      "Found cache for ontonote-train on word_shape\n",
      "Searching cache for ontonote-train on wim\n",
      "/tmp/cache/wim__ontonote-train.cache_mat.coo_mat.npz\n",
      "Found cache for ontonote-train on wim\n",
      "Searching cache for ontonote-train on wim_lemma\n",
      "/tmp/cache/wim_lemma__ontonote-train.cache_mat.coo_mat.npz\n",
      "Found cache for ontonote-train on wim_lemma\n",
      "Searching cache for ontonote-train on wim_loc\n",
      "/tmp/cache/wim_loc__ontonote-train.cache_mat.coo_mat.npz\n",
      "Found cache for ontonote-train on wim_loc\n",
      "Searching cache for ontonote-train on wim_loc_lemma\n",
      "/tmp/cache/wim_loc_lemma__ontonote-train.cache_mat.coo_mat.npz\n",
      "Found cache for ontonote-train on wim_loc_lemma\n",
      "Searching cache for ontonote-train on wim_2gram\n",
      "/tmp/cache/wim_2gram__ontonote-train.cache_mat.coo_mat.npz\n",
      "Found cache for ontonote-train on wim_2gram\n",
      "Searching cache for ontonote-train on wim_2gram_lemma\n",
      "/tmp/cache/wim_2gram_lemma__ontonote-train.cache_mat.coo_mat.npz\n",
      "Found cache for ontonote-train on wim_2gram_lemma\n",
      "Searching cache for ontonote-train on wim_3gram\n",
      "/tmp/cache/wim_3gram__ontonote-train.cache_mat.coo_mat.npz\n",
      "Found cache for ontonote-train on wim_3gram\n",
      "Searching cache for ontonote-train on wim_3gram\n",
      "/tmp/cache/wim_3gram__ontonote-train.cache_mat.coo_mat.npz\n",
      "Found cache for ontonote-train on wim_3gram\n",
      "Searching cache for ontonote-train on kbbias\n",
      "/tmp/cache/kbbias__ontonote-train.cache_mat.coo_mat.npz\n",
      "Found cache for ontonote-train on kbbias\n",
      "Searching cache for ontonote-train on w2vMention\n",
      "Found cache for ontonote-train on w2vMention\n",
      "Searching cache for ontonote-test on dep_feature\n",
      "/tmp/cache/dep_feature__ontonote-test.cache_mat.coo_mat.npz\n",
      "Found cache for ontonote-test on dep_feature\n",
      "Searching cache for ontonote-test on word_shape\n",
      "/tmp/cache/word_shape__ontonote-test.cache_mat.coo_mat.npz\n",
      "Found cache for ontonote-test on word_shape\n",
      "Searching cache for ontonote-test on wim\n",
      "/tmp/cache/wim__ontonote-test.cache_mat.coo_mat.npz\n",
      "Found cache for ontonote-test on wim\n",
      "Searching cache for ontonote-test on wim_lemma\n",
      "/tmp/cache/wim_lemma__ontonote-test.cache_mat.coo_mat.npz\n",
      "Found cache for ontonote-test on wim_lemma\n",
      "Searching cache for ontonote-test on wim_loc\n",
      "/tmp/cache/wim_loc__ontonote-test.cache_mat.coo_mat.npz\n",
      "Found cache for ontonote-test on wim_loc\n",
      "Searching cache for ontonote-test on wim_loc_lemma\n",
      "/tmp/cache/wim_loc_lemma__ontonote-test.cache_mat.coo_mat.npz\n",
      "Found cache for ontonote-test on wim_loc_lemma\n",
      "Searching cache for ontonote-test on wim_2gram\n",
      "/tmp/cache/wim_2gram__ontonote-test.cache_mat.coo_mat.npz\n",
      "Found cache for ontonote-test on wim_2gram\n",
      "Searching cache for ontonote-test on wim_2gram_lemma\n",
      "/tmp/cache/wim_2gram_lemma__ontonote-test.cache_mat.coo_mat.npz\n",
      "Found cache for ontonote-test on wim_2gram_lemma\n",
      "Searching cache for ontonote-test on wim_3gram\n",
      "/tmp/cache/wim_3gram__ontonote-test.cache_mat.coo_mat.npz\n",
      "Found cache for ontonote-test on wim_3gram\n",
      "Searching cache for ontonote-test on wim_3gram\n",
      "/tmp/cache/wim_3gram__ontonote-test.cache_mat.coo_mat.npz\n",
      "Found cache for ontonote-test on wim_3gram\n",
      "Searching cache for ontonote-test on kbbias\n",
      "/tmp/cache/kbbias__ontonote-test.cache_mat.coo_mat.npz\n",
      "Found cache for ontonote-test on kbbias\n",
      "Searching cache for ontonote-test on w2vMention\n",
      "Found cache for ontonote-test on w2vMention\n",
      "Searching cache for figer-train on dep_feature\n",
      "/tmp/cache/dep_feature__figer-train.cache_mat.coo_mat.npz\n",
      "Found cache for figer-train on dep_feature\n",
      "Searching cache for figer-train on word_shape\n",
      "/tmp/cache/word_shape__figer-train.cache_mat.coo_mat.npz\n",
      "Found cache for figer-train on word_shape\n",
      "Searching cache for figer-train on wim\n",
      "/tmp/cache/wim__figer-train.cache_mat.coo_mat.npz\n",
      "Found cache for figer-train on wim\n",
      "Searching cache for figer-train on wim_lemma\n",
      "/tmp/cache/wim_lemma__figer-train.cache_mat.coo_mat.npz\n",
      "Found cache for figer-train on wim_lemma\n",
      "Searching cache for figer-train on wim_loc\n",
      "/tmp/cache/wim_loc__figer-train.cache_mat.coo_mat.npz\n",
      "Found cache for figer-train on wim_loc\n",
      "Searching cache for figer-train on wim_loc_lemma\n",
      "/tmp/cache/wim_loc_lemma__figer-train.cache_mat.coo_mat.npz\n",
      "Found cache for figer-train on wim_loc_lemma\n",
      "Searching cache for figer-train on wim_2gram\n",
      "/tmp/cache/wim_2gram__figer-train.cache_mat.coo_mat.npz\n",
      "Found cache for figer-train on wim_2gram\n",
      "Searching cache for figer-train on wim_2gram_lemma\n",
      "/tmp/cache/wim_2gram_lemma__figer-train.cache_mat.coo_mat.npz\n",
      "Found cache for figer-train on wim_2gram_lemma\n",
      "Searching cache for figer-train on wim_3gram\n",
      "/tmp/cache/wim_3gram__figer-train.cache_mat.coo_mat.npz\n",
      "Found cache for figer-train on wim_3gram\n",
      "Searching cache for figer-train on wim_3gram\n",
      "/tmp/cache/wim_3gram__figer-train.cache_mat.coo_mat.npz\n",
      "Found cache for figer-train on wim_3gram\n",
      "Searching cache for figer-train on kbbias\n",
      "/tmp/cache/kbbias__figer-train.cache_mat.coo_mat.npz\n",
      "Found cache for figer-train on kbbias\n",
      "Searching cache for figer-train on w2vMention\n",
      "Found cache for figer-train on w2vMention\n"
     ]
    }
   ],
   "source": [
    "force_update = False\n",
    "extractors.build_lexicon(ontonote_train, force_update=force_update)\n",
    "X_train = extractors.extract(\"ontonote-train\", ontonote_train, force_update=force_update)\n",
    "X_test = extractors.extract(\"ontonote-test\", ontonote_test, force_update=force_update)\n",
    "X_figer = extractors.extract(\"figer-train\", figer_test, force_update=force_update)\n",
    "feature_names = extractors.reverse_lexicon()\n",
    "\n",
    "index_to_feat = {i:f for i, f in enumerate(feature_names)}\n",
    "index_to_type = {i:t for t, i in type_lex.lexeme_to_index.iteritems()}"
   ]
  },
  {
   "cell_type": "code",
   "execution_count": 43,
   "metadata": {
    "collapsed": false
   },
   "outputs": [
    {
     "name": "stdout",
     "output_type": "stream",
     "text": [
      "(148705, 50054)\n",
      "(17972, 50054)\n",
      "(563, 50054)\n",
      "(148705,)\n"
     ]
    }
   ],
   "source": [
    "print ontonote_train_mat.shape\n",
    "print ontonote_test_mat.shape\n",
    "print figer_test_mat.shape\n",
    "print ontonote_train_y.shape"
   ]
  },
  {
   "cell_type": "code",
   "execution_count": 44,
   "metadata": {
    "collapsed": false
   },
   "outputs": [
    {
     "name": "stdout",
     "output_type": "stream",
     "text": [
      "CPU times: user 28.9 s, sys: 10.9 s, total: 39.8 s\n",
      "Wall time: 27.7 s\n"
     ]
    }
   ],
   "source": [
    "%%time\n",
    "\n",
    "base_estimator = linear_model.SGDClassifier(\n",
    "                    loss='hinge',#'modified_huber',#'hinge',#perceptron',\n",
    "                    penalty=\"l2\",\n",
    "                    alpha=1e-7,\n",
    "                    average=True\n",
    "                    )\n",
    "# linear_svc = svm.SVC(kernel='poly', degree=2)\n",
    "# logreg = ensemble.BaggingClassifier(base_estimator=base_estimator, n_estimators=10, max_samples=.5)\n",
    "logreg = base_estimator\n",
    "logreg.fit(X_train, Y_train)"
   ]
  },
  {
   "cell_type": "raw",
   "metadata": {},
   "source": [
    "dataset           micro-f1   macro-f1 weighted-f1\n",
    "\n",
    "train               97.36%     93.64%     97.31%\n",
    "test                94.87%     84.56%     94.64%\n",
    "figer-gold          84.72%     55.84%     84.13%\n",
    "\n",
    "\n",
    "                  TYPE : train_f1  test_f1 figer_f1\n",
    "\n",
    "                 title :    0.999    0.997    0.917\n",
    "      finance.currency :    0.998    0.994    0.000\n",
    "                  time :    0.996    0.993    0.963\n",
    "          living_thing :    0.973    0.977    0.000\n",
    "                 norpl :    0.976    0.968    0.783\n",
    "              medicine :    0.965    0.964    1.000\n",
    "              location :    0.977    0.961    0.809\n",
    "                person :    0.973    0.950    0.937\n",
    "          organization :    0.962    0.927    0.824\n",
    "                 event :    0.922    0.717    0.333\n",
    "                   law :    0.945    0.711    0.667\n",
    "   transportation.road :    0.903    0.667    0.000\n",
    "               product :    0.806    0.650    0.222\n",
    "                  work :    0.869    0.624    0.421\n",
    "              building :    0.783    0.586    0.500"
   ]
  },
  {
   "cell_type": "raw",
   "metadata": {},
   "source": [
    "# tweaking learners\n",
    "\n",
    "dataset           micro-f1   macro-f1 weighted-f1\n",
    "\n",
    "train               97.71%     94.36%     97.68%\n",
    "test                95.02%     85.67%     94.84%\n",
    "figer-gold          86.81%     58.71%     85.97%\n",
    "\n",
    "\n",
    "                  TYPE : train_f1  test_f1 figer_f1\n",
    "\n",
    "                 title :    0.999    0.997    0.917\n",
    "                  time :    0.997    0.994    0.981\n",
    "      finance.currency :    0.998    0.993    0.000\n",
    "                 norpl :    0.979    0.967    0.800\n",
    "              medicine :    0.969    0.964    1.000\n",
    "              location :    0.981    0.958    0.837\n",
    "          living_thing :    0.991    0.955    0.000\n",
    "                person :    0.976    0.952    0.942\n",
    "          organization :    0.966    0.932    0.849\n",
    "                   law :    0.948    0.758    0.667\n",
    "   transportation.road :    0.857    0.727    0.000\n",
    "                 event :    0.935    0.714    0.615\n",
    "               product :    0.843    0.676    0.286\n",
    "                  work :    0.896    0.643    0.375\n",
    "              building :    0.820    0.621    0.538"
   ]
  },
  {
   "cell_type": "raw",
   "metadata": {},
   "source": [
    "# lsi topics - dim 100\n",
    "\n",
    "dataset           micro-f1   macro-f1 weighted-f1\n",
    "\n",
    "train               97.81%     95.47%     97.79%\n",
    "test                95.10%     85.37%     94.91%\n",
    "figer-gold          85.42%     57.48%     84.52%\n",
    "\n",
    "\n",
    "                  TYPE : train_f1  test_f1 figer_f1\n",
    "\n",
    "          living_thing :    0.982    1.000    0.000\n",
    "      finance.currency :    0.998    0.995    0.000\n",
    "                 title :    0.998    0.995    0.917\n",
    "                  time :    0.997    0.993    0.981\n",
    "                 norpl :    0.979    0.968    0.909\n",
    "              medicine :    0.978    0.964    1.000\n",
    "              location :    0.981    0.962    0.837\n",
    "                person :    0.978    0.955    0.939\n",
    "          organization :    0.968    0.931    0.825\n",
    "                   law :    0.954    0.727    0.667\n",
    "                 event :    0.939    0.720    0.364\n",
    "               product :    0.856    0.697    0.500\n",
    "   transportation.road :    1.000    0.667    0.000\n",
    "                  work :    0.897    0.629    0.300\n",
    "              building :    0.815    0.602    0.385"
   ]
  },
  {
   "cell_type": "raw",
   "metadata": {},
   "source": [
    "# with lda topics\n",
    "\n",
    "dataset           micro-f1   macro-f1 weighted-f1\n",
    "\n",
    "train               97.91%     95.20%     97.88%\n",
    "test                95.29%     85.49%     95.10%\n",
    "figer-gold          87.50%     58.83%     86.54%\n",
    "\n",
    "\n",
    "                  TYPE : train_f1  test_f1 figer_f1\n",
    "\n",
    "                 title :    0.999    0.997    0.917\n",
    "      finance.currency :    0.998    0.993    0.000\n",
    "                  time :    0.997    0.993    0.981\n",
    "              medicine :    0.971    0.977    1.000\n",
    "          living_thing :    0.967    0.977    0.000\n",
    "                 norpl :    0.979    0.967    0.870\n",
    "              location :    0.981    0.964    0.859\n",
    "                person :    0.980    0.959    0.948\n",
    "          organization :    0.970    0.933    0.863\n",
    "                   law :    0.953    0.717    0.667\n",
    "                 event :    0.940    0.709    0.333\n",
    "               product :    0.859    0.706    0.500\n",
    "                  work :    0.899    0.677    0.471\n",
    "   transportation.road :    0.966    0.667    0.000\n",
    "              building :    0.822    0.587    0.417"
   ]
  },
  {
   "cell_type": "code",
   "execution_count": 161,
   "metadata": {
    "collapsed": false
   },
   "outputs": [
    {
     "name": "stdout",
     "output_type": "stream",
     "text": [
      "dataset           micro-f1   macro-f1 weighted-f1\n",
      "\n",
      "train               97.91%     95.20%     97.88%\n",
      "test                95.29%     85.49%     95.10%\n",
      "figer-gold          87.50%     58.83%     86.54%\n",
      "\n",
      "\n",
      "                  TYPE : train_f1  test_f1 figer_f1\n",
      "\n",
      "                 title :    0.999    0.997    0.917\n",
      "      finance.currency :    0.998    0.993    0.000\n",
      "                  time :    0.997    0.993    0.981\n",
      "              medicine :    0.971    0.977    1.000\n",
      "          living_thing :    0.967    0.977    0.000\n",
      "                 norpl :    0.979    0.967    0.870\n",
      "              location :    0.981    0.964    0.859\n",
      "                person :    0.980    0.959    0.948\n",
      "          organization :    0.970    0.933    0.863\n",
      "                   law :    0.953    0.717    0.667\n",
      "                 event :    0.940    0.709    0.333\n",
      "               product :    0.859    0.706    0.500\n",
      "                  work :    0.899    0.677    0.471\n",
      "   transportation.road :    0.966    0.667    0.000\n",
      "              building :    0.822    0.587    0.417\n"
     ]
    }
   ],
   "source": [
    "y_train_pred = logreg.predict(X_train)\n",
    "y_test_pred = logreg.predict(X_test)\n",
    "y_figer_gold_pred = logreg.predict(X_figer_gold)\n",
    "\n",
    "classes = sorted(index_to_type.keys())\n",
    "\n",
    "averages = [\"micro\", \"macro\", \"weighted\"]\n",
    "print(\"%-15s %10s %10s %10s\\n\" % (\"dataset\", \"micro-f1\", \"macro-f1\", \"weighted-f1\"))\n",
    "print(\"%-15s %9.2f%% %9.2f%% %9.2f%%\" % tuple([\"train\"] + \n",
    "                                             [100*f1_score(ys_train, y_train_pred, classes, average=avg)\n",
    "                                              for avg in averages]))\n",
    "print(\"%-15s %9.2f%% %9.2f%% %9.2f%%\" % tuple([\"test\"] + \n",
    "                                             [100*f1_score(ys_test, y_test_pred, classes, average=avg)\n",
    "                                              for avg in averages]))\n",
    "print(\"%-15s %9.2f%% %9.2f%% %9.2f%%\" % tuple([\"figer-gold\"] + \n",
    "                                             [100*f1_score(ys_figer_gold, y_figer_gold_pred, classes, average=avg)\n",
    "                                              for avg in averages]))\n",
    "print(\"\\n\")\n",
    "\n",
    "train_f1 = f1_score(ys_train, y_train_pred, classes, average=None).tolist()\n",
    "test_f1 = f1_score(ys_test, y_test_pred, classes, average=None).tolist()\n",
    "figer_gold_f1 = f1_score(ys_figer_gold, y_figer_gold_pred, classes, average=None).tolist()\n",
    "\n",
    "class_names = [None] * len(index_to_type)\n",
    "for i in range(len(index_to_type)):\n",
    "    class_names[i] = index_to_type[i]\n",
    "\n",
    "print(\"%22s : %8s %8s %8s\\n\" % (\"TYPE\", \"train_f1\", \"test_f1\", \"figer_f1\"))\n",
    "for type_name, train_type_f1, test_type_f1, figer_gold_type_f1 in \\\n",
    "    sorted([(index_to_type[index], train_f1[index], test_f1[index], figer_gold_f1[index])\n",
    "            for index in index_to_type], key=lambda a:a[2], reverse=True):\n",
    "    print(\"%22s : %8.3f %8.3f %8.3f\" % (type_name, train_type_f1, test_type_f1, figer_gold_type_f1)) "
   ]
  },
  {
   "cell_type": "code",
   "execution_count": 162,
   "metadata": {
    "collapsed": false
   },
   "outputs": [],
   "source": [
    "# mistakes dictionary\n",
    "mistake_dict = {}\n",
    "correct_dict = {}\n",
    "for i, (y_gold, y_pred) in enumerate(zip(ys_test, y_test_pred)):\n",
    "    if y_gold != y_pred:\n",
    "        mistake_dict.setdefault(y_gold, {})\n",
    "        mistake_dict[y_gold].setdefault(y_pred, [])\n",
    "        mistake_dict[y_gold][y_pred].append(i)\n",
    "    else:\n",
    "        correct_dict.setdefault(y_gold, [])\n",
    "        correct_dict[y_gold].append(i)"
   ]
  },
  {
   "cell_type": "code",
   "execution_count": 163,
   "metadata": {
    "collapsed": true
   },
   "outputs": [],
   "source": [
    "# mistakes dictionary\n",
    "figer_gold_mistake_dict = {}\n",
    "figer_gold_correct_dict = {}\n",
    "for i, (y_gold, y_pred) in enumerate(zip(ys_figer_gold, y_figer_gold_pred)):\n",
    "    if y_gold != y_pred:\n",
    "        figer_gold_mistake_dict.setdefault(y_gold, {})\n",
    "        figer_gold_mistake_dict[y_gold].setdefault(y_pred, [])\n",
    "        figer_gold_mistake_dict[y_gold][y_pred].append(i)\n",
    "    else:\n",
    "        figer_gold_correct_dict.setdefault(y_gold, [])\n",
    "        figer_gold_correct_dict[y_gold].append(i)"
   ]
  },
  {
   "cell_type": "code",
   "execution_count": 164,
   "metadata": {
    "collapsed": true
   },
   "outputs": [],
   "source": [
    "def plot_confusion_matrix(cm, classes,\n",
    "                          normalize=False,\n",
    "                          title='Confusion matrix',\n",
    "                          annotate=False,\n",
    "                          cmap=plt.cm.Blues):\n",
    "    \"\"\"\n",
    "    This function prints and plots the confusion matrix.\n",
    "    Normalization can be applied by setting `normalize=True`.\n",
    "    \"\"\"\n",
    "    \n",
    "    if normalize:\n",
    "        orginal_cm = cm\n",
    "        cm = cm.astype('float') / np.maximum(1, cm.sum(axis=1)[:, np.newaxis])\n",
    "        print(\"Normalized confusion matrix\")\n",
    "    else:\n",
    "        print('Confusion matrix, without normalization')\n",
    "    \n",
    "#     print(cm)\n",
    "    \n",
    "    plt.imshow(cm, interpolation='nearest', cmap=cmap)\n",
    "    plt.title(title)\n",
    "    plt.colorbar()\n",
    "    tick_marks = np.arange(len(classes))\n",
    "    plt.xticks(tick_marks, classes, rotation=45)\n",
    "    plt.yticks(tick_marks, classes)\n",
    "\n",
    "    thresh = cm.max() / 2.\n",
    "    if annotate:\n",
    "        for i, j in itertools.product(range(cm.shape[0]), range(cm.shape[1])):\n",
    "            plt.text(j, i, cm[i, j],\n",
    "                     horizontalalignment=\"center\",\n",
    "                     color=\"white\" if cm[i, j] > thresh else \"black\")\n",
    "\n",
    "    plt.tight_layout()\n",
    "    plt.ylabel('True label')\n",
    "    plt.xlabel('Predicted label')\n",
    "\n"
   ]
  },
  {
   "cell_type": "code",
   "execution_count": 1017,
   "metadata": {
    "collapsed": true
   },
   "outputs": [
    {
     "name": "stdout",
     "output_type": "stream",
     "text": [
      "Confusion matrix, without normalization\n",
      "Normalized confusion matrix\n"
     ]
    },
    {
     "data": {
      "image/png": "[encoded data removed]",
      "text/plain": [
       "<matplotlib.figure.Figure at 0x1680fa250>"
      ]
     },
     "metadata": {},
     "output_type": "display_data"
    },
    {
     "data": {
      "image/png": "[encoded data removed]",
      "text/plain": [
       "<matplotlib.figure.Figure at 0x160c7a750>"
      ]
     },
     "metadata": {},
     "output_type": "display_data"
    }
   ],
   "source": [
    "\n",
    "# Compute confusion matrix\n",
    "cnf_matrix = confusion_matrix(ys_test, y_test_pred, classes)\n",
    "np.set_printoptions(precision=2)\n",
    "\n",
    "# Plot non-normalized confusion matrix\n",
    "plt.figure(figsize=(15,15))\n",
    "class_names = [index_to_type[k] for k in xrange(len(index_to_type))]\n",
    "plot_confusion_matrix(cnf_matrix, classes=class_names, annotate=True,\n",
    "                      title='Confusion matrix, without normalization')\n",
    "\n",
    "# Plot normalized confusion matrix\n",
    "plt.figure(figsize=(15,15))\n",
    "plot_confusion_matrix(cnf_matrix, classes=class_names, normalize=True,\n",
    "                      title='Normalized confusion matrix')\n",
    "\n",
    "plt.show()"
   ]
  },
  {
   "cell_type": "code",
   "execution_count": 89,
   "metadata": {
    "collapsed": false
   },
   "outputs": [
    {
     "data": {
      "text/plain": [
       "{0, 1, 2, 3, 4, 5, 6, 7, 8, 10, 11, 12, 13, 14}"
      ]
     },
     "execution_count": 89,
     "metadata": {},
     "output_type": "execute_result"
    }
   ],
   "source": [
    "set(ys_figer_gold)"
   ]
  },
  {
   "cell_type": "code",
   "execution_count": 165,
   "metadata": {
    "collapsed": false,
    "scrolled": false
   },
   "outputs": [
    {
     "name": "stdout",
     "output_type": "stream",
     "text": [
      "Confusion matrix, without normalization\n",
      "Normalized confusion matrix\n"
     ]
    },
    {
     "data": {
      "image/png": "[encoded data removed]",
      "text/plain": [
       "<matplotlib.figure.Figure at 0x112b80510>"
      ]
     },
     "metadata": {},
     "output_type": "display_data"
    },
    {
     "data": {
      "image/png": "[encoded data removed]",
      "text/plain": [
       "<matplotlib.figure.Figure at 0x171e17650>"
      ]
     },
     "metadata": {},
     "output_type": "display_data"
    }
   ],
   "source": [
    "# Compute confusion matrix\n",
    "figer_gold_cnf_matrix = confusion_matrix(ys_figer_gold, y_figer_gold_pred, classes)\n",
    "np.set_printoptions(precision=2)\n",
    "\n",
    "# Plot non-normalized confusion matrix\n",
    "plt.figure(figsize=(15,15))\n",
    "class_names = [index_to_type[k] for k in xrange(len(index_to_type))]\n",
    "plot_confusion_matrix(figer_gold_cnf_matrix, classes=class_names, annotate=True,\n",
    "                      title='Figer Gold Confusion matrix, without normalization')\n",
    "\n",
    "# Plot normalized confusion matrix\n",
    "plt.figure(figsize=(15,15))\n",
    "plot_confusion_matrix(figer_gold_cnf_matrix, classes=class_names, normalize=True,\n",
    "                      title='Figer Gold Normalized confusion matrix')\n",
    "\n",
    "plt.show()"
   ]
  },
  {
   "cell_type": "code",
   "execution_count": 166,
   "metadata": {
    "collapsed": false
   },
   "outputs": [],
   "source": [
    "def interpret_prediction(lin_classifier, doc, surface, x, y_gold, index_to_feat, index_to_type, dense_feat_names, \n",
    "                         num_dense, dense_dims, \n",
    "                         num_top_sparse_feats=5):\n",
    "    # assumes all dense feats are at last\n",
    "    \n",
    "    num_dense_dims = sum(dense_dims)\n",
    "    \n",
    "    # shape (num_classes, num_feats)\n",
    "    scores_matrix = x.toarray().flatten() * lin_classifier.coef_\n",
    "    # get best axis ≠ y\n",
    "    class_scores = np.sum(scores_matrix, axis=1) + lin_classifier.intercept_\n",
    "    gold_not_given = False\n",
    "    if y_gold == -1:\n",
    "        print \"CAUTION - gold label not provided! treating the best prediciton as gold.\\n\\n\"\n",
    "        gold_not_given = True\n",
    "        y_gold = np.argmax(class_scores)\n",
    "    y_gold_score = class_scores[y_gold]\n",
    "    top_classes = list(np.argsort(-class_scores))\n",
    "    gold_position = top_classes.index(y_gold) + 1\n",
    "    y_hat = top_classes[1] if gold_position == 1 else top_classes[0]\n",
    "    y_hat_score = class_scores[y_hat]\n",
    "    \n",
    "    def print_top_sparse_feats(sparse_feat_scores):\n",
    "        top_sparse_indices = np.argsort(-np.abs(sparse_feat_scores))\n",
    "        def print_scores(positive):\n",
    "            count = num_top_sparse_feats\n",
    "            i = 0\n",
    "            while count > 0:\n",
    "                feat_index = top_sparse_indices[i]\n",
    "                feat = index_to_feat[feat_index]\n",
    "                feat_score = sparse_feat_scores[feat_index]\n",
    "                if (positive and feat_score > 0) or ((not positive) and feat_score < 0):\n",
    "                    count -= 1\n",
    "                    print \"%-30s : %.3f\" % (feat, feat_score)\n",
    "                elif feat_score == 0:\n",
    "                    break\n",
    "                i += 1\n",
    "        print \"top +ve sparse feats:\"\n",
    "        print \"-\"*21 + \"\\n\"\n",
    "        print_scores(True)\n",
    "        print \"\"\n",
    "        print \"top -ve sparse feats:\"\n",
    "        print \"-\"*21 + \"\\n\"\n",
    "        print_scores(False)\n",
    "            \n",
    "    \n",
    "    def print_dense(dense_feat_scores):\n",
    "        print \"dense feats:\"\n",
    "        print \"-\"*12 + \"\\n\"\n",
    "        for name, score in zip(dense_feat_names, dense_feat_scores):\n",
    "            print \"%-30s : %.3f\" % (name, score)\n",
    "    \n",
    "    print \"sentence -> %s\" % doc\n",
    "    print \"\\n\"\n",
    "    print \"mention -> \\\"%s\\\"\" % surface\n",
    "    print \"\\n\"\n",
    "    \n",
    "    if not gold_not_given:\n",
    "        print \"%s prediction\" % (\"✔\" if y_gold_score > y_hat_score else \"✘\")\n",
    "        print \"rank of gold = %d\" % gold_position\n",
    "        print \"\\n\"\n",
    "    \n",
    "    print \"gold class, \\\"%s\\\" score = %.3f\" % (index_to_type[y_gold], y_gold_score)\n",
    "    print \"-\"*38 + \"\\n\"\n",
    "    dense_scores = scores_matrix[y_gold][-num_dense_dims:]\n",
    "    dense_feat_scores = []\n",
    "    cur_index = 0\n",
    "    for i in xrange(num_dense):\n",
    "        dense_dim = dense_dims[i]\n",
    "        dense_feat_scores.append( np.sum(dense_scores[cur_index:cur_index+dense_dim]) )\n",
    "        cur_index += dense_dim\n",
    "    print_dense(dense_feat_scores)\n",
    "    print \"\\n\"\n",
    "    print_top_sparse_feats(scores_matrix[y_gold][:-num_dense_dims])\n",
    "    print \"\\n\"\n",
    "\n",
    "    \n",
    "    print \"\\n\"\n",
    "    \n",
    "\n",
    "    print \"pred (≠ gold) class, \\\"%s\\\" score = %.3f\" % (index_to_type[y_hat], y_hat_score)\n",
    "    print \"-\"*51 + \"\\n\"\n",
    "    dense_feat_scores = np.sum(np.reshape(scores_matrix[y_hat][-num_dense_dims:], (-1, dense_dim)), axis=1)\n",
    "    print_dense(dense_feat_scores)\n",
    "    print \"\\n\"\n",
    "    print_top_sparse_feats(scores_matrix[y_hat][:-num_dense_dims])\n",
    "    print \"\\n\"\n"
   ]
  },
  {
   "cell_type": "code",
   "execution_count": 196,
   "metadata": {
    "collapsed": false
   },
   "outputs": [
    {
     "data": {
      "text/plain": [
       "{1: [530], 4: [520, 521]}"
      ]
     },
     "execution_count": 196,
     "metadata": {},
     "output_type": "execute_result"
    }
   ],
   "source": [
    "figer_gold_mistake_dict[type_lex.lexeme_to_index['living_thing']]"
   ]
  },
  {
   "cell_type": "code",
   "execution_count": 93,
   "metadata": {
    "collapsed": false
   },
   "outputs": [],
   "source": [
    "# correct_dict[type_lex.lexeme_to_index['law']]"
   ]
  },
  {
   "cell_type": "markdown",
   "metadata": {},
   "source": [
    "# Comments\n",
    "\n",
    "sentence -> A limited liability corporation headed by Hansen recently purchased 3 acres on the east side of Occidental Avenue South between South Massachusetts and South Holgate streets . \n",
    "\n",
    "comment -> \"streets\" indicate \"Occidental Avenue South\", \"South Massachusetts\", and \"South Holgate\" as \"transportation.road\".\n",
    "\n",
    "reannotate ontonotes \"museum\"'s, \"hospital\"'s with type facility instead of organization (\"resorts\" and \"clinic\" - more data)"
   ]
  },
  {
   "cell_type": "code",
   "execution_count": 234,
   "metadata": {
    "collapsed": true
   },
   "outputs": [],
   "source": [
    "debug_count = 0"
   ]
  },
  {
   "cell_type": "code",
   "execution_count": 210,
   "metadata": {
    "collapsed": false
   },
   "outputs": [
    {
     "ename": "KeyError",
     "evalue": "'malinois'",
     "output_type": "error",
     "traceback": [
      "\u001b[0;31m---------------------------------------------------------------------------\u001b[0m",
      "\u001b[0;31mKeyError\u001b[0m                                  Traceback (most recent call last)",
      "\u001b[0;32m<ipython-input-210-285bce4343e7>\u001b[0m in \u001b[0;36m<module>\u001b[0;34m()\u001b[0m\n\u001b[0;32m----> 1\u001b[0;31m \u001b[0mkba\u001b[0m\u001b[0;34m.\u001b[0m\u001b[0msurface_to_type_dist\u001b[0m\u001b[0;34m[\u001b[0m\u001b[0;34m\"malinois\"\u001b[0m\u001b[0;34m]\u001b[0m\u001b[0;34m\u001b[0m\u001b[0m\n\u001b[0m",
      "\u001b[0;31mKeyError\u001b[0m: 'malinois'"
     ]
    }
   ],
   "source": [
    "kba.surface_to_type_dist[\"malinois\"]"
   ]
  },
  {
   "cell_type": "code",
   "execution_count": 226,
   "metadata": {
    "collapsed": false
   },
   "outputs": [
    {
     "name": "stdout",
     "output_type": "stream",
     "text": [
      "JP Investment Clinic                     --> organization\n",
      "the Cleveland Clinic                     --> organization\n",
      "Mayo Clinic                              --> organization\n",
      "Mayo Clinic                              --> organization\n",
      "Black Forest Clinic                      --> work\n"
     ]
    }
   ],
   "source": [
    "for s, index in zip(train_surfaces, ys_train):\n",
    "    if \"clinic\" in s.lower():\n",
    "        print \"%-40s --> %s\" % (s, index_to_type[index])"
   ]
  },
  {
   "cell_type": "code",
   "execution_count": 236,
   "metadata": {
    "collapsed": false,
    "scrolled": false
   },
   "outputs": [
    {
     "name": "stdout",
     "output_type": "stream",
     "text": [
      "sentence -> The AAAS is the largest scientific society in the world and publishes journals such as Science , and Science Translational Medicine . \n",
      "\n",
      "\n",
      "mention -> \"Science Translational Medicine\"\n",
      "\n",
      "\n",
      "✘ prediction\n",
      "rank of gold = 2\n",
      "\n",
      "\n",
      "gold class, \"work\" score = -336.912\n",
      "--------------------------------------\n",
      "\n",
      "dense feats:\n",
      "------------\n",
      "\n",
      "w2v-mention                    : -445.160\n",
      "topic-score                    : -50.649\n",
      "\n",
      "\n",
      "top +ve sparse feats:\n",
      "---------------------\n",
      "\n",
      "wim=Aa                         : 93.757\n",
      "wim=Science                    : 68.692\n",
      "wim_lemma=science              : 68.692\n",
      "wim_loc=b2-Science             : 35.540\n",
      "wim_loc_lemma=b2-science       : 35.540\n",
      "\n",
      "top -ve sparse feats:\n",
      "---------------------\n",
      "\n",
      "word_shape=Aa Aa Aa            : -50.742\n",
      "wim_lemma=medicine             : -18.272\n",
      "wim_loc_lemma=b0-medicine      : -18.272\n",
      "wim=Medicine                   : -18.272\n",
      "wim_loc=b0-Medicine            : -18.272\n",
      "\n",
      "\n",
      "\n",
      "\n",
      "pred (≠ gold) class, \"organization\" score = 231.594\n",
      "---------------------------------------------------\n",
      "\n",
      "dense feats:\n",
      "------------\n",
      "\n",
      "w2v-mention                    : 149.253\n",
      "topic-score                    : -48.329\n",
      "\n",
      "\n",
      "top +ve sparse feats:\n",
      "---------------------\n",
      "\n",
      "wim_lemma=medicine             : 45.596\n",
      "wim=Medicine                   : 45.596\n",
      "wim=Aa                         : 29.381\n",
      "wim_loc_lemma=b0-medicine      : 22.285\n",
      "wim_loc=b0-Medicine            : 22.285\n",
      "\n",
      "top -ve sparse feats:\n",
      "---------------------\n",
      "\n",
      "wim_loc_lemma=b2-science       : -47.226\n",
      "wim_loc=b2-Science             : -47.226\n",
      "word_shape=Aa Aa Aa            : -24.402\n",
      "wim_lemma=science              : -21.545\n",
      "wim=Science                    : -21.545\n",
      "\n",
      "\n"
     ]
    }
   ],
   "source": [
    "# i = figer_gold_mistake_dict[type_lex.lexeme_to_index['work']][type_lex.lexeme_to_index['person']][debug_count]\n",
    "# i = figer_gold_mistake_dict[type_lex.lexeme_to_index['organization']][type_lex.lexeme_to_index['location']][debug_count]\n",
    "# i = figer_gold_mistake_dict[type_lex.lexeme_to_index['living_thing']][type_lex.lexeme_to_index['norpl']][debug_count]\n",
    "i = figer_gold_mistake_dict[type_lex.lexeme_to_index['work']][type_lex.lexeme_to_index['organization']][debug_count]\n",
    "debug_count += 1\n",
    "interpret_prediction(logreg,\n",
    "                     figer_gold_docs[figer_gold_doc_indices[i]], figer_gold_surfaces[i],\n",
    "                     X_figer_gold[i], ys_figer_gold[i],\n",
    "                     index_to_feat, index_to_type, [\"w2v-mention\", \"topic-score\"], 2, [300, 50],\n",
    "                     num_top_sparse_feats=5\n",
    "                    )"
   ]
  },
  {
   "cell_type": "code",
   "execution_count": 237,
   "metadata": {
    "collapsed": false
   },
   "outputs": [
    {
     "data": {
      "text/plain": [
       "array([[ -592.35,  -900.24, -1151.95,  -740.88,  -576.68,  -661.63,\n",
       "          231.59,  -336.91,  -401.05,  -560.35,  -870.55, -1036.94,\n",
       "         -539.58,  -500.19,  -504.47]])"
      ]
     },
     "execution_count": 237,
     "metadata": {},
     "output_type": "execute_result"
    }
   ],
   "source": [
    "logreg.decision_function(X_figer_gold[i])"
   ]
  },
  {
   "cell_type": "code",
   "execution_count": 122,
   "metadata": {
    "collapsed": true
   },
   "outputs": [],
   "source": [
    "doc = figer_gold_docs[figer_gold_doc_indices[i]]"
   ]
  },
  {
   "cell_type": "code",
   "execution_count": 124,
   "metadata": {
    "collapsed": false
   },
   "outputs": [
    {
     "data": {
      "text/plain": [
       "{'hearst_ncompmod': [(0, [1]), (1, [2])]}"
      ]
     },
     "execution_count": 124,
     "metadata": {},
     "output_type": "execute_result"
    }
   ],
   "source": [
    "hyp_pattern_annotator.hyp_pattern_extractor.apply_all_patterns_on_doc(doc)"
   ]
  },
  {
   "cell_type": "code",
   "execution_count": null,
   "metadata": {
    "collapsed": true
   },
   "outputs": [],
   "source": []
  },
  {
   "cell_type": "code",
   "execution_count": 996,
   "metadata": {
    "collapsed": false
   },
   "outputs": [
    {
     "data": {
      "text/plain": [
       "145"
      ]
     },
     "execution_count": 996,
     "metadata": {},
     "output_type": "execute_result"
    }
   ],
   "source": [
    "figer_gold_surfaces.index('San Antonio Spurs')"
   ]
  },
  {
   "cell_type": "code",
   "execution_count": 997,
   "metadata": {
    "collapsed": true
   },
   "outputs": [],
   "source": [
    "def print_synset_with_def(word):\n",
    "    synsets = wn.synsets(word, 'n')\n",
    "    for synset in synsets:\n",
    "        print(\"%s - %d - %s\" % (synset, synset.offset(), synset.definition()))"
   ]
  },
  {
   "cell_type": "code",
   "execution_count": 800,
   "metadata": {
    "collapsed": true
   },
   "outputs": [
    {
     "name": "stdout",
     "output_type": "stream",
     "text": [
      "streets ({u'4335209_n': 0.38568958256649305, u'14516256_n': 0.28059687123254651, u'14485811_n': 0.22626387059362552, u'8225426_n': 0.31594839556319565, u'4334599_n': 0.40805306925348578}) \n",
      "Avenue ({u'941604_n': 0.22768611402742372, u'2763472_n': 0.40439907782951973}) \n",
      "South ({u'9050730_n': 0.5370128722458396, u'9050244_n': 0.43209950244714318, u'8561583_n': 0.4955123940731509, u'13835899_n': 0.2846012885688457, u'13833375_n': 0.19321643613815637}) \n",
      "side ({u'8408709_n': 0.32322112892543953, u'6783265_n': 0.29312259349194369, u'5551318_n': 0.31845582048284549, u'8102282_n': 0.24261407127184773, u'7442569_n': 0.24891334789603778, u'8649345_n': 0.3649049217773645, u'7655626_n': 0.2671162929180827, u'5852553_n': 0.17060880169401538, u'9437454_n': 0.20730169931987882, u'4213626_n': 0.20898956896527321, u'8510666_n': 0.29095535729980537, u'8649167_n': 0.33405396788111102}) \n",
      "liability ({u'14490319_n': 0.29603206398969711, u'5161436_n': 0.2936899765200025, u'14530403_n': 0.28255214753817914}) \n",
      "Occidental ({u'6897474_n': 0.13942535279040791, u'10369845_n': 0.27592914746848157}) \n",
      "Massachusetts ({u'9095023_n': 0.40531427384870966, u'9095606_n': 0.38031059984971727, u'9660373_n': 0.49098533962738627, u'6910639_n': 0.090531622392930874}) \n",
      "corporation ({u'5556071_n': 0.097583952661717238, u'8059412_n': 0.34961840122825427}) \n",
      "South ({u'9050730_n': 0.5370128722458396, u'9050244_n': 0.43209950244714318, u'8561583_n': 0.4955123940731509, u'13835899_n': 0.2846012885688457, u'13833375_n': 0.19321643613815637}) \n",
      "South ({u'9050730_n': 0.5370128722458396, u'9050244_n': 0.43209950244714318, u'8561583_n': 0.4955123940731509, u'13835899_n': 0.2846012885688457, u'13833375_n': 0.19321643613815637}) \n",
      "acres ({u'13613742_n': 0.43135089814025274, u'13246662_n': 0.39996559797387748, u'8793310_n': 0.42083855230174827, u'8854725_n': 0.4141804408697648}) \n"
     ]
    }
   ],
   "source": [
    "print_view(figer_docs[figer_doc_indices[i]], NSDView.NSD_VIEW_NAME)"
   ]
  },
  {
   "cell_type": "code",
   "execution_count": 797,
   "metadata": {
    "collapsed": true
   },
   "outputs": [
    {
     "name": "stdout",
     "output_type": "stream",
     "text": [
      "South Holgate ({'transportation.road': 1.0, 'location': 1.0, 'language': 1.0, 'person': 1.0}) \n",
      "Occidental Avenue South ({'product': 1.0, 'language': 1.0, 'body_part': 1.0, 'person': 1.0, 'location': 1.0, 'transportation.road': 1.0, 'organization': 1.0, 'event': 1.0, 'geography': 1.0}) \n",
      "Hansen ({'body_part': 1.0, 'organization.company': 1.0, 'organization': 1.0}) \n",
      "3 acres ({'product': 1.0, 'body_part': 1.0, 'location': 1.0, 'organization': 1.0, 'event': 1.0, 'geography': 1.0}) \n",
      "South Massachusetts ({'transportation.road': 1.0, 'location': 1.0, 'event': 1.0, 'language': 1.0, 'person': 1.0}) \n"
     ]
    }
   ],
   "source": [
    "print_view(figer_docs[figer_doc_indices[i]], FineTypeView.FINE_TYPE_VIEW_NAME)"
   ]
  },
  {
   "cell_type": "code",
   "execution_count": 173,
   "metadata": {
    "collapsed": false,
    "scrolled": false
   },
   "outputs": [],
   "source": [
    "# s = \" Avenue\"\n",
    "# for k in kba.surface_to_type_dist:\n",
    "#     if s in k:\n",
    "#         print k\n",
    "#         print kba.surface_to_type_dist[k]"
   ]
  },
  {
   "cell_type": "code",
   "execution_count": 804,
   "metadata": {
    "collapsed": false
   },
   "outputs": [
    {
     "name": "stdout",
     "output_type": "stream",
     "text": [
      "Synset('occidental.n.01') - 10369845 - a native inhabitant of the Occident\n",
      "Synset('occidental.n.02') - 6897474 - an artificial language\n"
     ]
    }
   ],
   "source": [
    "print_synset_with_def('Occidental')"
   ]
  },
  {
   "cell_type": "code",
   "execution_count": 175,
   "metadata": {
    "collapsed": false
   },
   "outputs": [
    {
     "name": "stdout",
     "output_type": "stream",
     "text": [
      "sentence -> Hirsh , managing partner of Stafford Sports in New Jersey , has advised the San Antonio Spurs through construction of their new arena , the AT&T Center . \n",
      "\n",
      "\n",
      "mention -> \"San Antonio Spurs\"\n",
      "\n",
      "\n",
      "✘ prediction\n",
      "rank of gold = 2\n",
      "\n",
      "\n",
      "gold class, \"organization\" score = -15.848\n",
      "--------------------------------------\n",
      "\n",
      "dense feats:\n",
      "------------\n",
      "\n",
      "w2v-mention                    : -252.066\n",
      "topic-score                    : 112.616\n",
      "\n",
      "\n",
      "top +ve sparse feats:\n",
      "---------------------\n",
      "\n",
      "kbbias=organization.sports_team : 146.492\n",
      "wim=Aa                         : 29.381\n",
      "dep_feature=<- advise          : 22.970\n",
      "wim=San                        : 11.073\n",
      "wim_lemma=san                  : 11.073\n",
      "\n",
      "top -ve sparse feats:\n",
      "---------------------\n",
      "\n",
      "dep_feature=-> the             : -36.483\n",
      "word_shape=Aa Aa Aa            : -24.402\n",
      "wim_loc=f0-San                 : -12.479\n",
      "wim_loc_lemma=f0-san           : -12.479\n",
      "dep_feature=-det-> the         : -1.867\n",
      "\n",
      "\n",
      "\n",
      "\n",
      "pred (≠ gold) class, \"location\" score = 104.671\n",
      "---------------------------------------------------\n",
      "\n",
      "dense feats:\n",
      "------------\n",
      "\n",
      "w2v-mention                    : -8.798\n",
      "topic-score                    : -5.210\n",
      "\n",
      "\n",
      "top +ve sparse feats:\n",
      "---------------------\n",
      "\n",
      "kbbias=organization.sports_team : 124.555\n",
      "wim_loc_lemma=b2-san           : 87.107\n",
      "wim_lemma=san                  : 81.962\n",
      "wim_loc=f0-San                 : 61.659\n",
      "wim_loc_lemma=f0-san           : 61.659\n",
      "\n",
      "top -ve sparse feats:\n",
      "---------------------\n",
      "\n",
      "wim=Aa                         : -292.890\n",
      "\n",
      "\n"
     ]
    }
   ],
   "source": [
    "# with figer docs\n",
    "i = 295 # house bill 2221\n",
    "i = 126 # sonics\n",
    "i = 146 # San Antonio Spurs\n",
    "i = 147 # Orlando Magic\n",
    "i = 152 # New Jersey Nets\n",
    "# with figer gold docs\n",
    "i = 145 # San Antonio Spurs\n",
    "interpret_prediction(logreg,\n",
    "                     figer_gold_docs[figer_gold_doc_indices[i]], figer_gold_surfaces[i],\n",
    "                     X_figer_gold[i], ys_figer_gold[i],\n",
    "                     index_to_feat, index_to_type, [\"w2v-mention\", \"topic-score\"], 2, [300, 50],\n",
    "                     num_top_sparse_feats=5\n",
    "                    )"
   ]
  },
  {
   "cell_type": "code",
   "execution_count": 197,
   "metadata": {
    "collapsed": false
   },
   "outputs": [
    {
     "data": {
      "text/plain": [
       "{0: 'person',\n",
       " 1: 'location',\n",
       " 2: 'time',\n",
       " 3: 'title',\n",
       " 4: 'norpl',\n",
       " 5: 'event',\n",
       " 6: 'organization',\n",
       " 7: 'work',\n",
       " 8: 'medicine',\n",
       " 9: 'finance.currency',\n",
       " 10: 'building',\n",
       " 11: 'law',\n",
       " 12: 'living_thing',\n",
       " 13: 'product',\n",
       " 14: 'transportation.road'}"
      ]
     },
     "execution_count": 197,
     "metadata": {},
     "output_type": "execute_result"
    }
   ],
   "source": [
    "index_to_type"
   ]
  }
 ],
 "metadata": {
  "anaconda-cloud": {},
  "kernelspec": {
   "display_name": "Python [conda env:dataless_finer]",
   "language": "python",
   "name": "conda-env-dataless_finer-py"
  },
  "language_info": {
   "codemirror_mode": {
    "name": "ipython",
    "version": 2
   },
   "file_extension": ".py",
   "mimetype": "text/x-python",
   "name": "python",
   "nbconvert_exporter": "python",
   "pygments_lexer": "ipython2",
   "version": "2.7.13"
  }
 },
 "nbformat": 4,
 "nbformat_minor": 1
}
