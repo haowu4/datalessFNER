{
 "cells": [
  {
   "cell_type": "code",
   "execution_count": 20,
   "metadata": {
    "collapsed": false
   },
   "outputs": [
    {
     "name": "stdout",
     "output_type": "stream",
     "text": [
      "using sklearn version -> 0.18.1\n"
     ]
    }
   ],
   "source": [
    "import matplotlib\n",
    "%matplotlib inline\n",
    "\n",
    "# core libs\n",
    "import os\n",
    "import itertools\n",
    "from collections import defaultdict, OrderedDict\n",
    "import json\n",
    "import yaml\n",
    "import codecs\n",
    "import re\n",
    "from operator import itemgetter\n",
    "import cPickle as pickle\n",
    "\n",
    "from functools import wraps\n",
    "from unidecode import unidecode\n",
    "\n",
    "# numerical and ml libs\n",
    "import numpy as np\n",
    "from scipy.sparse import coo_matrix, hstack, csr_matrix\n",
    "from nltk.corpus import wordnet as wn\n",
    "import spacy\n",
    "import sklearn\n",
    "print(\"using sklearn version -> %s\" % sklearn.__version__)\n",
    "from sklearn.metrics import f1_score, confusion_matrix\n",
    "from sklearn import linear_model, datasets, svm, ensemble\n",
    "from sklearn.utils.extmath import safe_sparse_dot\n",
    "import matplotlib.pyplot as plt\n",
    "\n",
    "# project files\n",
    "from dfiner.ontonote.ontonotes_data import load_ontonotes, read_figer, GoldMentionView\n",
    "\n",
    "from dfiner.utils import get_default_config, get_size, dump_pickle, load_pickle\n",
    "from dfiner.datastructures.utils import print_view\n",
    "from dfiner.annotators.hyp_pattern_annotator import HypPatternAnnotator\n",
    "from dfiner.annotators.kb_bias_annotator import KBBiasTypeAnnotator\n",
    "from dfiner.annotators.nsd_annotator import NSDView\n",
    "from dfiner.annotators.fine_type_annotator import FineTypeView, SynsetFineTyper\n",
    "from dfiner.annotators import get_non_default_annotator\n",
    "import dfiner.ontonotes_annotation_extender as oae\n",
    "from dfiner.topics import get_embedding_func, EmbeddingsType\n",
    "from dfiner.classifier.lexicon import Lexicon\n",
    "from dfiner.classifier.feature_function import DenseFeatureFunction, FeatureExtractor, FeatureFunction, FeatureStroage\n",
    "\n",
    "import fastFM\n",
    "\n",
    "FeatureStroage.set_cache_dir(\"/home/haowu4/.py_cache\")\n"
   ]
  },
  {
   "cell_type": "code",
   "execution_count": 24,
   "metadata": {
    "collapsed": false
   },
   "outputs": [
    {
     "name": "stdout",
     "output_type": "stream",
     "text": [
      "CPU times: user 12.8 s, sys: 3.61 s, total: 16.4 s\n",
      "Wall time: 3min 55s\n"
     ]
    }
   ],
   "source": [
    "%%time\n",
    "config = get_default_config()\n",
    "nlp = spacy.load('en')"
   ]
  },
  {
   "cell_type": "code",
   "execution_count": 25,
   "metadata": {
    "collapsed": false
   },
   "outputs": [
    {
     "ename": "IOError",
     "evalue": "[Errno 2] No such file or directory: '/save/muddire2/projects/figer/aaai/exp.label'",
     "output_type": "error",
     "traceback": [
      "\u001b[0;31m---------------------------------------------------------------------------\u001b[0m",
      "\u001b[0;31mIOError\u001b[0m                                   Traceback (most recent call last)",
      "\u001b[0;32m<ipython-input-25-f528b141caf4>\u001b[0m in \u001b[0;36m<module>\u001b[0;34m()\u001b[0m\n\u001b[0;32m----> 1\u001b[0;31m \u001b[0mget_ipython\u001b[0m\u001b[0;34m(\u001b[0m\u001b[0;34m)\u001b[0m\u001b[0;34m.\u001b[0m\u001b[0mrun_cell_magic\u001b[0m\u001b[0;34m(\u001b[0m\u001b[0;34mu'time'\u001b[0m\u001b[0;34m,\u001b[0m \u001b[0;34mu''\u001b[0m\u001b[0;34m,\u001b[0m \u001b[0;34mu\"train_docs = load_ontonotes(nlp, config['ontonotes_train_and_dev_path'])\\ntest_docs = load_ontonotes(nlp, config['ontonotes_test_path'])\\nfiger_docs = read_figer(nlp, config['figer_path'])\\nfiger_gold_docs = read_figer(nlp, config['figer_gold'])\"\u001b[0m\u001b[0;34m)\u001b[0m\u001b[0;34m\u001b[0m\u001b[0m\n\u001b[0m",
      "\u001b[0;32m/home/haowu4/anaconda2/envs/finer/lib/python2.7/site-packages/IPython/core/interactiveshell.pyc\u001b[0m in \u001b[0;36mrun_cell_magic\u001b[0;34m(self, magic_name, line, cell)\u001b[0m\n\u001b[1;32m   2113\u001b[0m             \u001b[0mmagic_arg_s\u001b[0m \u001b[0;34m=\u001b[0m \u001b[0mself\u001b[0m\u001b[0;34m.\u001b[0m\u001b[0mvar_expand\u001b[0m\u001b[0;34m(\u001b[0m\u001b[0mline\u001b[0m\u001b[0;34m,\u001b[0m \u001b[0mstack_depth\u001b[0m\u001b[0;34m)\u001b[0m\u001b[0;34m\u001b[0m\u001b[0m\n\u001b[1;32m   2114\u001b[0m             \u001b[0;32mwith\u001b[0m \u001b[0mself\u001b[0m\u001b[0;34m.\u001b[0m\u001b[0mbuiltin_trap\u001b[0m\u001b[0;34m:\u001b[0m\u001b[0;34m\u001b[0m\u001b[0m\n\u001b[0;32m-> 2115\u001b[0;31m                 \u001b[0mresult\u001b[0m \u001b[0;34m=\u001b[0m \u001b[0mfn\u001b[0m\u001b[0;34m(\u001b[0m\u001b[0mmagic_arg_s\u001b[0m\u001b[0;34m,\u001b[0m \u001b[0mcell\u001b[0m\u001b[0;34m)\u001b[0m\u001b[0;34m\u001b[0m\u001b[0m\n\u001b[0m\u001b[1;32m   2116\u001b[0m             \u001b[0;32mreturn\u001b[0m \u001b[0mresult\u001b[0m\u001b[0;34m\u001b[0m\u001b[0m\n\u001b[1;32m   2117\u001b[0m \u001b[0;34m\u001b[0m\u001b[0m\n",
      "\u001b[0;32m<decorator-gen-59>\u001b[0m in \u001b[0;36mtime\u001b[0;34m(self, line, cell, local_ns)\u001b[0m\n",
      "\u001b[0;32m/home/haowu4/anaconda2/envs/finer/lib/python2.7/site-packages/IPython/core/magic.pyc\u001b[0m in \u001b[0;36m<lambda>\u001b[0;34m(f, *a, **k)\u001b[0m\n\u001b[1;32m    186\u001b[0m     \u001b[0;31m# but it's overkill for just that one bit of state.\u001b[0m\u001b[0;34m\u001b[0m\u001b[0;34m\u001b[0m\u001b[0m\n\u001b[1;32m    187\u001b[0m     \u001b[0;32mdef\u001b[0m \u001b[0mmagic_deco\u001b[0m\u001b[0;34m(\u001b[0m\u001b[0marg\u001b[0m\u001b[0;34m)\u001b[0m\u001b[0;34m:\u001b[0m\u001b[0;34m\u001b[0m\u001b[0m\n\u001b[0;32m--> 188\u001b[0;31m         \u001b[0mcall\u001b[0m \u001b[0;34m=\u001b[0m \u001b[0;32mlambda\u001b[0m \u001b[0mf\u001b[0m\u001b[0;34m,\u001b[0m \u001b[0;34m*\u001b[0m\u001b[0ma\u001b[0m\u001b[0;34m,\u001b[0m \u001b[0;34m**\u001b[0m\u001b[0mk\u001b[0m\u001b[0;34m:\u001b[0m \u001b[0mf\u001b[0m\u001b[0;34m(\u001b[0m\u001b[0;34m*\u001b[0m\u001b[0ma\u001b[0m\u001b[0;34m,\u001b[0m \u001b[0;34m**\u001b[0m\u001b[0mk\u001b[0m\u001b[0;34m)\u001b[0m\u001b[0;34m\u001b[0m\u001b[0m\n\u001b[0m\u001b[1;32m    189\u001b[0m \u001b[0;34m\u001b[0m\u001b[0m\n\u001b[1;32m    190\u001b[0m         \u001b[0;32mif\u001b[0m \u001b[0mcallable\u001b[0m\u001b[0;34m(\u001b[0m\u001b[0marg\u001b[0m\u001b[0;34m)\u001b[0m\u001b[0;34m:\u001b[0m\u001b[0;34m\u001b[0m\u001b[0m\n",
      "\u001b[0;32m/home/haowu4/anaconda2/envs/finer/lib/python2.7/site-packages/IPython/core/magics/execution.pyc\u001b[0m in \u001b[0;36mtime\u001b[0;34m(self, line, cell, local_ns)\u001b[0m\n\u001b[1;32m   1183\u001b[0m         \u001b[0;32melse\u001b[0m\u001b[0;34m:\u001b[0m\u001b[0;34m\u001b[0m\u001b[0m\n\u001b[1;32m   1184\u001b[0m             \u001b[0mst\u001b[0m \u001b[0;34m=\u001b[0m \u001b[0mclock2\u001b[0m\u001b[0;34m(\u001b[0m\u001b[0;34m)\u001b[0m\u001b[0;34m\u001b[0m\u001b[0m\n\u001b[0;32m-> 1185\u001b[0;31m             \u001b[0;32mexec\u001b[0m\u001b[0;34m(\u001b[0m\u001b[0mcode\u001b[0m\u001b[0;34m,\u001b[0m \u001b[0mglob\u001b[0m\u001b[0;34m,\u001b[0m \u001b[0mlocal_ns\u001b[0m\u001b[0;34m)\u001b[0m\u001b[0;34m\u001b[0m\u001b[0m\n\u001b[0m\u001b[1;32m   1186\u001b[0m             \u001b[0mend\u001b[0m \u001b[0;34m=\u001b[0m \u001b[0mclock2\u001b[0m\u001b[0;34m(\u001b[0m\u001b[0;34m)\u001b[0m\u001b[0;34m\u001b[0m\u001b[0m\n\u001b[1;32m   1187\u001b[0m             \u001b[0mout\u001b[0m \u001b[0;34m=\u001b[0m \u001b[0mNone\u001b[0m\u001b[0;34m\u001b[0m\u001b[0m\n",
      "\u001b[0;32m<timed exec>\u001b[0m in \u001b[0;36m<module>\u001b[0;34m()\u001b[0m\n",
      "\u001b[0;32m/home/haowu4/codes/datalessFNER/python/dfiner/ontonote/ontonotes_data.pyc\u001b[0m in \u001b[0;36mread_figer\u001b[0;34m(nlp, figer_path)\u001b[0m\n\u001b[1;32m     85\u001b[0m     \u001b[0mlabels\u001b[0m \u001b[0;34m=\u001b[0m \u001b[0;34m[\u001b[0m\u001b[0;34m]\u001b[0m\u001b[0;34m\u001b[0m\u001b[0m\n\u001b[1;32m     86\u001b[0m     \u001b[0mdocs\u001b[0m \u001b[0;34m=\u001b[0m \u001b[0;34m[\u001b[0m\u001b[0;34m]\u001b[0m\u001b[0;34m\u001b[0m\u001b[0m\n\u001b[0;32m---> 87\u001b[0;31m     \u001b[0;32mwith\u001b[0m \u001b[0mcodecs\u001b[0m\u001b[0;34m.\u001b[0m\u001b[0mopen\u001b[0m\u001b[0;34m(\u001b[0m\u001b[0mfiger_path\u001b[0m\u001b[0;34m,\u001b[0m \u001b[0;34m\"r\"\u001b[0m\u001b[0;34m,\u001b[0m \u001b[0;34m\"utf-8\"\u001b[0m\u001b[0;34m)\u001b[0m \u001b[0;32mas\u001b[0m \u001b[0minput\u001b[0m\u001b[0;34m:\u001b[0m\u001b[0;34m\u001b[0m\u001b[0m\n\u001b[0m\u001b[1;32m     88\u001b[0m         \u001b[0;32mfor\u001b[0m \u001b[0mi\u001b[0m\u001b[0;34m,\u001b[0m \u001b[0mline\u001b[0m \u001b[0;32min\u001b[0m \u001b[0menumerate\u001b[0m\u001b[0;34m(\u001b[0m\u001b[0minput\u001b[0m\u001b[0;34m)\u001b[0m\u001b[0;34m:\u001b[0m\u001b[0;34m\u001b[0m\u001b[0m\n\u001b[1;32m     89\u001b[0m             \u001b[0mline\u001b[0m \u001b[0;34m=\u001b[0m \u001b[0mline\u001b[0m\u001b[0;34m.\u001b[0m\u001b[0mstrip\u001b[0m\u001b[0;34m(\u001b[0m\u001b[0;34m)\u001b[0m\u001b[0;34m\u001b[0m\u001b[0m\n",
      "\u001b[0;32m/home/haowu4/anaconda2/envs/finer/lib/python2.7/codecs.pyc\u001b[0m in \u001b[0;36mopen\u001b[0;34m(filename, mode, encoding, errors, buffering)\u001b[0m\n\u001b[1;32m    894\u001b[0m             \u001b[0;31m# Force opening of the file in binary mode\u001b[0m\u001b[0;34m\u001b[0m\u001b[0;34m\u001b[0m\u001b[0m\n\u001b[1;32m    895\u001b[0m             \u001b[0mmode\u001b[0m \u001b[0;34m=\u001b[0m \u001b[0mmode\u001b[0m \u001b[0;34m+\u001b[0m \u001b[0;34m'b'\u001b[0m\u001b[0;34m\u001b[0m\u001b[0m\n\u001b[0;32m--> 896\u001b[0;31m     \u001b[0mfile\u001b[0m \u001b[0;34m=\u001b[0m \u001b[0m__builtin__\u001b[0m\u001b[0;34m.\u001b[0m\u001b[0mopen\u001b[0m\u001b[0;34m(\u001b[0m\u001b[0mfilename\u001b[0m\u001b[0;34m,\u001b[0m \u001b[0mmode\u001b[0m\u001b[0;34m,\u001b[0m \u001b[0mbuffering\u001b[0m\u001b[0;34m)\u001b[0m\u001b[0;34m\u001b[0m\u001b[0m\n\u001b[0m\u001b[1;32m    897\u001b[0m     \u001b[0;32mif\u001b[0m \u001b[0mencoding\u001b[0m \u001b[0;32mis\u001b[0m \u001b[0mNone\u001b[0m\u001b[0;34m:\u001b[0m\u001b[0;34m\u001b[0m\u001b[0m\n\u001b[1;32m    898\u001b[0m         \u001b[0;32mreturn\u001b[0m \u001b[0mfile\u001b[0m\u001b[0;34m\u001b[0m\u001b[0m\n",
      "\u001b[0;31mIOError\u001b[0m: [Errno 2] No such file or directory: '/save/muddire2/projects/figer/aaai/exp.label'"
     ]
    }
   ],
   "source": [
    "%%time\n",
    "train_docs = load_ontonotes(nlp, config['ontonotes_train_and_dev_path'])\n",
    "test_docs = load_ontonotes(nlp, config['ontonotes_test_path'])\n",
    "figer_docs = read_figer(nlp, config['figer_path'])\n",
    "figer_gold_docs = read_figer(nlp, config['figer_gold'])"
   ]
  },
  {
   "cell_type": "code",
   "execution_count": null,
   "metadata": {
    "collapsed": true
   },
   "outputs": [],
   "source": [
    "def annotate_extend(docs):\n",
    "    _ = [oae.add_titles(doc, oae.title_set) for doc in docs]\n",
    "    _ = [oae.add_typexs('MEDICINE', doc, oae.symptom_alias_set.union(oae.drug_set.union(oae.treatment_set))) for doc in docs]\n",
    "    _ = [oae.add_typexs('ANIMAL', doc, oae.animal_set) for doc in docs]\n",
    "    _ = [oae.add_typexs('ROAD', doc, oae.road_set) for doc in docs]\n",
    "    _ = [oae.fix_type1_to_type2(doc, \"ORG\", \"FAC\", oae.facility_as_org_trigger_words) for doc in docs]\n",
    "    _ = [oae.fix_type1_to_type2(doc, \"FAC\", \"ROAD\", oae.road_set) for doc in docs]"
   ]
  },
  {
   "cell_type": "code",
   "execution_count": null,
   "metadata": {
    "collapsed": false
   },
   "outputs": [],
   "source": [
    "%%time\n",
    "annotate_extend(train_docs)\n",
    "annotate_extend(test_docs)"
   ]
  },
  {
   "cell_type": "code",
   "execution_count": null,
   "metadata": {
    "collapsed": false
   },
   "outputs": [],
   "source": [
    "print \"loaded %d train docs\" % len(train_docs)\n",
    "print \"loaded %d test docs\" % len(test_docs)\n",
    "print \"loaded %d figer docs\" % len(figer_docs)\n",
    "print \"loaded %d figer gold docs\" % len(figer_gold_docs)"
   ]
  },
  {
   "cell_type": "code",
   "execution_count": null,
   "metadata": {
    "collapsed": true
   },
   "outputs": [],
   "source": [
    "kba = KBBiasTypeAnnotator(config)\n",
    "hyp_pattern_annotator = HypPatternAnnotator(nlp)"
   ]
  },
  {
   "cell_type": "code",
   "execution_count": null,
   "metadata": {
    "collapsed": false
   },
   "outputs": [],
   "source": [
    "%%time\n",
    "non_default_annotators = get_non_default_annotator(nlp, config)\n",
    "# noun_and_rule_annotators = non_default_annotators[1:]"
   ]
  },
  {
   "cell_type": "code",
   "execution_count": null,
   "metadata": {
    "collapsed": false
   },
   "outputs": [],
   "source": [
    "non_default_annotators"
   ]
  },
  {
   "cell_type": "code",
   "execution_count": null,
   "metadata": {
    "collapsed": false
   },
   "outputs": [],
   "source": [
    "%%time\n",
    "# %%prun -s cumulative\n",
    "_ = [annotator(doc) for doc in train_docs for annotator in non_default_annotators[:2]]\n",
    "_ = [annotator(doc) for doc in test_docs for annotator in non_default_annotators[:2]]\n",
    "_ = [annotator(doc) for doc in figer_docs for annotator in non_default_annotators[:2]]\n",
    "_ = [annotator(doc) for doc in figer_gold_docs for annotator in non_default_annotators[:2]]"
   ]
  },
  {
   "cell_type": "code",
   "execution_count": null,
   "metadata": {
    "collapsed": true
   },
   "outputs": [],
   "source": [
    "with open(config[\"ontonote_to_figer_map\"]) as f_in:\n",
    "    ontonotes_to_figer_course = yaml.load(f_in)\n",
    "\n",
    "def type_func(mention_constituent):\n",
    "    return ontonotes_to_figer_course[mention_constituent.name]"
   ]
  },
  {
   "cell_type": "code",
   "execution_count": null,
   "metadata": {
    "collapsed": true
   },
   "outputs": [],
   "source": [
    "def slash_to_dot(slash_str):\n",
    "    return \".\".join(slash_str.split(\"/\")[1:])\n",
    "\n",
    "def get_figer_type_func(kba):\n",
    "    def figer_type_func(mention_constituent):\n",
    "        all_types = map(slash_to_dot, mention_constituent.name.split(\",\"))\n",
    "        try:\n",
    "            course_types = list(set(map(kba.type_system.get_root, all_types)))\n",
    "            if len(course_types) > 1:\n",
    "                print \"CAUTION: more than one course types -> (%s). Assigining (%s).\" % (course_types, course_types[0])\n",
    "                return course_types[0]\n",
    "            return course_types[0]\n",
    "        except:\n",
    "            print \"CAUTION: encoutered error while looking up (%s)\" % (all_types)\n",
    "            return None\n",
    "    return figer_type_func\n",
    "\n",
    "figer_type_func = get_figer_type_func(kba)"
   ]
  },
  {
   "cell_type": "code",
   "execution_count": null,
   "metadata": {
    "collapsed": false
   },
   "outputs": [],
   "source": [
    "%%time\n",
    "# we want full w2v\n",
    "w2v_500k_pickle_path = \"/save/muddire2/GoogleNews-vectors-negative300.combined_500k.pkl\"\n",
    "with open(w2v_500k_pickle_path) as f_in:\n",
    "    w2vdict = pickle.load(f_in)"
   ]
  },
  {
   "cell_type": "code",
   "execution_count": null,
   "metadata": {
    "collapsed": true
   },
   "outputs": [],
   "source": [
    "default_w2v_mean = np.mean(list(w2vdict.values()), axis=0)\n",
    "default_w2v_zero = np.zeros(default_w2v_mean.shape)"
   ]
  },
  {
   "cell_type": "code",
   "execution_count": null,
   "metadata": {
    "collapsed": false
   },
   "outputs": [],
   "source": [
    "# extended w2v with lowercase letters\n",
    "extended_w2vdict = {}\n",
    "for w in w2vdict:\n",
    "    extended_w2vdict[w] = w2vdict[w]\n",
    "    if w.lower() not in w2vdict:\n",
    "        extended_w2vdict[w.lower()] = w2vdict[w]\n",
    "\n",
    "print \"# words in extended_w2vdict = %d\" % len(extended_w2vdict)"
   ]
  },
  {
   "cell_type": "code",
   "execution_count": null,
   "metadata": {
    "collapsed": false
   },
   "outputs": [],
   "source": [
    "lsi_embedding_func = get_embedding_func(config, EmbeddingsType.LSI, 100)\n",
    "lda_embedding_func = get_embedding_func(config, EmbeddingsType.LDA, 50)"
   ]
  },
  {
   "cell_type": "code",
   "execution_count": null,
   "metadata": {
    "collapsed": true
   },
   "outputs": [],
   "source": [
    "lsi_embedding_func()"
   ]
  },
  {
   "cell_type": "code",
   "execution_count": null,
   "metadata": {
    "collapsed": false
   },
   "outputs": [],
   "source": [
    "def word_shape_func(text):\n",
    "    text = re.sub(\"[a-z]+\", \"a\" ,text)\n",
    "    text = re.sub(\"[A-Z]+\", \"A\" ,text)\n",
    "    text = re.sub(\"[0-9]+\", \"0\" ,text)\n",
    "    return text\n",
    "\n",
    "\n",
    "\n",
    "def ngram_before(n):\n",
    "    @FeatureFunction(\"%dgram_before\" % n)\n",
    "    def f(doc, mention):\n",
    "        start, end = mention.start, mention.end\n",
    "        if start - n >= 0:\n",
    "            return [doc[start-n:start].text]\n",
    "        else:\n",
    "            return []\n",
    "    f.__name__ = \"%dgram_before\" % n\n",
    "    return f\n",
    "\n",
    "\n",
    "def ngram_after(n):\n",
    "    @FeatureFunction(\"%dgram_after\" % n)\n",
    "    def f(doc, mention):\n",
    "        start, end = mention.start, mention.end\n",
    "        if end + n <= len(doc):\n",
    "            return [doc[end:end+n].text]\n",
    "        else:\n",
    "            return []\n",
    "    f.__name__ = \"%dgram_after\" % n\n",
    "    return f\n",
    "\n",
    "\n",
    "@FeatureFunction(\"dep_feature\")\n",
    "def mention_details(doc, mention):\n",
    "    start, end = mention.start, mention.end\n",
    "    heads = [token.head for token in doc[start:end]]\n",
    "    deps = [list(token.children) for token in doc[start:end]]\n",
    "    for token, head, children in zip(doc[start:end], heads, deps):\n",
    "        if not (head.i >= start and head.i < end):            \n",
    "            yield \"<-%s- %s\" % (token.dep_, head.lemma_)\n",
    "            yield \"<- %s\" % (head.lemma_)\n",
    "        for child in children:\n",
    "            if not (child.i >= start and child.i < end):\n",
    "                yield  \"-%s-> %s\" % (child.dep_,child.lemma_)\n",
    "                yield  \"-> %s\" % (child.lemma_)\n",
    "\n",
    "\n",
    "@FeatureFunction(\"dep_feature_len2\")\n",
    "def dep_feat_len2(doc, mention):\n",
    "    start, end = mention.start, mention.end\n",
    "    heads = [token.head for token in doc[start:end]]\n",
    "    deps = [list(token.children) for token in doc[start:end]]\n",
    "    for token, head, children in zip(doc[start:end], heads, deps):\n",
    "        # len 2 deps through head\n",
    "        if head.head != head and not (start <= head.head.i < end):\n",
    "            yield \"<-%s- %s <-%s- %s\" % (token.dep_, head.lemma_, head.dep_, head.head.lemma_)\n",
    "            yield \"<- %s <- %s\" % (head.lemma_, head.head.lemma_)\n",
    "        for child in head.children:\n",
    "            if child == token or start <= child.i < end:\n",
    "                continue\n",
    "            yield \"<-%s- %s -%s-> %s\" % (token.dep_, head.lemma_, child.dep_, child.lemma_)\n",
    "            yield \"<- %s -> %s\" % (head.lemma_, child.lemma_)\n",
    "        # len 2 deps through children\n",
    "        for child in children:\n",
    "            for grandchild in child.children:\n",
    "                if start <= grandchild.i < end:\n",
    "                    continue\n",
    "                yield  \"-%s-> %s -%s-> %s\" % (child.dep_, child.lemma_, grandchild.dep_, grandchild.lemma_)\n",
    "                yield  \"-> %s -> %s\" % (child.lemma_, grandchild.lemma_)\n",
    "\n",
    "\n",
    "def word_before(position):\n",
    "    @FeatureFunction(\"word_before_%d\" % position)\n",
    "    def f(doc, mention):\n",
    "        start, end = mention.start, mention.end\n",
    "        for i in range(max(start-position,0), start):\n",
    "            yield doc[i].text\n",
    "    return f\n",
    "\n",
    "\n",
    "def word_before_loc(position):\n",
    "    @FeatureFunction(\"word_before_loc_%d\" % position)\n",
    "    def f(doc, mention):\n",
    "        start, end = mention.start, mention.end\n",
    "        for i in range(max(start-position,0), start):\n",
    "            yield \"%d-%s\" % (start - i,doc[i].text)\n",
    "    return f\n",
    "\n",
    "\n",
    "def word_before_lemma(position):\n",
    "    @FeatureFunction(\"word_before_lemma_%d\" % position)\n",
    "    def f(doc, mention):\n",
    "        start, end = mention.start, mention.end\n",
    "        for i in range(max(start-position,0), start):\n",
    "            yield doc[i].lemma_\n",
    "    return f\n",
    "\n",
    "\n",
    "def word_after(position):\n",
    "    @FeatureFunction(\"word_after_%d\" % position)\n",
    "    def f(doc, mention):\n",
    "        start, end = mention.start, mention.end\n",
    "        for i in range(end, min(end+position,len(doc))):\n",
    "            yield doc[i].text\n",
    "    return f\n",
    "\n",
    "\n",
    "def word_after_loc(position):\n",
    "    @FeatureFunction(\"word_after_loc_%d\" % position)\n",
    "    def f(doc, mention):\n",
    "        start, end = mention.start, mention.end\n",
    "        for i in range(end, min(end+position,len(doc))):\n",
    "            yield \"%d-%s\" % (i - end,doc[i].text)\n",
    "    return f\n",
    "\n",
    "\n",
    "def word_after_lemma(position):\n",
    "    @FeatureFunction(\"word_after_lemma_%d\" % position)\n",
    "    def f(doc, mention):\n",
    "        start, end = mention.start, mention.end\n",
    "        for i in range(end, min(end+position,len(doc))):\n",
    "            yield doc[i].lemma_\n",
    "        \n",
    "    return f\n",
    "\n",
    "\n",
    "@FeatureFunction(\"wim_shape\")\n",
    "def word_shape_in_mention(doc, mention):\n",
    "    start, end = mention.start, mention.end\n",
    "    for token in doc[start:end]:\n",
    "        yield word_shape_func(token.text)\n",
    "\n",
    "\n",
    "@FeatureFunction(\"wim\")\n",
    "def word_in_mention(doc, mention):\n",
    "    start, end = mention.start, mention.end\n",
    "    for token in doc[start:end]:\n",
    "        yield token.text\n",
    "\n",
    "\n",
    "@FeatureFunction(\"wim_lemma\")\n",
    "def word_in_mention_lemma(doc, mention):\n",
    "    start, end = mention.start, mention.end\n",
    "    for token in doc[start:end]:\n",
    "        yield token.lemma_\n",
    "        \n",
    "\n",
    "@FeatureFunction(\"wim_loc\")\n",
    "def word_in_mention_loc(doc, mention):\n",
    "    start, end = mention.start, mention.end\n",
    "    for i,x in enumerate(doc[start:end]):\n",
    "        yield \"f%d-%s\" % (i,x.text)\n",
    "        yield \"b%d-%s\" % ((end-start-1) - i,x.text)\n",
    "        \n",
    "\n",
    "@FeatureFunction(\"wim_loc_lemma\")\n",
    "def word_in_mention_loc_lemma(doc, mention):\n",
    "    start, end = mention.start, mention.end\n",
    "    for i,x in enumerate(doc[start:end]):\n",
    "        x = x.lemma_\n",
    "        yield \"f%d-%s\" % (i,x)\n",
    "        yield \"b%d-%s\" % ((end-start-1) - i,x)\n",
    "    \n",
    "\n",
    "def wim_ngram(n=2):\n",
    "    @FeatureFunction(\"wim_%dgram\" % n)\n",
    "    def f(doc, mention):\n",
    "        start, end = mention.start, mention.end\n",
    "        words = map(lambda token: token.text, doc[start:end])\n",
    "        for ngram_tup in zip(*[words[i:] for i in xrange(n)]):\n",
    "            yield \"-\".join(ngram_tup)\n",
    "    return f\n",
    "        \n",
    "\n",
    "def wim_ngram_lemma(n=2):\n",
    "    @FeatureFunction(\"wim_%dgram_lemma\" % n)\n",
    "    def f(doc, mention):\n",
    "        start, end = mention.start, mention.end\n",
    "        words = map(lambda token: token.lemma_, doc[start:end])\n",
    "        for ngram_tup in zip(*[words[i:] for i in xrange(n)]):\n",
    "            yield \"-\".join(ngram_tup)\n",
    "    return f\n",
    "\n",
    "\n",
    "@FeatureFunction(\"mention_shape\")\n",
    "def mention_shape(doc, mention):\n",
    "    start, end = mention.start, mention.end\n",
    "    t = \" \".join([x.text for x in doc[start:end]])\n",
    "    return [word_shape_func(t)]\n",
    "        \n",
    "\n",
    "@FeatureFunction(\"mention_length\")\n",
    "def mention_length(doc, mention):\n",
    "    start, end = mention.start, mention.end\n",
    "    return [\"%d\" % (end-start)]\n",
    "        \n",
    "\n",
    "@FeatureFunction(\"prefix\")\n",
    "def prefix(doc, mention):\n",
    "    start, end = mention.start, mention.end\n",
    "    for w in doc[start:end]:\n",
    "        for i in range(3, min(5, len(w.text))):\n",
    "            yield w.text[:i]\n",
    "        \n",
    "\n",
    "@FeatureFunction(\"suffix\")\n",
    "def postfix(doc, mention):\n",
    "    start, end = mention.start, mention.end\n",
    "    for w in doc[start:end]:\n",
    "        for i in range(3, min(5, len(w.text))):\n",
    "            yield w.text[-i:]\n",
    "\n",
    "\n",
    "# KB-Bias features\n",
    "def kbbias(kbbias_annotator):\n",
    "    @FeatureFunction(\"kbbias\")\n",
    "    def wrappee(doc, mention):\n",
    "        surface = doc[mention.start:mention.end].text\n",
    "        results = None\n",
    "        if surface in kbbias_annotator.surface_to_type_dist:\n",
    "            results = kbbias_annotator.surface_to_type_dist[surface]\n",
    "        elif (surface[:4].lower() == 'the ') and \\\n",
    "              surface[4:] in kbbias_annotator.surface_to_type_dist:\n",
    "            results = kbbias_annotator.surface_to_type_dist[surface[4:]]\n",
    "        if results:\n",
    "            return results.iteritems()\n",
    "        else:\n",
    "            return []\n",
    "    return wrappee\n",
    "\n",
    "\n",
    "def get_most_sim_from_gensim(gensim_w2v, query, topn):\n",
    "    if query in gensim_w2v.cached_most_sim:\n",
    "        return gensim_w2v.cached_most_sim[query]\n",
    "    else:\n",
    "        r = list(gensim_w2v.most_similar(query, topn=topn))\n",
    "        gensim_w2v.cached_most_sim[query] = r\n",
    "        return r\n",
    "\n",
    "# KB-Bias features\n",
    "def kbbias_approx(kbbias_annotator, gensim_word2vec, min_sim=0.5):\n",
    "    @FeatureFunction(\"kbbias_approx\")\n",
    "    def wrappee(doc, mention):\n",
    "        if mention.end - mention.start != 1:\n",
    "            return []\n",
    "        surface = doc[mention.start:mention.end].text\n",
    "        results_dist = defaultdict(float)\n",
    "        total_count = 0.0\n",
    "        if surface not in gensim_word2vec.vocab:\n",
    "            return []\n",
    "        sims = get_most_sim_from_gensim(gensim_word2vec, surface, 4)\n",
    "        for approx_word, sim_score in sims:\n",
    "            results = None\n",
    "            if sim_score < sim_score:\n",
    "                continue\n",
    "            if approx_word in kbbias_annotator.surface_to_type_dist:\n",
    "                results = kbbias_annotator.surface_to_type_dist[approx_word]\n",
    "            elif (approx_word[:4].lower() == 'the ') and \\\n",
    "                  approx_word[4:] in kbbias_annotator.surface_to_type_dist:\n",
    "                results = kbbias_annotator.surface_to_type_dist[approx_word[4:]]\n",
    "            if results:\n",
    "                for k in results:\n",
    "                    results_dist[k] += results[k]                   \n",
    "                total_count += 1.0\n",
    "        if total_count > 0:\n",
    "            for k in results_dist:\n",
    "                results_dist[k] = results_dist[k]   / total_count                 \n",
    "            return results_dist.iteritems()\n",
    "        else:\n",
    "            return []\n",
    "    \n",
    "    return wrappee\n",
    "\n",
    "@FeatureFunction(\"in_quotes\")\n",
    "def in_quotes(doc, mention):\n",
    "    \n",
    "    start, end = mention.start, mention.end\n",
    "    \n",
    "    if any([unidecode(doc[i].text) == '\"' for i in xrange(max(0, start-2), start+1)]) and \\\n",
    "       any([unidecode(doc[i].text) == '\"' for i in xrange(end-1, min(end+2, len(doc)))]):\n",
    "            return [\"in-double-quotes\"]\n",
    "    \n",
    "    if any([unidecode(doc[i].text) == \"'\" for i in xrange(max(0, start-2), start+1)]) and \\\n",
    "       any([unidecode(doc[i].text) == \"'\" for i in xrange(end-1, min(end+2, len(doc)))]):\n",
    "            return [\"in-single-quotes\"]\n",
    "    \n",
    "    return []\n",
    "\n",
    "\n",
    "synset_typer = SynsetFineTyper(config)\n",
    "take_best_sense = True\n",
    "\n",
    "\n",
    "@FeatureFunction(\"hyp_fine_types\")\n",
    "def hyp_fine_type_feats(doc, mention):\n",
    "    hyp_view = doc.user_data[HypPatternAnnotator.HYP_VIEW]\n",
    "    nsd_view = doc.user_data[NSDView.NSD_VIEW_NAME]\n",
    "\n",
    "    fine_type_scores = defaultdict(float)\n",
    "    hyp_pattern_fine_type_scores = defaultdict(float)\n",
    "    for token_constituent in hyp_view.constituents:\n",
    "        # mention covers this token\n",
    "        if mention.start <= token_constituent.start < mention.end:\n",
    "            if token_constituent.incoming_relations is None:\n",
    "                continue\n",
    "            for relation in token_constituent.incoming_relations:\n",
    "                # checking if source is inside the mention. could remove it too\n",
    "                hypernym_token_constituent = relation.source\n",
    "                if mention.start <= hypernym_token_constituent.start < mention.end:\n",
    "                    continue\n",
    "                # print doc[hypernym_token_constituent.start:hypernym_token_constituent.end]\n",
    "                for nsd_constituent in nsd_view.constituents:\n",
    "                    if nsd_constituent.start <= hypernym_token_constituent.start < nsd_constituent.end:\n",
    "                        # print nsd_constituent.label2score\n",
    "                        if take_best_sense:\n",
    "                            synset_offset_pos, score = max(nsd_constituent.label2score.items(), key=itemgetter(1))\n",
    "                            for fine_type in synset_typer.get_fine_types(synset_offset_pos):\n",
    "                                fine_type_scores[fine_type] += 1.\n",
    "                                hyp_pattern_fine_type_scores[relation.relation_name +\"=>\" + fine_type] += 1.\n",
    "                        else:\n",
    "                            for synset_offset_pos, score in nsd_constituent.label2score.iteritems():\n",
    "                                for fine_type in synset_typer.get_fine_types(synset_offset_pos):\n",
    "                                    # print fine_type\n",
    "                                    fine_type_scores[fine_type] += score\n",
    "                                    hyp_pattern_fine_type_scores[relation.relation_name +\"=>\" + fine_type] += score\n",
    "    return fine_type_scores.items() + hyp_pattern_fine_type_scores.items()\n",
    "\n",
    "\n",
    "@FeatureFunction(\"bias\")\n",
    "def CONSTANT_BIAS(doc, mention):\n",
    "    start, end = mention.start, mention.end\n",
    "    return [\"bias\"]"
   ]
  },
  {
   "cell_type": "code",
   "execution_count": null,
   "metadata": {
    "collapsed": true
   },
   "outputs": [],
   "source": [
    "def getOrDefault(m, k, d):\n",
    "    if k in m:\n",
    "        return m[k]\n",
    "    else:\n",
    "        return d\n",
    "\n",
    "\n",
    "def topicSentence(sentEmbeddingFunc, feature_name, size):\n",
    "    @DenseFeatureFunction(size)\n",
    "    def topicSentence(doc, mention):\n",
    "        tokenized_doc = [token.text for token in doc]\n",
    "        return sentEmbeddingFunc(tokenized_doc)\n",
    "    topicSentence.__name__ = feature_name\n",
    "    return topicSentence"
   ]
  },
  {
   "cell_type": "code",
   "execution_count": null,
   "metadata": {
    "collapsed": false
   },
   "outputs": [],
   "source": [
    "len(lda_embedding_func(\"I am Pavan\".split()))"
   ]
  },
  {
   "cell_type": "code",
   "execution_count": null,
   "metadata": {
    "collapsed": false
   },
   "outputs": [],
   "source": [
    "def get_ngrams_matches(token_sequence, ngram_set, max_n):\n",
    "    \"\"\"\n",
    "    From the token_sequence return all ngrams of size <= max_n.\n",
    "    Any ngram should be from the given ngram_set.\n",
    "    Ensure all tokens in the token_sequence is part of one and exactly one ngram.\n",
    "    \"\"\"\n",
    "    non_overlapping_matches = []\n",
    "    l = len(token_sequence)\n",
    "    max_n = min(l, max_n)\n",
    "    for n in xrange(max_n, 0, -1):\n",
    "        i = 0\n",
    "        while i <= l-n:\n",
    "            if any([(match[1][0]<=i<match[1][1] or match[1][0]<=i+n<match[1][1]) for match in non_overlapping_matches]):\n",
    "                # overlapping with a higher ngram. skip.\n",
    "                i += n\n",
    "                continue\n",
    "            s = \"_\".join(token_sequence[i:i+n])\n",
    "            if s in ngram_set:\n",
    "                non_overlapping_matches.append((s, (i, i+n)))\n",
    "                i += n\n",
    "                continue\n",
    "            s_lower = s.lower()\n",
    "            if s_lower in ngram_set:\n",
    "                non_overlapping_matches.append((s_lower, (i, i+n)))\n",
    "                i += n\n",
    "                continue\n",
    "            i += 1\n",
    "    return non_overlapping_matches\n",
    "                \n",
    "\n",
    "def w2vMention(w2v_dict, default_w2v, max_n=3):\n",
    "    @DenseFeatureFunction(300)\n",
    "    def w2vMention(doc, mention):\n",
    "        l = mention.end - mention.start\n",
    "        if l == 0:\n",
    "            print(doc)\n",
    "            print(\"WARNING: The length of the mention is 0!\")\n",
    "        mention_tokens = [token.text for token in doc[mention.start:mention.end]]\n",
    "        mean_vecs = [w2v_dict[match[0]] for match in get_ngrams_matches(mention_tokens, w2v_dict, max_n)]\n",
    "        return np.mean(mean_vecs, axis=0) if len(mean_vecs) else default_w2v\n",
    "    return w2vMention"
   ]
  },
  {
   "cell_type": "code",
   "execution_count": null,
   "metadata": {
    "collapsed": true
   },
   "outputs": [],
   "source": [
    "text = \"The “ working ” German shepherds and Belgian malinois \" + \\\n",
    "                 \"he cared for were either attack dogs or bomb or narcotics sniffers \"+ \\\n",
    "                 \", he said , standing in his year-old Baxter Creek Veterinary Clinic . \"\n",
    "token_sequence = text.decode('utf-8').split()"
   ]
  },
  {
   "cell_type": "code",
   "execution_count": 9,
   "metadata": {
    "collapsed": false
   },
   "outputs": [
    {
     "ename": "NameError",
     "evalue": "name 'extended_w2vdict' is not defined",
     "output_type": "error",
     "traceback": [
      "\u001b[0;31m---------------------------------------------------------------------------\u001b[0m",
      "\u001b[0;31mNameError\u001b[0m                                 Traceback (most recent call last)",
      "\u001b[0;32m<ipython-input-9-5f447755f38c>\u001b[0m in \u001b[0;36m<module>\u001b[0;34m()\u001b[0m\n\u001b[0;32m----> 1\u001b[0;31m \u001b[0mget_ngrams_matches\u001b[0m\u001b[0;34m(\u001b[0m\u001b[0mtoken_sequence\u001b[0m\u001b[0;34m,\u001b[0m \u001b[0mextended_w2vdict\u001b[0m\u001b[0;34m,\u001b[0m \u001b[0;36m2\u001b[0m\u001b[0;34m)\u001b[0m\u001b[0;34m\u001b[0m\u001b[0m\n\u001b[0m",
      "\u001b[0;31mNameError\u001b[0m: name 'extended_w2vdict' is not defined"
     ]
    }
   ],
   "source": [
    "get_ngrams_matches(token_sequence, extended_w2vdict, 2)"
   ]
  },
  {
   "cell_type": "code",
   "execution_count": 10,
   "metadata": {
    "collapsed": false
   },
   "outputs": [
    {
     "ename": "NameError",
     "evalue": "name 'figer_gold_docs' is not defined",
     "output_type": "error",
     "traceback": [
      "\u001b[0;31m---------------------------------------------------------------------------\u001b[0m",
      "\u001b[0;31mNameError\u001b[0m                                 Traceback (most recent call last)",
      "\u001b[0;32m<ipython-input-10-66f3ad3408bd>\u001b[0m in \u001b[0;36m<module>\u001b[0;34m()\u001b[0m\n\u001b[0;32m----> 1\u001b[0;31m \u001b[0mdoc\u001b[0m \u001b[0;34m=\u001b[0m \u001b[0mfiger_gold_docs\u001b[0m\u001b[0;34m[\u001b[0m\u001b[0;36m1\u001b[0m\u001b[0;34m]\u001b[0m\u001b[0;34m\u001b[0m\u001b[0m\n\u001b[0m\u001b[1;32m      2\u001b[0m \u001b[0;32mprint\u001b[0m \u001b[0mdoc\u001b[0m\u001b[0;34m\u001b[0m\u001b[0m\n\u001b[1;32m      3\u001b[0m \u001b[0;32mprint\u001b[0m \u001b[0;34m\"\"\u001b[0m\u001b[0;34m\u001b[0m\u001b[0m\n\u001b[1;32m      4\u001b[0m \u001b[0mhyp_view\u001b[0m \u001b[0;34m=\u001b[0m \u001b[0mdoc\u001b[0m\u001b[0;34m.\u001b[0m\u001b[0muser_data\u001b[0m\u001b[0;34m[\u001b[0m\u001b[0mHypPatternAnnotator\u001b[0m\u001b[0;34m.\u001b[0m\u001b[0mHYP_VIEW\u001b[0m\u001b[0;34m]\u001b[0m\u001b[0;34m\u001b[0m\u001b[0m\n\u001b[1;32m      5\u001b[0m \u001b[0mnsd_view\u001b[0m \u001b[0;34m=\u001b[0m \u001b[0mdoc\u001b[0m\u001b[0;34m.\u001b[0m\u001b[0muser_data\u001b[0m\u001b[0;34m[\u001b[0m\u001b[0mNSDView\u001b[0m\u001b[0;34m.\u001b[0m\u001b[0mNSD_VIEW_NAME\u001b[0m\u001b[0;34m]\u001b[0m\u001b[0;34m\u001b[0m\u001b[0m\n",
      "\u001b[0;31mNameError\u001b[0m: name 'figer_gold_docs' is not defined"
     ]
    }
   ],
   "source": [
    "doc = figer_gold_docs[1]\n",
    "print doc\n",
    "print \"\"\n",
    "hyp_view = doc.user_data[HypPatternAnnotator.HYP_VIEW]\n",
    "nsd_view = doc.user_data[NSDView.NSD_VIEW_NAME]\n",
    "print_view(doc, HypPatternAnnotator.HYP_VIEW)"
   ]
  },
  {
   "cell_type": "code",
   "execution_count": 11,
   "metadata": {
    "collapsed": false
   },
   "outputs": [
    {
     "ename": "NameError",
     "evalue": "name 'mention_details' is not defined",
     "output_type": "error",
     "traceback": [
      "\u001b[0;31m---------------------------------------------------------------------------\u001b[0m",
      "\u001b[0;31mNameError\u001b[0m                                 Traceback (most recent call last)",
      "\u001b[0;32m<ipython-input-11-447bc4940c27>\u001b[0m in \u001b[0;36m<module>\u001b[0;34m()\u001b[0m\n\u001b[1;32m      8\u001b[0m \u001b[0;31m#     word_in_mention, word_in_mention_lemma,\u001b[0m\u001b[0;34m\u001b[0m\u001b[0;34m\u001b[0m\u001b[0m\n\u001b[1;32m      9\u001b[0m \u001b[0;34m\u001b[0m\u001b[0m\n\u001b[0;32m---> 10\u001b[0;31m     \u001b[0mmention_details\u001b[0m\u001b[0;34m,\u001b[0m\u001b[0;34m\u001b[0m\u001b[0m\n\u001b[0m\u001b[1;32m     11\u001b[0m     \u001b[0mword_in_mention_loc\u001b[0m\u001b[0;34m,\u001b[0m \u001b[0mword_in_mention_loc_lemma\u001b[0m\u001b[0;34m,\u001b[0m\u001b[0;34m\u001b[0m\u001b[0m\n\u001b[1;32m     12\u001b[0m     \u001b[0mwim_ngram\u001b[0m\u001b[0;34m(\u001b[0m\u001b[0;36m2\u001b[0m\u001b[0;34m)\u001b[0m\u001b[0;34m,\u001b[0m \u001b[0mwim_ngram_lemma\u001b[0m\u001b[0;34m(\u001b[0m\u001b[0;36m2\u001b[0m\u001b[0;34m)\u001b[0m\u001b[0;34m,\u001b[0m\u001b[0;34m\u001b[0m\u001b[0m\n",
      "\u001b[0;31mNameError\u001b[0m: name 'mention_details' is not defined"
     ]
    }
   ],
   "source": [
    "# features\n",
    "\n",
    "# sparse feature functions\n",
    "\n",
    "sparse_feat_funcs = [\n",
    "#     CONSTANT_BIAS,\n",
    "#     word_shape_in_mention,\n",
    "#     word_in_mention, word_in_mention_lemma,\n",
    "\n",
    "    mention_details,\n",
    "    word_in_mention_loc, word_in_mention_loc_lemma,\n",
    "    wim_ngram(2), wim_ngram_lemma(2),\n",
    "    wim_ngram(3), wim_ngram(3),\n",
    "    kbbias(kba), \n",
    "#     kbbias_approx(kba, gensim_word_vectors),\n",
    "    hyp_fine_type_feats,\n",
    "    in_quotes,\n",
    "    ngram_before(3), #ngram_before(2),\n",
    "    ngram_after(3), #ngram_after(2)\n",
    "    dep_feat_len2,\n",
    "        w2vMention(extended_w2vdict, default_w2v_mean, max_n=3),\n",
    "#     topicSentence(lda_embedding_func,\"lda_embedding\",50),\n",
    "    topicSentence(lsi_embedding_func,\"lsi_embedding\",100),\n",
    "                    ]\n",
    "#             wim_ext, wim_ext_lemma,   \n",
    "#             word_shape,\n",
    "#             mention_length,\n",
    "#             prefix,\n",
    "#             postfix,\n",
    "#             mention_pronoun_wh_dep"
   ]
  },
  {
   "cell_type": "code",
   "execution_count": 12,
   "metadata": {
    "collapsed": false
   },
   "outputs": [
    {
     "ename": "NameError",
     "evalue": "name 'sparse_feat_funcs' is not defined",
     "output_type": "error",
     "traceback": [
      "\u001b[0;31m---------------------------------------------------------------------------\u001b[0m",
      "\u001b[0;31mNameError\u001b[0m                                 Traceback (most recent call last)",
      "\u001b[0;32m<ipython-input-12-7a502ee38b65>\u001b[0m in \u001b[0;36m<module>\u001b[0;34m()\u001b[0m\n\u001b[1;32m      1\u001b[0m \u001b[0;34m\u001b[0m\u001b[0m\n\u001b[0;32m----> 2\u001b[0;31m \u001b[0msparse_extractor\u001b[0m \u001b[0;34m=\u001b[0m \u001b[0mFeatureExtractor\u001b[0m\u001b[0;34m(\u001b[0m\u001b[0msparse_feat_funcs\u001b[0m\u001b[0;34m)\u001b[0m\u001b[0;34m\u001b[0m\u001b[0m\n\u001b[0m",
      "\u001b[0;31mNameError\u001b[0m: name 'sparse_feat_funcs' is not defined"
     ]
    }
   ],
   "source": [
    "\n",
    "sparse_extractor = FeatureExtractor(sparse_feat_funcs)"
   ]
  },
  {
   "cell_type": "code",
   "execution_count": 13,
   "metadata": {
    "collapsed": false
   },
   "outputs": [
    {
     "ename": "NameError",
     "evalue": "name 'train_docs' is not defined",
     "output_type": "error",
     "traceback": [
      "\u001b[0;31m---------------------------------------------------------------------------\u001b[0m",
      "\u001b[0;31mNameError\u001b[0m                                 Traceback (most recent call last)",
      "\u001b[0;32m<ipython-input-13-50bd1ba89361>\u001b[0m in \u001b[0;36m<module>\u001b[0;34m()\u001b[0m\n\u001b[1;32m     26\u001b[0m \u001b[0mtype_lex\u001b[0m \u001b[0;34m=\u001b[0m \u001b[0mLexicon\u001b[0m\u001b[0;34m(\u001b[0m\u001b[0;34m)\u001b[0m\u001b[0;34m\u001b[0m\u001b[0m\n\u001b[1;32m     27\u001b[0m \u001b[0;34m\u001b[0m\u001b[0m\n\u001b[0;32m---> 28\u001b[0;31m \u001b[0montonote_train\u001b[0m \u001b[0;34m=\u001b[0m \u001b[0mbuild_corpora\u001b[0m\u001b[0;34m(\u001b[0m\u001b[0mtrain_docs\u001b[0m\u001b[0;34m,\u001b[0m \u001b[0mtype_func\u001b[0m\u001b[0;34m)\u001b[0m\u001b[0;34m\u001b[0m\u001b[0m\n\u001b[0m\u001b[1;32m     29\u001b[0m \u001b[0mY_train\u001b[0m \u001b[0;34m=\u001b[0m \u001b[0mbuild_ys_from_gold\u001b[0m\u001b[0;34m(\u001b[0m\u001b[0montonote_train\u001b[0m\u001b[0;34m,\u001b[0m \u001b[0mtype_lex\u001b[0m\u001b[0;34m,\u001b[0m \u001b[0mtype_func\u001b[0m\u001b[0;34m)\u001b[0m\u001b[0;34m\u001b[0m\u001b[0m\n\u001b[1;32m     30\u001b[0m \u001b[0;34m\u001b[0m\u001b[0m\n",
      "\u001b[0;31mNameError\u001b[0m: name 'train_docs' is not defined"
     ]
    }
   ],
   "source": [
    "def build_corpora(docs, type_func, skip_none=True):\n",
    "    ret = []\n",
    "    for doc in docs:\n",
    "        for m in doc.user_data[\"gold_mention_view\"]:\n",
    "            if skip_none and type_func(m) is None:\n",
    "                continue\n",
    "            ret.append((doc, m))\n",
    "    return ret\n",
    "\n",
    "def build_ys_from_gold(corpora, type_lex, type_func):\n",
    "    ret = []\n",
    "    missing = set()\n",
    "    for doc, m in corpora:\n",
    "        t = type_func(m)\n",
    "        if t is None:\n",
    "            raise ValueError(\"type is None\")\n",
    "        type_lex.see_lexeme(t)\n",
    "        idx = type_lex.getOrNegOne(t)\n",
    "        if idx == -1:\n",
    "            missing.add(t)\n",
    "        ret.append(idx)\n",
    "    for t in missing:\n",
    "        print(\"missing label %s\" % t)\n",
    "    return np.array(ret)\n",
    "\n",
    "type_lex = Lexicon()\n",
    "    \n",
    "ontonote_train = build_corpora(train_docs, type_func)\n",
    "Y_train = build_ys_from_gold(ontonote_train, type_lex, type_func)\n",
    "\n",
    "ontonote_test = build_corpora(test_docs, type_func)\n",
    "Y_test = build_ys_from_gold(ontonote_test, type_lex, type_func)\n",
    "\n",
    "figer_test = build_corpora(figer_docs, figer_type_func)\n",
    "Y_figer = build_ys_from_gold(figer_test, type_lex, figer_type_func)\n",
    "\n",
    "figer_gold_test = build_corpora(figer_gold_docs, figer_type_func)\n",
    "Y_figer_gold = build_ys_from_gold(figer_gold_test, type_lex, figer_type_func)"
   ]
  },
  {
   "cell_type": "code",
   "execution_count": 14,
   "metadata": {
    "collapsed": true
   },
   "outputs": [],
   "source": [
    "# cache_dir = \"/tmp/cache\"\n",
    "\n",
    "# if not os.path.isdir(cache_dir):\n",
    "#     os.makedirs(cache_dir)"
   ]
  },
  {
   "cell_type": "code",
   "execution_count": 15,
   "metadata": {
    "collapsed": false,
    "scrolled": false
   },
   "outputs": [
    {
     "ename": "NameError",
     "evalue": "name 'sparse_extractor' is not defined",
     "output_type": "error",
     "traceback": [
      "\u001b[0;31m---------------------------------------------------------------------------\u001b[0m",
      "\u001b[0;31mNameError\u001b[0m                                 Traceback (most recent call last)",
      "\u001b[0;32m<ipython-input-15-29c61d80bad8>\u001b[0m in \u001b[0;36m<module>\u001b[0;34m()\u001b[0m\n\u001b[0;32m----> 1\u001b[0;31m \u001b[0mget_ipython\u001b[0m\u001b[0;34m(\u001b[0m\u001b[0;34m)\u001b[0m\u001b[0;34m.\u001b[0m\u001b[0mrun_cell_magic\u001b[0m\u001b[0;34m(\u001b[0m\u001b[0;34mu'time'\u001b[0m\u001b[0;34m,\u001b[0m \u001b[0;34mu''\u001b[0m\u001b[0;34m,\u001b[0m \u001b[0;34mu'%%prun -s cumulative\\n\\nforce_update = True\\nmin_support = 3\\n# sparse_extractor.build_lexicon(ontonote_train, min_support=min_support, force_update=force_update)\\nX_train = sparse_extractor.extract(\"ontonote-train\", ontonote_train, force_update=force_update)\\nX_test = sparse_extractor.extract(\"ontonote-test\", ontonote_test, force_update=force_update)\\nX_figer = sparse_extractor.extract(\"figer-test\", figer_test, force_update=force_update)\\nX_figer_gold = sparse_extractor.extract(\"figer-gold-test\", figer_gold_test, force_update=force_update)\\nfeature_names = sparse_extractor.reverse_lexicon()\\n\\nindex_to_feat = {i:f for i, f in enumerate(feature_names)}\\nindex_to_type = {i:t for t, i in type_lex.lexeme_to_index.iteritems()}'\u001b[0m\u001b[0;34m)\u001b[0m\u001b[0;34m\u001b[0m\u001b[0m\n\u001b[0m",
      "\u001b[0;32m/home/haowu4/anaconda2/envs/finer/lib/python2.7/site-packages/IPython/core/interactiveshell.pyc\u001b[0m in \u001b[0;36mrun_cell_magic\u001b[0;34m(self, magic_name, line, cell)\u001b[0m\n\u001b[1;32m   2113\u001b[0m             \u001b[0mmagic_arg_s\u001b[0m \u001b[0;34m=\u001b[0m \u001b[0mself\u001b[0m\u001b[0;34m.\u001b[0m\u001b[0mvar_expand\u001b[0m\u001b[0;34m(\u001b[0m\u001b[0mline\u001b[0m\u001b[0;34m,\u001b[0m \u001b[0mstack_depth\u001b[0m\u001b[0;34m)\u001b[0m\u001b[0;34m\u001b[0m\u001b[0m\n\u001b[1;32m   2114\u001b[0m             \u001b[0;32mwith\u001b[0m \u001b[0mself\u001b[0m\u001b[0;34m.\u001b[0m\u001b[0mbuiltin_trap\u001b[0m\u001b[0;34m:\u001b[0m\u001b[0;34m\u001b[0m\u001b[0m\n\u001b[0;32m-> 2115\u001b[0;31m                 \u001b[0mresult\u001b[0m \u001b[0;34m=\u001b[0m \u001b[0mfn\u001b[0m\u001b[0;34m(\u001b[0m\u001b[0mmagic_arg_s\u001b[0m\u001b[0;34m,\u001b[0m \u001b[0mcell\u001b[0m\u001b[0;34m)\u001b[0m\u001b[0;34m\u001b[0m\u001b[0m\n\u001b[0m\u001b[1;32m   2116\u001b[0m             \u001b[0;32mreturn\u001b[0m \u001b[0mresult\u001b[0m\u001b[0;34m\u001b[0m\u001b[0m\n\u001b[1;32m   2117\u001b[0m \u001b[0;34m\u001b[0m\u001b[0m\n",
      "\u001b[0;32m<decorator-gen-59>\u001b[0m in \u001b[0;36mtime\u001b[0;34m(self, line, cell, local_ns)\u001b[0m\n",
      "\u001b[0;32m/home/haowu4/anaconda2/envs/finer/lib/python2.7/site-packages/IPython/core/magic.pyc\u001b[0m in \u001b[0;36m<lambda>\u001b[0;34m(f, *a, **k)\u001b[0m\n\u001b[1;32m    186\u001b[0m     \u001b[0;31m# but it's overkill for just that one bit of state.\u001b[0m\u001b[0;34m\u001b[0m\u001b[0;34m\u001b[0m\u001b[0m\n\u001b[1;32m    187\u001b[0m     \u001b[0;32mdef\u001b[0m \u001b[0mmagic_deco\u001b[0m\u001b[0;34m(\u001b[0m\u001b[0marg\u001b[0m\u001b[0;34m)\u001b[0m\u001b[0;34m:\u001b[0m\u001b[0;34m\u001b[0m\u001b[0m\n\u001b[0;32m--> 188\u001b[0;31m         \u001b[0mcall\u001b[0m \u001b[0;34m=\u001b[0m \u001b[0;32mlambda\u001b[0m \u001b[0mf\u001b[0m\u001b[0;34m,\u001b[0m \u001b[0;34m*\u001b[0m\u001b[0ma\u001b[0m\u001b[0;34m,\u001b[0m \u001b[0;34m**\u001b[0m\u001b[0mk\u001b[0m\u001b[0;34m:\u001b[0m \u001b[0mf\u001b[0m\u001b[0;34m(\u001b[0m\u001b[0;34m*\u001b[0m\u001b[0ma\u001b[0m\u001b[0;34m,\u001b[0m \u001b[0;34m**\u001b[0m\u001b[0mk\u001b[0m\u001b[0;34m)\u001b[0m\u001b[0;34m\u001b[0m\u001b[0m\n\u001b[0m\u001b[1;32m    189\u001b[0m \u001b[0;34m\u001b[0m\u001b[0m\n\u001b[1;32m    190\u001b[0m         \u001b[0;32mif\u001b[0m \u001b[0mcallable\u001b[0m\u001b[0;34m(\u001b[0m\u001b[0marg\u001b[0m\u001b[0;34m)\u001b[0m\u001b[0;34m:\u001b[0m\u001b[0;34m\u001b[0m\u001b[0m\n",
      "\u001b[0;32m/home/haowu4/anaconda2/envs/finer/lib/python2.7/site-packages/IPython/core/magics/execution.pyc\u001b[0m in \u001b[0;36mtime\u001b[0;34m(self, line, cell, local_ns)\u001b[0m\n\u001b[1;32m   1179\u001b[0m         \u001b[0;32mif\u001b[0m \u001b[0mmode\u001b[0m\u001b[0;34m==\u001b[0m\u001b[0;34m'eval'\u001b[0m\u001b[0;34m:\u001b[0m\u001b[0;34m\u001b[0m\u001b[0m\n\u001b[1;32m   1180\u001b[0m             \u001b[0mst\u001b[0m \u001b[0;34m=\u001b[0m \u001b[0mclock2\u001b[0m\u001b[0;34m(\u001b[0m\u001b[0;34m)\u001b[0m\u001b[0;34m\u001b[0m\u001b[0m\n\u001b[0;32m-> 1181\u001b[0;31m             \u001b[0mout\u001b[0m \u001b[0;34m=\u001b[0m \u001b[0meval\u001b[0m\u001b[0;34m(\u001b[0m\u001b[0mcode\u001b[0m\u001b[0;34m,\u001b[0m \u001b[0mglob\u001b[0m\u001b[0;34m,\u001b[0m \u001b[0mlocal_ns\u001b[0m\u001b[0;34m)\u001b[0m\u001b[0;34m\u001b[0m\u001b[0m\n\u001b[0m\u001b[1;32m   1182\u001b[0m             \u001b[0mend\u001b[0m \u001b[0;34m=\u001b[0m \u001b[0mclock2\u001b[0m\u001b[0;34m(\u001b[0m\u001b[0;34m)\u001b[0m\u001b[0;34m\u001b[0m\u001b[0m\n\u001b[1;32m   1183\u001b[0m         \u001b[0;32melse\u001b[0m\u001b[0;34m:\u001b[0m\u001b[0;34m\u001b[0m\u001b[0m\n",
      "\u001b[0;32m<timed eval>\u001b[0m in \u001b[0;36m<module>\u001b[0;34m()\u001b[0m\n",
      "\u001b[0;32m/home/haowu4/anaconda2/envs/finer/lib/python2.7/site-packages/IPython/core/interactiveshell.pyc\u001b[0m in \u001b[0;36mrun_cell_magic\u001b[0;34m(self, magic_name, line, cell)\u001b[0m\n\u001b[1;32m   2113\u001b[0m             \u001b[0mmagic_arg_s\u001b[0m \u001b[0;34m=\u001b[0m \u001b[0mself\u001b[0m\u001b[0;34m.\u001b[0m\u001b[0mvar_expand\u001b[0m\u001b[0;34m(\u001b[0m\u001b[0mline\u001b[0m\u001b[0;34m,\u001b[0m \u001b[0mstack_depth\u001b[0m\u001b[0;34m)\u001b[0m\u001b[0;34m\u001b[0m\u001b[0m\n\u001b[1;32m   2114\u001b[0m             \u001b[0;32mwith\u001b[0m \u001b[0mself\u001b[0m\u001b[0;34m.\u001b[0m\u001b[0mbuiltin_trap\u001b[0m\u001b[0;34m:\u001b[0m\u001b[0;34m\u001b[0m\u001b[0m\n\u001b[0;32m-> 2115\u001b[0;31m                 \u001b[0mresult\u001b[0m \u001b[0;34m=\u001b[0m \u001b[0mfn\u001b[0m\u001b[0;34m(\u001b[0m\u001b[0mmagic_arg_s\u001b[0m\u001b[0;34m,\u001b[0m \u001b[0mcell\u001b[0m\u001b[0;34m)\u001b[0m\u001b[0;34m\u001b[0m\u001b[0m\n\u001b[0m\u001b[1;32m   2116\u001b[0m             \u001b[0;32mreturn\u001b[0m \u001b[0mresult\u001b[0m\u001b[0;34m\u001b[0m\u001b[0m\n\u001b[1;32m   2117\u001b[0m \u001b[0;34m\u001b[0m\u001b[0m\n",
      "\u001b[0;32m<decorator-gen-53>\u001b[0m in \u001b[0;36mprun\u001b[0;34m(self, parameter_s, cell)\u001b[0m\n",
      "\u001b[0;32m/home/haowu4/anaconda2/envs/finer/lib/python2.7/site-packages/IPython/core/magic.pyc\u001b[0m in \u001b[0;36m<lambda>\u001b[0;34m(f, *a, **k)\u001b[0m\n\u001b[1;32m    186\u001b[0m     \u001b[0;31m# but it's overkill for just that one bit of state.\u001b[0m\u001b[0;34m\u001b[0m\u001b[0;34m\u001b[0m\u001b[0m\n\u001b[1;32m    187\u001b[0m     \u001b[0;32mdef\u001b[0m \u001b[0mmagic_deco\u001b[0m\u001b[0;34m(\u001b[0m\u001b[0marg\u001b[0m\u001b[0;34m)\u001b[0m\u001b[0;34m:\u001b[0m\u001b[0;34m\u001b[0m\u001b[0m\n\u001b[0;32m--> 188\u001b[0;31m         \u001b[0mcall\u001b[0m \u001b[0;34m=\u001b[0m \u001b[0;32mlambda\u001b[0m \u001b[0mf\u001b[0m\u001b[0;34m,\u001b[0m \u001b[0;34m*\u001b[0m\u001b[0ma\u001b[0m\u001b[0;34m,\u001b[0m \u001b[0;34m**\u001b[0m\u001b[0mk\u001b[0m\u001b[0;34m:\u001b[0m \u001b[0mf\u001b[0m\u001b[0;34m(\u001b[0m\u001b[0;34m*\u001b[0m\u001b[0ma\u001b[0m\u001b[0;34m,\u001b[0m \u001b[0;34m**\u001b[0m\u001b[0mk\u001b[0m\u001b[0;34m)\u001b[0m\u001b[0;34m\u001b[0m\u001b[0m\n\u001b[0m\u001b[1;32m    189\u001b[0m \u001b[0;34m\u001b[0m\u001b[0m\n\u001b[1;32m    190\u001b[0m         \u001b[0;32mif\u001b[0m \u001b[0mcallable\u001b[0m\u001b[0;34m(\u001b[0m\u001b[0marg\u001b[0m\u001b[0;34m)\u001b[0m\u001b[0;34m:\u001b[0m\u001b[0;34m\u001b[0m\u001b[0m\n",
      "\u001b[0;32m/home/haowu4/anaconda2/envs/finer/lib/python2.7/site-packages/IPython/core/magics/execution.pyc\u001b[0m in \u001b[0;36mprun\u001b[0;34m(self, parameter_s, cell)\u001b[0m\n\u001b[1;32m    279\u001b[0m             \u001b[0marg_str\u001b[0m \u001b[0;34m+=\u001b[0m \u001b[0;34m'\\n'\u001b[0m \u001b[0;34m+\u001b[0m \u001b[0mcell\u001b[0m\u001b[0;34m\u001b[0m\u001b[0m\n\u001b[1;32m    280\u001b[0m         \u001b[0marg_str\u001b[0m \u001b[0;34m=\u001b[0m \u001b[0mself\u001b[0m\u001b[0;34m.\u001b[0m\u001b[0mshell\u001b[0m\u001b[0;34m.\u001b[0m\u001b[0minput_splitter\u001b[0m\u001b[0;34m.\u001b[0m\u001b[0mtransform_cell\u001b[0m\u001b[0;34m(\u001b[0m\u001b[0marg_str\u001b[0m\u001b[0;34m)\u001b[0m\u001b[0;34m\u001b[0m\u001b[0m\n\u001b[0;32m--> 281\u001b[0;31m         \u001b[0;32mreturn\u001b[0m \u001b[0mself\u001b[0m\u001b[0;34m.\u001b[0m\u001b[0m_run_with_profiler\u001b[0m\u001b[0;34m(\u001b[0m\u001b[0marg_str\u001b[0m\u001b[0;34m,\u001b[0m \u001b[0mopts\u001b[0m\u001b[0;34m,\u001b[0m \u001b[0mself\u001b[0m\u001b[0;34m.\u001b[0m\u001b[0mshell\u001b[0m\u001b[0;34m.\u001b[0m\u001b[0muser_ns\u001b[0m\u001b[0;34m)\u001b[0m\u001b[0;34m\u001b[0m\u001b[0m\n\u001b[0m\u001b[1;32m    282\u001b[0m \u001b[0;34m\u001b[0m\u001b[0m\n\u001b[1;32m    283\u001b[0m     \u001b[0;32mdef\u001b[0m \u001b[0m_run_with_profiler\u001b[0m\u001b[0;34m(\u001b[0m\u001b[0mself\u001b[0m\u001b[0;34m,\u001b[0m \u001b[0mcode\u001b[0m\u001b[0;34m,\u001b[0m \u001b[0mopts\u001b[0m\u001b[0;34m,\u001b[0m \u001b[0mnamespace\u001b[0m\u001b[0;34m)\u001b[0m\u001b[0;34m:\u001b[0m\u001b[0;34m\u001b[0m\u001b[0m\n",
      "\u001b[0;32m/home/haowu4/anaconda2/envs/finer/lib/python2.7/site-packages/IPython/core/magics/execution.pyc\u001b[0m in \u001b[0;36m_run_with_profiler\u001b[0;34m(self, code, opts, namespace)\u001b[0m\n\u001b[1;32m    301\u001b[0m         \u001b[0mprof\u001b[0m \u001b[0;34m=\u001b[0m \u001b[0mprofile\u001b[0m\u001b[0;34m.\u001b[0m\u001b[0mProfile\u001b[0m\u001b[0;34m(\u001b[0m\u001b[0;34m)\u001b[0m\u001b[0;34m\u001b[0m\u001b[0m\n\u001b[1;32m    302\u001b[0m         \u001b[0;32mtry\u001b[0m\u001b[0;34m:\u001b[0m\u001b[0;34m\u001b[0m\u001b[0m\n\u001b[0;32m--> 303\u001b[0;31m             \u001b[0mprof\u001b[0m \u001b[0;34m=\u001b[0m \u001b[0mprof\u001b[0m\u001b[0;34m.\u001b[0m\u001b[0mrunctx\u001b[0m\u001b[0;34m(\u001b[0m\u001b[0mcode\u001b[0m\u001b[0;34m,\u001b[0m \u001b[0mnamespace\u001b[0m\u001b[0;34m,\u001b[0m \u001b[0mnamespace\u001b[0m\u001b[0;34m)\u001b[0m\u001b[0;34m\u001b[0m\u001b[0m\n\u001b[0m\u001b[1;32m    304\u001b[0m             \u001b[0msys_exit\u001b[0m \u001b[0;34m=\u001b[0m \u001b[0;34m''\u001b[0m\u001b[0;34m\u001b[0m\u001b[0m\n\u001b[1;32m    305\u001b[0m         \u001b[0;32mexcept\u001b[0m \u001b[0mSystemExit\u001b[0m\u001b[0;34m:\u001b[0m\u001b[0;34m\u001b[0m\u001b[0m\n",
      "\u001b[0;32m/home/haowu4/anaconda2/envs/finer/lib/python2.7/cProfile.pyc\u001b[0m in \u001b[0;36mrunctx\u001b[0;34m(self, cmd, globals, locals)\u001b[0m\n\u001b[1;32m    138\u001b[0m         \u001b[0mself\u001b[0m\u001b[0;34m.\u001b[0m\u001b[0menable\u001b[0m\u001b[0;34m(\u001b[0m\u001b[0;34m)\u001b[0m\u001b[0;34m\u001b[0m\u001b[0m\n\u001b[1;32m    139\u001b[0m         \u001b[0;32mtry\u001b[0m\u001b[0;34m:\u001b[0m\u001b[0;34m\u001b[0m\u001b[0m\n\u001b[0;32m--> 140\u001b[0;31m             \u001b[0;32mexec\u001b[0m \u001b[0mcmd\u001b[0m \u001b[0;32min\u001b[0m \u001b[0mglobals\u001b[0m\u001b[0;34m,\u001b[0m \u001b[0mlocals\u001b[0m\u001b[0;34m\u001b[0m\u001b[0m\n\u001b[0m\u001b[1;32m    141\u001b[0m         \u001b[0;32mfinally\u001b[0m\u001b[0;34m:\u001b[0m\u001b[0;34m\u001b[0m\u001b[0m\n\u001b[1;32m    142\u001b[0m             \u001b[0mself\u001b[0m\u001b[0;34m.\u001b[0m\u001b[0mdisable\u001b[0m\u001b[0;34m(\u001b[0m\u001b[0;34m)\u001b[0m\u001b[0;34m\u001b[0m\u001b[0m\n",
      "\u001b[0;32m<string>\u001b[0m in \u001b[0;36m<module>\u001b[0;34m()\u001b[0m\n",
      "\u001b[0;31mNameError\u001b[0m: name 'sparse_extractor' is not defined"
     ]
    }
   ],
   "source": [
    "%%time\n",
    "%%prun -s cumulative\n",
    "\n",
    "force_update = True\n",
    "min_support = 3\n",
    "# sparse_extractor.build_lexicon(ontonote_train, min_support=min_support, force_update=force_update)\n",
    "X_train = sparse_extractor.extract(\"ontonote-train\", ontonote_train, force_update=force_update)\n",
    "X_test = sparse_extractor.extract(\"ontonote-test\", ontonote_test, force_update=force_update)\n",
    "X_figer = sparse_extractor.extract(\"figer-test\", figer_test, force_update=force_update)\n",
    "X_figer_gold = sparse_extractor.extract(\"figer-gold-test\", figer_gold_test, force_update=force_update)\n",
    "feature_names = sparse_extractor.reverse_lexicon()\n",
    "\n",
    "index_to_feat = {i:f for i, f in enumerate(feature_names)}\n",
    "index_to_type = {i:t for t, i in type_lex.lexeme_to_index.iteritems()}"
   ]
  },
  {
   "cell_type": "code",
   "execution_count": 16,
   "metadata": {
    "collapsed": false
   },
   "outputs": [
    {
     "ename": "NameError",
     "evalue": "name 'kbbias_approx' is not defined",
     "output_type": "error",
     "traceback": [
      "\u001b[0;31m---------------------------------------------------------------------------\u001b[0m",
      "\u001b[0;31mNameError\u001b[0m                                 Traceback (most recent call last)",
      "\u001b[0;32m<ipython-input-16-6a99512677d0>\u001b[0m in \u001b[0;36m<module>\u001b[0;34m()\u001b[0m\n\u001b[0;32m----> 1\u001b[0;31m \u001b[0mlist\u001b[0m\u001b[0;34m(\u001b[0m\u001b[0mkbbias_approx\u001b[0m\u001b[0;34m(\u001b[0m\u001b[0mkba\u001b[0m\u001b[0;34m,\u001b[0m \u001b[0mgensim_word_vectors\u001b[0m\u001b[0;34m)\u001b[0m\u001b[0;34m(\u001b[0m\u001b[0mfiger_docs\u001b[0m\u001b[0;34m[\u001b[0m\u001b[0;36m0\u001b[0m\u001b[0;34m]\u001b[0m\u001b[0;34m,\u001b[0m \u001b[0mfiger_docs\u001b[0m\u001b[0;34m[\u001b[0m\u001b[0;36m0\u001b[0m\u001b[0;34m]\u001b[0m\u001b[0;34m.\u001b[0m\u001b[0muser_data\u001b[0m\u001b[0;34m[\u001b[0m\u001b[0;34m\"gold_mention_view\"\u001b[0m\u001b[0;34m]\u001b[0m\u001b[0;34m.\u001b[0m\u001b[0mconstituents\u001b[0m\u001b[0;34m[\u001b[0m\u001b[0;36m1\u001b[0m\u001b[0;34m]\u001b[0m\u001b[0;34m)\u001b[0m\u001b[0;34m)\u001b[0m\u001b[0;34m\u001b[0m\u001b[0m\n\u001b[0m",
      "\u001b[0;31mNameError\u001b[0m: name 'kbbias_approx' is not defined"
     ]
    }
   ],
   "source": [
    "list(kbbias_approx(kba, gensim_word_vectors)(figer_docs[0], figer_docs[0].user_data[\"gold_mention_view\"].constituents[1]))"
   ]
  },
  {
   "cell_type": "code",
   "execution_count": 17,
   "metadata": {
    "collapsed": false
   },
   "outputs": [
    {
     "ename": "NameError",
     "evalue": "name 'figer_docs' is not defined",
     "output_type": "error",
     "traceback": [
      "\u001b[0;31m---------------------------------------------------------------------------\u001b[0m",
      "\u001b[0;31mNameError\u001b[0m                                 Traceback (most recent call last)",
      "\u001b[0;32m<ipython-input-17-cc7cc1c2a4af>\u001b[0m in \u001b[0;36m<module>\u001b[0;34m()\u001b[0m\n\u001b[0;32m----> 1\u001b[0;31m \u001b[0mfiger_docs\u001b[0m\u001b[0;34m[\u001b[0m\u001b[0;36m0\u001b[0m\u001b[0;34m]\u001b[0m\u001b[0;34m.\u001b[0m\u001b[0muser_data\u001b[0m\u001b[0;34m[\u001b[0m\u001b[0;34m\"gold_mention_view\"\u001b[0m\u001b[0;34m]\u001b[0m\u001b[0;34m.\u001b[0m\u001b[0mconstituents\u001b[0m\u001b[0;34m[\u001b[0m\u001b[0;36m1\u001b[0m\u001b[0;34m]\u001b[0m\u001b[0;34m.\u001b[0m\u001b[0mstart\u001b[0m\u001b[0;34m\u001b[0m\u001b[0m\n\u001b[0m",
      "\u001b[0;31mNameError\u001b[0m: name 'figer_docs' is not defined"
     ]
    }
   ],
   "source": [
    "figer_docs[0].user_data[\"gold_mention_view\"].constituents[1].start"
   ]
  },
  {
   "cell_type": "code",
   "execution_count": 18,
   "metadata": {
    "collapsed": false
   },
   "outputs": [
    {
     "ename": "NameError",
     "evalue": "name 'X_train' is not defined",
     "output_type": "error",
     "traceback": [
      "\u001b[0;31m---------------------------------------------------------------------------\u001b[0m",
      "\u001b[0;31mNameError\u001b[0m                                 Traceback (most recent call last)",
      "\u001b[0;32m<ipython-input-18-363327cd42e6>\u001b[0m in \u001b[0;36m<module>\u001b[0;34m()\u001b[0m\n\u001b[0;32m----> 1\u001b[0;31m \u001b[0;32mprint\u001b[0m \u001b[0mX_train\u001b[0m\u001b[0;34m.\u001b[0m\u001b[0mshape\u001b[0m\u001b[0;34m\u001b[0m\u001b[0m\n\u001b[0m\u001b[1;32m      2\u001b[0m \u001b[0;32mprint\u001b[0m \u001b[0mX_test\u001b[0m\u001b[0;34m.\u001b[0m\u001b[0mshape\u001b[0m\u001b[0;34m\u001b[0m\u001b[0m\n\u001b[1;32m      3\u001b[0m \u001b[0;32mprint\u001b[0m \u001b[0mX_figer\u001b[0m\u001b[0;34m.\u001b[0m\u001b[0mshape\u001b[0m\u001b[0;34m\u001b[0m\u001b[0m\n\u001b[1;32m      4\u001b[0m \u001b[0;32mprint\u001b[0m \u001b[0mX_figer_gold\u001b[0m\u001b[0;34m.\u001b[0m\u001b[0mshape\u001b[0m\u001b[0;34m\u001b[0m\u001b[0m\n",
      "\u001b[0;31mNameError\u001b[0m: name 'X_train' is not defined"
     ]
    }
   ],
   "source": [
    "print X_train.shape\n",
    "print X_test.shape\n",
    "print X_figer.shape\n",
    "print X_figer_gold.shape"
   ]
  },
  {
   "cell_type": "markdown",
   "metadata": {},
   "source": [
    "# Eval Stuff"
   ]
  },
  {
   "cell_type": "code",
   "execution_count": 19,
   "metadata": {
    "collapsed": true
   },
   "outputs": [],
   "source": [
    "metric_names = [\"micro-f1\", \"macro-f1\", \"weighted-f1\"]\n",
    "averages = [\"micro\", \"macro\", \"weighted\"]\n",
    "\n",
    "def print_global_metrics_header(metric_names):\n",
    "    print(\"%-15s %10s %10s %10s\\n\" % tuple([\"dataset\"] + metric_names))\n",
    "    \n",
    "def print_global_metrics(dataset_name, ys_gold, ys_pred, classes, averages):\n",
    "    print(\"%-15s %9.2f%% %9.2f%% %9.2f%%\" % tuple([dataset_name] + \n",
    "                                             [100*f1_score(ys_gold, ys_pred, classes, average=avg)\n",
    "                                              for avg in averages]))"
   ]
  },
  {
   "cell_type": "markdown",
   "metadata": {},
   "source": [
    "# Linear Classifier"
   ]
  },
  {
   "cell_type": "code",
   "execution_count": null,
   "metadata": {
    "collapsed": false
   },
   "outputs": [],
   "source": [
    "%%time\n",
    "\n",
    "base_estimator = linear_model.SGDClassifier(\n",
    "                    loss='hinge',#'modified_huber',#'hinge',#perceptron',\n",
    "                    penalty=\"l1\",\n",
    "                    alpha=1e-4,\n",
    "                    average=True,\n",
    "#                     class_weight='balanced'\n",
    "                    )\n",
    "logreg = base_estimator\n",
    "# logreg = ensemble.AdaBoostClassifier(n_estimators=50)\n",
    "\n",
    "logreg.fit(X_train, Y_train)"
   ]
  },
  {
   "cell_type": "raw",
   "metadata": {},
   "source": [
    "# reannotated all museums and galleries as FAC. Generalize this method!\n",
    "# same estimator as above (alpha=1e-10)\n",
    "\n",
    "dataset           micro-f1   macro-f1 weighted-f1\n",
    "\n",
    "train               97.98%     95.71%     97.96%\n",
    "test                95.40%     87.03%     95.27%\n",
    "figer-gold          87.33%     66.50%     87.15%\n",
    "\n",
    "\n",
    "                  TYPE : train_f1  test_f1 figer_f1\n",
    "\n",
    "                 title :    0.998    0.997    0.917\n",
    "      finance.currency :    0.999    0.995    0.000\n",
    "                  time :    0.997    0.994    1.000\n",
    "                 norpl :    0.979    0.971    0.952\n",
    "              location :    0.982    0.964    0.889\n",
    "              medicine :    0.984    0.963    1.000\n",
    "                person :    0.980    0.953    0.932\n",
    "          organization :    0.971    0.935    0.837\n",
    "          living_thing :    0.970    0.933    0.800\n",
    "                   law :    0.967    0.824    0.667\n",
    "                 event :    0.947    0.763    0.714\n",
    "   transportation.road :    0.955    0.727    0.000\n",
    "               product :    0.868    0.714    0.222\n",
    "                  work :    0.915    0.663    0.400\n",
    "              building :    0.846    0.658    0.645"
   ]
  },
  {
   "cell_type": "raw",
   "metadata": {},
   "source": [
    "# with depfeatures of len2\n",
    "# same learner as above\n",
    "\n",
    "dataset           micro-f1   macro-f1 weighted-f1\n",
    "\n",
    "train               98.40%     96.92%     98.39%\n",
    "test                95.30%     86.87%     95.19%\n",
    "figer-gold          88.04%     67.34%     87.78%\n",
    "\n",
    "\n",
    "                  TYPE : train_f1  test_f1 figer_f1\n",
    "\n",
    "                 title :    0.998    0.995    0.917\n",
    "      finance.currency :    0.999    0.994    0.000\n",
    "                  time :    0.998    0.994    0.981\n",
    "                 norpl :    0.982    0.972    0.909\n",
    "              medicine :    0.982    0.963    0.857\n",
    "              location :    0.985    0.962    0.876\n",
    "                person :    0.984    0.952    0.939\n",
    "          organization :    0.977    0.935    0.854\n",
    "          living_thing :    0.985    0.933    0.800\n",
    "                   law :    0.967    0.812    0.667\n",
    "                 event :    0.955    0.767    0.714\n",
    "   transportation.road :    1.000    0.727    0.000\n",
    "               product :    0.900    0.698    0.500\n",
    "                  work :    0.932    0.671    0.400\n",
    "              building :    0.893    0.654    0.688"
   ]
  },
  {
   "cell_type": "code",
   "execution_count": 483,
   "metadata": {
    "collapsed": false
   },
   "outputs": [
    {
     "name": "stdout",
     "output_type": "stream",
     "text": [
      "dataset           micro-f1   macro-f1 weighted-f1\n",
      "\n",
      "train               97.36%     88.24%     97.32%\n",
      "test                94.42%     80.51%     94.21%\n",
      "figer               83.24%     46.32%     82.55%\n",
      "figer-gold          85.64%     52.40%     84.88%\n",
      "\n",
      "\n",
      "                  TYPE : train_f1  test_f1 figer_f1\n",
      "\n",
      "                 title :    0.997    0.997    0.917\n",
      "      finance.currency :    0.996    0.990    0.000\n",
      "                  time :    0.993    0.981    0.813\n",
      "                 norpl :    0.976    0.967    0.952\n",
      "              location :    0.979    0.957    0.859\n",
      "          living_thing :    0.975    0.955    0.000\n",
      "                person :    0.973    0.944    0.934\n",
      "              medicine :    0.985    0.943    0.667\n",
      "          organization :    0.962    0.925    0.838\n",
      "   transportation.road :    0.953    0.846    0.400\n",
      "                   law :    0.923    0.794    0.667\n",
      "                 event :    0.914    0.677    0.167\n",
      "               product :    0.810    0.660    0.000\n",
      "                  work :    0.876    0.637    0.444\n",
      "              building :    0.804    0.609    0.727\n",
      "                 award :    0.000    0.000    0.000\n"
     ]
    }
   ],
   "source": [
    "y_train_pred = logreg.predict(X_train)\n",
    "y_test_pred = logreg.predict(X_test)\n",
    "y_figer_pred = logreg.predict(X_figer)\n",
    "y_figer_gold_pred = logreg.predict(X_figer_gold)\n",
    "\n",
    "classes = sorted(index_to_type.keys())\n",
    "\n",
    "averages = [\"micro\", \"macro\", \"weighted\"]\n",
    "print_global_metrics_header(metric_names)\n",
    "print_global_metrics(\"train\", Y_train, y_train_pred, classes, averages)\n",
    "print_global_metrics(\"test\", Y_test, y_test_pred, classes, averages)\n",
    "print_global_metrics(\"figer\", Y_figer, y_figer_pred, classes, averages)\n",
    "print_global_metrics(\"figer-gold\", Y_figer_gold, y_figer_gold_pred, classes, averages)\n",
    "print(\"\\n\")\n",
    "\n",
    "train_f1 = f1_score(Y_train, y_train_pred, classes, average=None).tolist()\n",
    "test_f1 = f1_score(Y_test, y_test_pred, classes, average=None).tolist()\n",
    "figer_gold_f1 = f1_score(Y_figer_gold, y_figer_gold_pred, classes, average=None).tolist()\n",
    "\n",
    "class_names = [None] * len(index_to_type)\n",
    "for i in range(len(index_to_type)):\n",
    "    class_names[i] = index_to_type[i]\n",
    "\n",
    "print(\"%22s : %8s %8s %8s\\n\" % (\"TYPE\", \"train_f1\", \"test_f1\", \"figer_f1\"))\n",
    "for type_name, train_type_f1, test_type_f1, figer_gold_type_f1 in \\\n",
    "    sorted([(index_to_type[index], train_f1[index], test_f1[index], figer_gold_f1[index])\n",
    "            for index in index_to_type], key=lambda a:a[2], reverse=True):\n",
    "    print(\"%22s : %8.3f %8.3f %8.3f\" % (type_name, train_type_f1, test_type_f1, figer_gold_type_f1)) "
   ]
  },
  {
   "cell_type": "code",
   "execution_count": 484,
   "metadata": {
    "collapsed": false
   },
   "outputs": [],
   "source": [
    "# y_train_pred = logreg.predict(X_train)\n",
    "# y_test_pred = logreg.predict(X_test)\n",
    "# y_figer_pred = logreg.predict(X_figer)\n",
    "# y_figer_gold_pred = logreg.predict(X_figer_gold)\n",
    "\n",
    "# classes = sorted(index_to_type.keys())\n",
    "\n",
    "# averages = [\"micro\", \"macro\", \"weighted\"]\n",
    "# print(\"%-15s %10s %10s %10s\\n\" % (\"dataset\", \"micro-f1\", \"macro-f1\", \"weighted-f1\"))\n",
    "# print(\"%-15s %9.2f%% %9.2f%% %9.2f%%\" % tuple([\"train\"] + \n",
    "#                                              [100*f1_score(Y_train, y_train_pred, classes, average=avg)\n",
    "#                                               for avg in averages]))\n",
    "# print(\"%-15s %9.2f%% %9.2f%% %9.2f%%\" % tuple([\"test\"] + \n",
    "#                                              [100*f1_score(Y_test, y_test_pred, classes, average=avg)\n",
    "#                                               for avg in averages]))\n",
    "# print(\"%-15s %9.2f%% %9.2f%% %9.2f%%\" % tuple([\"figer\"] + \n",
    "#                                              [100*f1_score(Y_figer, y_figer_pred, classes, average=avg)\n",
    "#                                               for avg in averages]))\n",
    "# print(\"%-15s %9.2f%% %9.2f%% %9.2f%%\" % tuple([\"figer-gold\"] + \n",
    "#                                              [100*f1_score(Y_figer_gold, y_figer_gold_pred, classes, average=avg)\n",
    "#                                               for avg in averages]))\n",
    "# print(\"\\n\")\n",
    "\n",
    "# train_f1 = f1_score(Y_train, y_train_pred, classes, average=None).tolist()\n",
    "# test_f1 = f1_score(Y_test, y_test_pred, classes, average=None).tolist()\n",
    "# figer_gold_f1 = f1_score(Y_figer_gold, y_figer_gold_pred, classes, average=None).tolist()\n",
    "\n",
    "# class_names = [None] * len(index_to_type)\n",
    "# for i in range(len(index_to_type)):\n",
    "#     class_names[i] = index_to_type[i]\n",
    "\n",
    "# print(\"%22s : %8s %8s %8s\\n\" % (\"TYPE\", \"train_f1\", \"test_f1\", \"figer_f1\"))\n",
    "# for type_name, train_type_f1, test_type_f1, figer_gold_type_f1 in \\\n",
    "#     sorted([(index_to_type[index], train_f1[index], test_f1[index], figer_gold_f1[index])\n",
    "#             for index in index_to_type], key=lambda a:a[2], reverse=True):\n",
    "#     print(\"%22s : %8.3f %8.3f %8.3f\" % (type_name, train_type_f1, test_type_f1, figer_gold_type_f1)) "
   ]
  },
  {
   "cell_type": "markdown",
   "metadata": {
    "collapsed": true
   },
   "source": [
    "# Creating Coarse Grain View, and annotating with fine-grain data"
   ]
  },
  {
   "cell_type": "code",
   "execution_count": null,
   "metadata": {
    "collapsed": true
   },
   "outputs": [],
   "source": []
  },
  {
   "cell_type": "code",
   "execution_count": 485,
   "metadata": {
    "collapsed": false
   },
   "outputs": [],
   "source": [
    "from dfiner.datastructures import View, Constituent\n",
    "def add_pred_view(y_pred, docs_and_mentions, pred_viewname):\n",
    "    for doc, _ in docs_and_mentions:\n",
    "        if \"OntonoteType\" in doc.user_data:\n",
    "            del doc.user_data['OntonoteType']\n",
    "\n",
    "    assert len(y_pred) == len(docs_and_mentions)\n",
    "    for pred, (doc, mention) in zip(y_pred, docs_and_mentions):\n",
    "        user_data = doc.user_data\n",
    "        if pred_viewname not in user_data:\n",
    "            user_data[pred_viewname] = View()\n",
    "        view = user_data[pred_viewname]\n",
    "        label_name = type_lex.reverse_lex()[pred]\n",
    "        c = Constituent(mention.start,\n",
    "                        mention.end,\n",
    "                        name=pred_viewname,\n",
    "                        label2score={label_name: 1.0})\n",
    "        view.add_constituent(c)\n",
    "VIEW_NAME = \"OntonoteType\"\n",
    "add_pred_view(y_figer_pred, figer_test, VIEW_NAME)\n",
    "add_pred_view(y_figer_gold_pred, figer_gold_test, VIEW_NAME)\n"
   ]
  },
  {
   "cell_type": "code",
   "execution_count": 486,
   "metadata": {
    "collapsed": false
   },
   "outputs": [],
   "source": [
    "# from dfiner.utils import get_default_config\n",
    "# from dfiner.ontonote.ontonotes_data import read_figer\n",
    "# from dfiner.ontonote.mention_classifier import MentionClassifier\n",
    "# from dfiner.ontonote.ontonote_annotator import OntonoteTypeAnnotator\n",
    "# # from dfiner.annotators.mention_lex_entail import MentionEntailmentAnnotator\n",
    "# # from dfiner.annotators.nsd_annotator import NounSenseAnnotator, AverageEmbeddingNSD\n",
    "\n",
    "# # from dfiner.annotators.kb_bias_annotator import KBBiasTypeAnnotator\n",
    "# # from dfiner.eval.utils import to_column_format\n",
    "# import spacy\n",
    "# import numpy as np\n",
    "# import codecs\n",
    "# import os\n",
    "\n",
    "kbann = KBBiasTypeAnnotator(config, gensim_word_vectors, \"OntonoteType\")\n",
    "config[\"kba\"] = kbann\n",
    "# mc = OntonoteTypeAnnotator(config)\n",
    "# noun_sense = NounSenseAnnotator(config)\n",
    "\n",
    "# nsd = None\n",
    "# nsd_cache_path = config[\"nsd_cache_path\"]\n",
    "# embeddings_path = config[\"embeddings_path\"]\n",
    "# synset_offset_pos_embeddings_path = config[\"synset_offset_pos_embeddings_path\"]\n",
    "# if os.path.isfile(nsd_cache_path):\n",
    "#     try:\n",
    "#         nsd = AverageEmbeddingNSD.load_instance_from_pickle(nsd_cache_path)\n",
    "#     except:\n",
    "#         print(\"Encountered error while loading pickle from \" + nsd_cache_path)\n",
    "# nsd = nsd if nsd else AverageEmbeddingNSD(embeddings_path, synset_offset_pos_embeddings_path)\n",
    "# nsd = NounSenseAnnotator(nsd)\n",
    "\n",
    "# from dfiner.annotators import get_non_default_annotator\n",
    "# non_default_annotators = get_non_default_annotator(nlp, config, ngram_length=3)\n",
    "\n",
    "# mention_lex = MentionEntailmentAnnotator(config)\n",
    "# mention_lex.mention_view =\"OntonoteType\""
   ]
  },
  {
   "cell_type": "code",
   "execution_count": 487,
   "metadata": {
    "collapsed": false
   },
   "outputs": [],
   "source": [
    "from collections import defaultdict\n",
    "\n",
    "\n",
    "def set_to_string(set_of_type):\n",
    "    labels = [\"/\" + s.replace(\".\", \"/\") for s in set_of_type]\n",
    "    return \",\".join(sorted(labels))\n",
    "\n",
    "\n",
    "def id(typs):\n",
    "    return [x for source, x in typs]\n",
    "\n",
    "\n",
    "def to_column_format(doc, use_views, type_map_function=id):\n",
    "    ret = \"\"\n",
    "    bios = defaultdict(lambda: \"O\")\n",
    "    typs = defaultdict(set)\n",
    "    for v, use_all in use_views:\n",
    "        view = doc.user_data[v]\n",
    "        for c in view.constituents:\n",
    "            for i in range(c.start, c.end):\n",
    "                if use_all and c.label2score:\n",
    "                    for t in c.label2score:\n",
    "                        typs[i].add((v, t))\n",
    "                else:\n",
    "                    # use best\n",
    "                    if c.best_label_name:\n",
    "                        typs[i].add((v, c.best_label_name))\n",
    "                bios[i] = \"I\"\n",
    "            bios[c.start] = \"B\"\n",
    "    for i, token in enumerate(doc):\n",
    "        w = token.text\n",
    "        if bios[i] == \"O\":\n",
    "            if len(typs[i]) == 0:\n",
    "                inc = \"%s\\t%s\\n\" % (w, \"O\")\n",
    "                ret += inc\n",
    "            else:\n",
    "                raise ValueError(\"O tag have types..\")\n",
    "        else:\n",
    "            if len(typs[i]) > 0:\n",
    "                types = type_map_function(typs[i])\n",
    "                inc = \"%s\\t%s-%s\\n\" % (w, bios[i], set_to_string(types))\n",
    "                ret += inc\n",
    "            else:\n",
    "                raise ValueError(\"B-I tag have no types..\")\n",
    "    return ret\n"
   ]
  },
  {
   "cell_type": "code",
   "execution_count": 488,
   "metadata": {
    "collapsed": false,
    "scrolled": false
   },
   "outputs": [
    {
     "name": "stdout",
     "output_type": "stream",
     "text": [
      "0 doc do not have coarse grain new view... \n",
      "Activivating for Friday, with confidence 0.84\n",
      "defaultdict(<type 'float'>, {u'broadcast_program': 0.005434782608695652, u'written_work': 0.18478260869565216, u'music': 0.2391304347826087, u'art.film': 0.5706521739130435})\n",
      "Activivating for Friday, with confidence 0.84\n",
      "defaultdict(<type 'float'>, {u'broadcast_program': 0.005434782608695652, u'written_work': 0.18478260869565216, u'music': 0.2391304347826087, u'art.film': 0.5706521739130435})\n",
      "Activivating for July, with confidence 0.91\n",
      "defaultdict(<type 'float'>, {u'event.election': 1.0})\n",
      "Activivating for December, with confidence 0.91\n",
      "defaultdict(<type 'float'>, {u'event.natural_disaster': 0.058823529411764705, u'event.attack': 0.058823529411764705, u'event.protest': 0.029411764705882353, u'product.spacecraft': 0.029411764705882353, u'event.military_conflict': 0.058823529411764705, u'music': 0.5294117647058824, u'event.election': 0.23529411764705882})\n",
      "Activivating for Friday, with confidence 0.84\n",
      "defaultdict(<type 'float'>, {u'broadcast_program': 0.005434782608695652, u'written_work': 0.18478260869565216, u'music': 0.2391304347826087, u'art.film': 0.5706521739130435})\n",
      "Activivating for December, with confidence 0.91\n",
      "defaultdict(<type 'float'>, {u'event.natural_disaster': 0.058823529411764705, u'event.attack': 0.058823529411764705, u'event.protest': 0.029411764705882353, u'product.spacecraft': 0.029411764705882353, u'event.military_conflict': 0.058823529411764705, u'music': 0.5294117647058824, u'event.election': 0.23529411764705882})\n",
      "Activivating for September, with confidence 0.92\n",
      "defaultdict(<type 'float'>, {u'person.artist': 0.23728813559322032, u'person.musician': 0.15254237288135594, u'event.military_conflict': 0.01694915254237288, u'music': 0.288135593220339, u'person.actor': 0.0847457627118644, u'event.election': 0.03389830508474576, u'art.film': 0.1864406779661017})\n",
      "Activivating for December, with confidence 0.91\n",
      "defaultdict(<type 'float'>, {u'event.natural_disaster': 0.058823529411764705, u'event.attack': 0.058823529411764705, u'event.protest': 0.029411764705882353, u'product.spacecraft': 0.029411764705882353, u'event.military_conflict': 0.058823529411764705, u'music': 0.5294117647058824, u'event.election': 0.23529411764705882})\n",
      "Activivating for Friday, with confidence 0.84\n",
      "defaultdict(<type 'float'>, {u'broadcast_program': 0.005434782608695652, u'written_work': 0.18478260869565216, u'music': 0.2391304347826087, u'art.film': 0.5706521739130435})\n",
      "Activivating for February, with confidence 0.94\n",
      "defaultdict(<type 'float'>, {u'event.election': 0.06153846153846154, u'event.natural_disaster': 0.015384615384615385, u'event.protest': 0.46153846153846156, u'event.military_conflict': 0.46153846153846156})\n",
      "Activivating for Friday, with confidence 0.84\n",
      "defaultdict(<type 'float'>, {u'broadcast_program': 0.005434782608695652, u'written_work': 0.18478260869565216, u'music': 0.2391304347826087, u'art.film': 0.5706521739130435})\n",
      "Not found type organization or body_part\n",
      "Not found type building or body_part\n",
      "Not found type organization or body_part\n",
      "Not found type building or body_part\n",
      "Not found type organization or body_part\n",
      "Not found type organization or body_part\n",
      "Activivating for August, with confidence 0.93\n",
      "defaultdict(<type 'float'>, {u'person.politician': 0.024844720496894408, u'person.author': 0.043478260869565216, u'person.monarch': 0.012422360248447204, u'organization.company': 0.11180124223602486, u'person.soldier': 0.012422360248447204, u'person.engineer': 0.11180124223602486, u'event.natural_disaster': 0.006211180124223602, u'music': 0.09937888198757763, u'event.election': 0.44720496894409945, u'art.film': 0.13043478260869565})\n",
      "Not found type organization or body_part\n",
      "Not found type organization or body_part\n",
      "Not found type building or body_part\n",
      "Not found type person or body_part\n",
      "Not found type location or body_part\n",
      "Activivating for Cougars, with confidence 0.81\n",
      "defaultdict(<type 'float'>, {u'organization.company': 0.25190839694656486, u'product.airplane': 0.015267175572519085, u'organization.sports_team': 0.4732824427480916, u'product.car': 0.0076335877862595426, u'livingthing.animal': 0.25190839694656486})\n",
      "Activivating for Cougars, with confidence 0.81\n",
      "defaultdict(<type 'float'>, {u'organization.company': 0.25190839694656486, u'product.airplane': 0.015267175572519085, u'organization.sports_team': 0.4732824427480916, u'product.car': 0.0076335877862595426, u'livingthing.animal': 0.25190839694656486})\n",
      "Not found type organization or body_part\n",
      "Not found type person or body_part\n",
      "Not found type organization or body_part\n",
      "Activivating for March, with confidence 0.92\n",
      "defaultdict(<type 'float'>, {u'person.politician': 0.009523809523809525, u'location.city': 0.780952380952381, u'person.author': 0.01904761904761905, u'person.monarch': 0.009523809523809525, u'event.military_conflict': 0.009523809523809525, u'written_work': 0.09523809523809523, u'person.actor': 0.009523809523809525, u'event.election': 0.009523809523809525, u'location.body_of_water': 0.05714285714285714})\n",
      "Not found type organization or body_part\n",
      "Not found type person or body_part\n",
      "Not found type organization or body_part\n",
      "Not found type location or body_part\n",
      "0 doc do not have coarse grain new view... \n",
      "Activivating for Friday, with confidence 0.84\n",
      "defaultdict(<type 'float'>, {u'broadcast_program': 0.005434782608695652, u'written_work': 0.18478260869565216, u'music': 0.2391304347826087, u'art.film': 0.5706521739130435})\n",
      "Activivating for Friday, with confidence 0.84\n",
      "defaultdict(<type 'float'>, {u'broadcast_program': 0.005434782608695652, u'written_work': 0.18478260869565216, u'music': 0.2391304347826087, u'art.film': 0.5706521739130435})\n",
      "Activivating for July, with confidence 0.91\n",
      "defaultdict(<type 'float'>, {u'event.election': 1.0})\n",
      "Activivating for December, with confidence 0.91\n",
      "defaultdict(<type 'float'>, {u'event.natural_disaster': 0.058823529411764705, u'event.attack': 0.058823529411764705, u'event.protest': 0.029411764705882353, u'product.spacecraft': 0.029411764705882353, u'event.military_conflict': 0.058823529411764705, u'music': 0.5294117647058824, u'event.election': 0.23529411764705882})\n",
      "Activivating for Friday, with confidence 0.84\n",
      "defaultdict(<type 'float'>, {u'broadcast_program': 0.005434782608695652, u'written_work': 0.18478260869565216, u'music': 0.2391304347826087, u'art.film': 0.5706521739130435})\n",
      "Activivating for December, with confidence 0.91\n",
      "defaultdict(<type 'float'>, {u'event.natural_disaster': 0.058823529411764705, u'event.attack': 0.058823529411764705, u'event.protest': 0.029411764705882353, u'product.spacecraft': 0.029411764705882353, u'event.military_conflict': 0.058823529411764705, u'music': 0.5294117647058824, u'event.election': 0.23529411764705882})\n",
      "Activivating for September, with confidence 0.92\n",
      "defaultdict(<type 'float'>, {u'person.artist': 0.23728813559322032, u'person.musician': 0.15254237288135594, u'event.military_conflict': 0.01694915254237288, u'music': 0.288135593220339, u'person.actor': 0.0847457627118644, u'event.election': 0.03389830508474576, u'art.film': 0.1864406779661017})\n",
      "Activivating for December, with confidence 0.91\n",
      "defaultdict(<type 'float'>, {u'event.natural_disaster': 0.058823529411764705, u'event.attack': 0.058823529411764705, u'event.protest': 0.029411764705882353, u'product.spacecraft': 0.029411764705882353, u'event.military_conflict': 0.058823529411764705, u'music': 0.5294117647058824, u'event.election': 0.23529411764705882})\n",
      "Activivating for Friday, with confidence 0.84\n",
      "defaultdict(<type 'float'>, {u'broadcast_program': 0.005434782608695652, u'written_work': 0.18478260869565216, u'music': 0.2391304347826087, u'art.film': 0.5706521739130435})\n",
      "Activivating for February, with confidence 0.94\n",
      "defaultdict(<type 'float'>, {u'event.election': 0.06153846153846154, u'event.natural_disaster': 0.015384615384615385, u'event.protest': 0.46153846153846156, u'event.military_conflict': 0.46153846153846156})\n",
      "Activivating for Friday, with confidence 0.84\n",
      "defaultdict(<type 'float'>, {u'broadcast_program': 0.005434782608695652, u'written_work': 0.18478260869565216, u'music': 0.2391304347826087, u'art.film': 0.5706521739130435})\n",
      "Not found type organization or body_part\n",
      "Not found type building or body_part\n",
      "Not found type organization or body_part\n",
      "Not found type organization or body_part\n",
      "Not found type building or body_part\n",
      "Not found type organization or body_part\n",
      "Not found type organization or body_part\n",
      "Activivating for August, with confidence 0.93\n",
      "defaultdict(<type 'float'>, {u'person.politician': 0.024844720496894408, u'person.author': 0.043478260869565216, u'person.monarch': 0.012422360248447204, u'organization.company': 0.11180124223602486, u'person.soldier': 0.012422360248447204, u'person.engineer': 0.11180124223602486, u'event.natural_disaster': 0.006211180124223602, u'music': 0.09937888198757763, u'event.election': 0.44720496894409945, u'art.film': 0.13043478260869565})\n",
      "Not found type organization or body_part\n",
      "Not found type organization or body_part\n",
      "Not found type building or body_part\n",
      "Not found type person or body_part\n",
      "Not found type location or body_part\n",
      "Activivating for Cougars, with confidence 0.81\n",
      "defaultdict(<type 'float'>, {u'organization.company': 0.25190839694656486, u'product.airplane': 0.015267175572519085, u'organization.sports_team': 0.4732824427480916, u'product.car': 0.0076335877862595426, u'livingthing.animal': 0.25190839694656486})\n",
      "Activivating for Cougars, with confidence 0.81\n",
      "defaultdict(<type 'float'>, {u'organization.company': 0.25190839694656486, u'product.airplane': 0.015267175572519085, u'organization.sports_team': 0.4732824427480916, u'product.car': 0.0076335877862595426, u'livingthing.animal': 0.25190839694656486})\n",
      "Not found type organization or body_part\n",
      "Not found type organization or body_part\n",
      "Activivating for March, with confidence 0.92\n",
      "defaultdict(<type 'float'>, {u'person.politician': 0.009523809523809525, u'location.city': 0.780952380952381, u'person.author': 0.01904761904761905, u'person.monarch': 0.009523809523809525, u'event.military_conflict': 0.009523809523809525, u'written_work': 0.09523809523809523, u'person.actor': 0.009523809523809525, u'event.election': 0.009523809523809525, u'location.body_of_water': 0.05714285714285714})\n",
      "Not found type organization or body_part\n",
      "Not found type person or body_part\n",
      "Not found type organization or body_part\n",
      "Not found type location or body_part\n",
      "0 doc do not have coarse grain new view... \n",
      "CAUTION: more than one course types -> ([u'transportation.road', u'location']). Assigining (transportation.road).\n",
      "CAUTION: more than one course types -> (['building', u'location']). Assigining (building).\n",
      "CAUTION: more than one course types -> (['building', u'location']). Assigining (building).\n",
      "CAUTION: more than one course types -> (['building', u'location']). Assigining (building).\n",
      "CAUTION: more than one course types -> ([u'building', 'organization', u'location']). Assigining (building).\n",
      "CAUTION: more than one course types -> ([u'transportation.road', u'location']). Assigining (transportation.road).\n",
      "CAUTION: more than one course types -> ([u'transportation.road', u'location']). Assigining (transportation.road).\n",
      "CAUTION: more than one course types -> ([u'transportation.road', u'location']). Assigining (transportation.road).\n",
      "CAUTION: more than one course types -> ([u'building', u'location']). Assigining (building).\n",
      "CAUTION: more than one course types -> ([u'organization', u'location']). Assigining (organization).\n",
      "CAUTION: more than one course types -> ([u'organization', u'location']). Assigining (organization).\n",
      "CAUTION: more than one course types -> ([u'building', u'organization', u'location']). Assigining (building).\n",
      "CAUTION: more than one course types -> ([u'building', u'organization', u'location']). Assigining (building).\n",
      "CAUTION: more than one course types -> ([u'organization', u'location']). Assigining (organization).\n",
      "CAUTION: more than one course types -> ([u'building', u'organization']). Assigining (building).\n",
      "CAUTION: more than one course types -> (['organization', u'location']). Assigining (organization).\n",
      "CAUTION: more than one course types -> ([u'building', 'organization']). Assigining (building).\n",
      "CAUTION: more than one course types -> ([u'organization', u'location']). Assigining (organization).\n",
      "CAUTION: more than one course types -> (['organization', u'location']). Assigining (organization).\n",
      "CAUTION: more than one course types -> ([u'organization', u'location']). Assigining (organization).\n",
      "CAUTION: more than one course types -> ([u'organization', u'location']). Assigining (organization).\n",
      "CAUTION: more than one course types -> ([u'building', u'organization']). Assigining (building).\n",
      "CAUTION: more than one course types -> ([u'organization', u'location']). Assigining (organization).\n",
      "CAUTION: more than one course types -> ([u'organization', u'location']). Assigining (organization).\n",
      "CAUTION: more than one course types -> ([u'building', u'organization', u'location']). Assigining (building).\n",
      "CAUTION: more than one course types -> ([u'building', u'location']). Assigining (building).\n",
      "CAUTION: more than one course types -> ([u'building', u'location']). Assigining (building).\n",
      "CAUTION: more than one course types -> ([u'building', u'location']). Assigining (building).\n",
      "CAUTION: more than one course types -> ([u'organization', 'work']). Assigining (organization).\n",
      "CAUTION: more than one course types -> (['norpl', u'location']). Assigining (norpl).\n",
      "CAUTION: more than one course types -> (['norpl', u'location']). Assigining (norpl).\n",
      "CAUTION: more than one course types -> (['norpl', u'location']). Assigining (norpl).\n",
      "CAUTION: more than one course types -> ([u'building', u'location']). Assigining (building).\n",
      "CAUTION: encoutered error while looking up ([u'internet.website', u'organization.company', u'organization'])\n",
      "CAUTION: encoutered error while looking up ([u'internet.website'])\n",
      "0 doc do not have coarse grain new view... \n",
      "CAUTION: more than one course types -> ([u'person', 'organization']). Assigining (person).\n",
      "CAUTION: more than one course types -> ([u'person', 'organization']). Assigining (person).\n",
      "CAUTION: more than one course types -> (['norpl', u'location']). Assigining (norpl).\n",
      "CAUTION: more than one course types -> ([u'event', u'time']). Assigining (event).\n",
      "CAUTION: more than one course types -> ([u'event', u'time']). Assigining (event).\n",
      "CAUTION: more than one course types -> (['person', 'organization', 'norpl', u'location', u'title']). Assigining (person).\n",
      "CAUTION: encoutered error while looking up ([u'disease'])\n",
      "CAUTION: more than one course types -> ([u'organization', u'title']). Assigining (organization).\n",
      "CAUTION: more than one course types -> ([u'organization', 'work']). Assigining (organization).\n",
      "CAUTION: more than one course types -> ([u'organization', 'work', 'person']). Assigining (organization).\n",
      "CAUTION: more than one course types -> ([u'organization', 'work']). Assigining (organization).\n",
      "CAUTION: more than one course types -> (['norpl', u'time']). Assigining (norpl).\n",
      "CAUTION: more than one course types -> ([u'building', 'work', u'location']). Assigining (building).\n",
      "CAUTION: more than one course types -> ([u'organization', 'person']). Assigining (organization).\n",
      "CAUTION: more than one course types -> ([u'building', u'location']). Assigining (building).\n",
      "CAUTION: more than one course types -> ([u'organization', u'location']). Assigining (organization).\n",
      "CAUTION: more than one course types -> ([u'building', 'organization', u'location']). Assigining (building).\n",
      "CAUTION: more than one course types -> (['person', 'organization']). Assigining (person).\n",
      "CAUTION: more than one course types -> ([u'transportation.road', u'location']). Assigining (transportation.road).\n",
      "CAUTION: more than one course types -> ([u'transportation.road', u'location']). Assigining (transportation.road).\n",
      "CAUTION: encoutered error while looking up ([u'person', u'internet.website', u'building.library'])\n",
      "CAUTION: encoutered error while looking up ([u'disease'])\n",
      "CAUTION: more than one course types -> ([u'building', u'organization', u'location']). Assigining (building).\n",
      "CAUTION: more than one course types -> ([u'building', u'organization', u'location']). Assigining (building).\n",
      "CAUTION: more than one course types -> ([u'organization', u'location']). Assigining (organization).\n",
      "CAUTION: more than one course types -> (['organization', 'work', u'time']). Assigining (organization).\n",
      "CAUTION: more than one course types -> (['organization', u'location']). Assigining (organization).\n",
      "CAUTION: more than one course types -> (['organization', u'location']). Assigining (organization).\n",
      "CAUTION: more than one course types -> (['person', 'work', u'time']). Assigining (person).\n",
      "CAUTION: more than one course types -> (['organization', u'location']). Assigining (organization).\n",
      "CAUTION: more than one course types -> (['organization', 'living_thing']). Assigining (organization).\n",
      "CAUTION: encoutered error while looking up ([u'game'])\n",
      "CAUTION: more than one course types -> ([u'organization', u'location']). Assigining (organization).\n",
      "CAUTION: more than one course types -> (['person', u'location']). Assigining (person).\n",
      "CAUTION: more than one course types -> ([u'organization', u'location']). Assigining (organization).\n",
      "CAUTION: more than one course types -> ([u'organization', 'person']). Assigining (organization).\n",
      "CAUTION: more than one course types -> ([u'organization', u'location']). Assigining (organization).\n",
      "CAUTION: more than one course types -> ([u'person', 'organization']). Assigining (person).\n",
      "CAUTION: encoutered error while looking up ([u'person', u'person.author', u'internet.website'])\n",
      "CAUTION: more than one course types -> ([u'person', u'location']). Assigining (person).\n",
      "CAUTION: more than one course types -> ([u'person', u'organization']). Assigining (person).\n",
      "CAUTION: more than one course types -> (['work', u'location']). Assigining (work).\n",
      "CAUTION: more than one course types -> (['organization', u'location']). Assigining (organization).\n",
      "CAUTION: more than one course types -> ([u'building', u'organization', u'location']). Assigining (building).\n",
      "CAUTION: more than one course types -> ([u'organization', u'location']). Assigining (organization).\n",
      "CAUTION: more than one course types -> (['organization', u'location']). Assigining (organization).\n",
      "CAUTION: more than one course types -> ([u'organization', u'location']). Assigining (organization).\n",
      "CAUTION: more than one course types -> (['organization', u'location']). Assigining (organization).\n",
      "CAUTION: more than one course types -> ([u'person', u'location']). Assigining (person).\n",
      "CAUTION: more than one course types -> ([u'building', u'location']). Assigining (building).\n",
      "CAUTION: more than one course types -> ([u'building', u'location']). Assigining (building).\n",
      "CAUTION: more than one course types -> ([u'building', u'location']). Assigining (building).\n",
      "CAUTION: more than one course types -> ([u'person', 'location']). Assigining (person).\n",
      "CAUTION: encoutered error while looking up ([u'game'])\n",
      "CAUTION: more than one course types -> ([u'person', u'location']). Assigining (person).\n",
      "CAUTION: more than one course types -> ([u'organization', 'work']). Assigining (organization).\n",
      "CAUTION: more than one course types -> ([u'organization', 'person']). Assigining (organization).\n",
      "CAUTION: more than one course types -> ([u'organization', 'person']). Assigining (organization).\n",
      "CAUTION: more than one course types -> ([u'person', u'organization']). Assigining (person).\n",
      "CAUTION: more than one course types -> (['work', 'norpl', u'software']). Assigining (work).\n",
      "CAUTION: more than one course types -> (['work', 'norpl', u'software']). Assigining (work).\n",
      "CAUTION: more than one course types -> ([u'organization', u'location']). Assigining (organization).\n",
      "CAUTION: more than one course types -> ([u'organization', u'location']). Assigining (organization).\n",
      "CAUTION: more than one course types -> ([u'organization', u'event']). Assigining (organization).\n",
      "CAUTION: more than one course types -> ([u'building', u'location']). Assigining (building).\n",
      "CAUTION: more than one course types -> (['person', 'norpl', u'location', u'event']). Assigining (person).\n",
      "CAUTION: more than one course types -> ([u'organization', u'location']). Assigining (organization).\n",
      "CAUTION: more than one course types -> ([u'organization', 'person']). Assigining (organization).\n",
      "CAUTION: more than one course types -> ([u'organization', 'person']). Assigining (organization).\n",
      "CAUTION: more than one course types -> ([u'organization', 'person']). Assigining (organization).\n",
      "CAUTION: more than one course types -> ([u'organization', u'location']). Assigining (organization).\n",
      "CAUTION: more than one course types -> ([u'organization', 'person']). Assigining (organization).\n",
      "CAUTION: more than one course types -> ([u'building', u'location', u'event']). Assigining (building).\n",
      "CAUTION: encoutered error while looking up ([u'organization', u'organization.company', u'internet.website'])\n",
      "CAUTION: more than one course types -> ([u'organization', 'person']). Assigining (organization).\n",
      "CAUTION: more than one course types -> ([u'organization', 'person']). Assigining (organization).\n",
      "CAUTION: encoutered error while looking up ([u'broadcast_network'])\n",
      "CAUTION: more than one course types -> ([u'organization', 'person']). Assigining (organization).\n",
      "CAUTION: more than one course types -> ([u'organization', 'person']). Assigining (organization).\n",
      "CAUTION: more than one course types -> ([u'organization', u'location', 'person']). Assigining (organization).\n",
      "CAUTION: more than one course types -> ([u'person', u'location']). Assigining (person).\n",
      "CAUTION: more than one course types -> (['organization', u'location']). Assigining (organization).\n",
      "CAUTION: more than one course types -> ([u'transportation.road', u'location']). Assigining (transportation.road).\n",
      "CAUTION: more than one course types -> ([u'organization', u'location']). Assigining (organization).\n",
      "CAUTION: more than one course types -> ([u'organization', u'location', 'person']). Assigining (organization).\n",
      "CAUTION: more than one course types -> (['organization', 'location']). Assigining (organization).\n",
      "CAUTION: more than one course types -> ([u'organization', u'location']). Assigining (organization).\n",
      "CAUTION: more than one course types -> (['organization', u'location']). Assigining (organization).\n",
      "0 doc do not have coarse grain new view... \n"
     ]
    }
   ],
   "source": [
    "def new_rule(typs):\n",
    "    ret = []\n",
    "    for source, x in typs:\n",
    "        if source == \"KBBiasType\" and x == \"organization.company\":\n",
    "#             pass\n",
    "            continue\n",
    "        if x == \"norpl\":\n",
    "            x = \"people.ethnicity\"\n",
    "        if x == \"transportation.road\":\n",
    "            ret.append(\"location\")\n",
    "#         if x == \"organization.sports_league\":\n",
    "#             ret.append(\"organization.company\")\n",
    "        if x == \"news_agency\":\n",
    "            ret.append(\"organization.company\")\n",
    "        if x == \"building\":\n",
    "            ret.append(\"location\")\n",
    "        ret.append(x)\n",
    "    return set(ret)\n",
    "\n",
    "\n",
    "VIEW_NAME = \"OntonoteType\"\n",
    "add_pred_view(y_figer_pred, figer_test, VIEW_NAME)\n",
    "add_pred_view(y_figer_gold_pred, figer_gold_test, VIEW_NAME)\n",
    "\n",
    "def write_col_format_coarse(filename, figer_docs):\n",
    "    counter = 0\n",
    "\n",
    "\n",
    "    with codecs.open(filename, \"w\", \"utf-8\") as out:\n",
    "        for doc in figer_docs:\n",
    "            if \"OntonoteType\" not in doc.user_data:\n",
    "                counter += 1\n",
    "                doc.user_data[\"OntonoteType\"] = View()\n",
    "            for a in non_default_annotators:\n",
    "                a(doc)\n",
    "            use_types = [(\"OntonoteType\", False)]\n",
    "            for t, _ in use_types:\n",
    "                if t not in doc.user_data:\n",
    "                    doc.user_data[t] = View()\n",
    "            s = to_column_format(doc, use_types)\n",
    "    #         s = to_column_format(doc, [(\"OntonoteType\", False)])        \n",
    "            out.write(s)\n",
    "            out.write(\"\\n\")\n",
    "    print(\"%d doc do not have coarse grain new view... \" % counter)\n",
    "write_col_format_coarse(\"/home/haowu4/.py_cache/figer_docs_coarse.out\", figer_docs)\n",
    "# write_col_format(\"/tmp/figer_gold_docs.out\", figer_gold_docs)\n",
    "\n",
    "\n",
    "def write_col_format(filename, figer_docs):\n",
    "    counter = 0\n",
    "\n",
    "    with codecs.open(filename, \"w\", \"utf-8\") as out:\n",
    "        for doc in figer_docs:\n",
    "            if \"OntonoteType\" not in doc.user_data:\n",
    "                counter += 1\n",
    "                doc.user_data[\"OntonoteType\"] = View()\n",
    "            kbann(doc)\n",
    "            meann(doc)\n",
    "            for a in non_default_annotators:\n",
    "                a(doc)\n",
    "            use_types = [(\"OntonoteType\", False), (\"KBBiasType\", False), (\"MentionEntail\", False)]\n",
    "            for t, _ in use_types:\n",
    "                if t not in doc.user_data:\n",
    "                    doc.user_data[t] = View()\n",
    "            s = to_column_format(doc, use_types, new_rule)\n",
    "    #         s = to_column_format(doc, [(\"OntonoteType\", False)])        \n",
    "            out.write(s)\n",
    "            out.write(\"\\n\")\n",
    "    print(\"%d doc do not have coarse grain new view... \" % counter)\n",
    "write_col_format(\"/home/haowu4/.py_cache/figer_docs.out\", figer_docs)\n",
    "write_col_format(\"/home/haowu4/.py_cache/figer_gold_docs.out\", figer_gold_docs)\n",
    "\n",
    "\n",
    "def write_coarse_gold_col_format(filename, figer_docs):\n",
    "    counter = 0\n",
    "    for doc in figer_docs:\n",
    "        gold_view = doc.user_data[\"gold_mention_view\"]\n",
    "        gold_coarse_view = View()\n",
    "        for c in gold_view.constituents:\n",
    "            label_name = figer_type_func(c)\n",
    "            if label_name:\n",
    "                cc = Constituent(c.start,\n",
    "                            c.end,\n",
    "                            name=\"gold_mention_coarse_view\",\n",
    "                            label2score={label_name: 1.0})\n",
    "                gold_coarse_view.add_constituent(cc)\n",
    "        doc.user_data[\"gold_mention_coarse_view\"] = gold_coarse_view\n",
    "        \n",
    "        \n",
    "    with codecs.open(filename, \"w\", \"utf-8\") as out:\n",
    "        for doc in figer_docs:\n",
    "            use_types = [(\"gold_mention_coarse_view\", False)]\n",
    "            for t, _ in use_types:\n",
    "                if t not in doc.user_data:\n",
    "                    doc.user_data[t] = View()\n",
    "            s = to_column_format(doc, use_types)\n",
    "    #         s = to_column_format(doc, [(\"OntonoteType\", False)])        \n",
    "            out.write(s)\n",
    "            out.write(\"\\n\")\n",
    "    print(\"%d doc do not have coarse grain new view... \" % counter)\n",
    "\n",
    "write_coarse_gold_col_format(\"/home/haowu4/.py_cache/figer_coarse_gold.out\", figer_docs)\n",
    "write_coarse_gold_col_format(\"/home/haowu4/.py_cache/figer_coarse_theirs.out\", \n",
    "                             read_figer(nlp, \"/home/muddire2/nlpresearch/datalessFNER/python/eval_output/example_output.figer_output\")\n",
    ")\n",
    "\n",
    "# write_coarse_gold_col_format(\"/tmp/figer_coarse_gold.out\", read_figer())"
   ]
  },
  {
   "cell_type": "code",
   "execution_count": 489,
   "metadata": {
    "collapsed": false
   },
   "outputs": [
    {
     "name": "stdout",
     "output_type": "stream",
     "text": [
      "23 24 {'medicine.symptom': 1.0, 'event': 1.0}\n",
      "14 22 {'organization': 1.0, 'medicine.symptom': 1.0, 'event': 1.0, 'language': 1.0, 'person': 1.0}\n",
      "5 10 {'person': 1.0, 'government.government': 1.0, 'education.department': 1.0, 'organization': 1.0}\n"
     ]
    }
   ],
   "source": [
    "for c in figer_docs[0].user_data[\"fine_type_view\"].constituents:\n",
    "    print c.start, c.end, c.label2score"
   ]
  },
  {
   "cell_type": "code",
   "execution_count": 67,
   "metadata": {
    "collapsed": false
   },
   "outputs": [
    {
     "data": {
      "text/plain": [
       "[u'organization', u'organization', 'organization', 'organization']"
      ]
     },
     "execution_count": 67,
     "metadata": {},
     "output_type": "execute_result"
    }
   ],
   "source": [
    "\n",
    "[figer_type_func(c) for c in figer_docs[0].user_data[\"gold_mention_view\"].constituents]"
   ]
  },
  {
   "cell_type": "code",
   "execution_count": 68,
   "metadata": {
    "collapsed": false
   },
   "outputs": [
    {
     "name": "stdout",
     "output_type": "stream",
     "text": [
      "561\n",
      "(324.0, 561.0, 561.0)\n",
      "Strict F1 :\n",
      "P: 0.578\t R: 0.578\t F1: 0.578\n",
      "\n",
      "\n",
      "\n",
      "(533.0, 533.0, 674.0, 776.0)\n",
      "Losse Mirco :\n",
      "P: 0.791\t R: 0.687\t F1: 0.735\n",
      "\n",
      "\n",
      "\n",
      "(454.0, 412.6666666666667, 561.0, 563.0)\n",
      "Losse Marco F1 :\n",
      "P: 0.809\t R: 0.733\t F1: 0.769\n",
      "----------------------------------------------------------------\n",
      "561\n",
      "(330.0, 561.0, 561.0)\n",
      "Strict F1 :\n",
      "P: 0.588\t R: 0.588\t F1: 0.588\n",
      "\n",
      "\n",
      "\n",
      "(557.0, 557.0, 674.0, 840.0)\n",
      "Losse Mirco :\n",
      "P: 0.826\t R: 0.663\t F1: 0.736\n",
      "\n",
      "\n",
      "\n",
      "(473.0, 417.1333333333332, 561.0, 563.0)\n",
      "Losse Marco F1 :\n",
      "P: 0.843\t R: 0.741\t F1: 0.789\n",
      "----------------------------------------------------------------\n",
      "578\n",
      "(365.0, 578.0, 578.0)\n",
      "Strict F1 :\n",
      "P: 0.631\t R: 0.631\t F1: 0.631\n",
      "\n",
      "\n",
      "\n",
      "(579.0, 579.0, 690.0, 791.0)\n",
      "Losse Mirco :\n",
      "P: 0.839\t R: 0.732\t F1: 0.782\n",
      "\n",
      "\n",
      "\n",
      "(493.0, 453.6666666666667, 578.0, 580.0)\n",
      "Losse Marco F1 :\n",
      "P: 0.853\t R: 0.782\t F1: 0.816\n",
      "----------------------------------------------------------------\n",
      "555\n",
      "(445.0, 555.0, 555.0)\n",
      "Strict F1 :\n",
      "P: 0.802\t R: 0.802\t F1: 0.802\n",
      "\n",
      "\n",
      "\n",
      "(445.0, 445.0, 555.0, 561.0)\n",
      "Losse Mirco :\n",
      "P: 0.802\t R: 0.793\t F1: 0.797\n",
      "\n",
      "\n",
      "\n",
      "(445.0, 445.0, 555.0, 561.0)\n",
      "Losse Marco F1 :\n",
      "P: 0.802\t R: 0.793\t F1: 0.797\n",
      "----------------------------------------------------------------\n",
      "561\n",
      "(487.0, 561.0, 561.0)\n",
      "Strict F1 :\n",
      "P: 0.868\t R: 0.868\t F1: 0.868\n",
      "\n",
      "\n",
      "\n",
      "(487.0, 487.0, 561.0, 561.0)\n",
      "Losse Mirco :\n",
      "P: 0.868\t R: 0.868\t F1: 0.868\n",
      "\n",
      "\n",
      "\n",
      "(487.0, 487.0, 561.0, 561.0)\n",
      "Losse Marco F1 :\n",
      "P: 0.868\t R: 0.868\t F1: 0.868\n"
     ]
    }
   ],
   "source": [
    "from dfiner.eval.eval import eval_two_file\n",
    "\n",
    "eval_two_file(config[\"figer_path\"], \"/tmp/figer_docs.out\")\n",
    "print(\"----------------------------------------------------------------\")\n",
    "eval_two_file(\"//home/muddire2/nlpresearch/datalessFNER/python/eval_output/xiang_ren_figer_gold.label\", \"/tmp/figer_docs.out\")\n",
    "print(\"----------------------------------------------------------------\")\n",
    "\n",
    "eval_two_file(config['figer_gold'], \"/tmp/figer_gold_docs.out\")\n",
    "print(\"----------------------------------------------------------------\")\n",
    "eval_two_file(\"/tmp/figer_coarse_gold.out\", \"/tmp/figer_coarse_theirs.out\")\n",
    "\n",
    "print(\"----------------------------------------------------------------\")\n",
    "eval_two_file(\"/tmp/figer_coarse_gold.out\", \"/tmp/figer_docs_coarse.out\")\n",
    "\n"
   ]
  },
  {
   "cell_type": "code",
   "execution_count": null,
   "metadata": {
    "collapsed": false,
    "scrolled": false
   },
   "outputs": [],
   "source": [
    "def print_performan_by_type(f1, f2):\n",
    "\n",
    "    def is_B(line):\n",
    "        line = line.strip().split()\n",
    "        if len(line) != 2:\n",
    "            return False\n",
    "        return line[1].startswith(\"B-\")\n",
    "\n",
    "    def slash_to_dot(slash_str):\n",
    "        return \".\".join(slash_str.split(\"/\")[1:])\n",
    "\n",
    "    def extract_types(line):\n",
    "        line = line.strip().split()\n",
    "        if len(line) != 2:\n",
    "            return set()\n",
    "        typs = line[1].split(\"-\")[1]\n",
    "        return set(typs.split(\",\"))\n",
    "\n",
    "\n",
    "    pred_pairs = defaultdict(float)\n",
    "\n",
    "    with open(f1) as gold_input:\n",
    "        with open(f2) as pred_input:\n",
    "            for gold_line, pred_line in zip(gold_input, pred_input):\n",
    "                if is_B(gold_line):\n",
    "                    if is_B(pred_line):\n",
    "                        gold_type = extract_types(gold_line)\n",
    "                        pred_type = extract_types(pred_line)\n",
    "                        for g in gold_type:\n",
    "                            for p in pred_type:\n",
    "                                pred_pairs[(g, p)] += 1.0\n",
    "                    else:\n",
    "                        print(\"BB do not match...\")\n",
    "\n",
    "    gold_to_pred = defaultdict(lambda: defaultdict(float))\n",
    "    pred_to_gold = defaultdict(lambda: defaultdict(float))\n",
    "\n",
    "    gold_sum = defaultdict(float)\n",
    "    pred_sum = defaultdict(float)\n",
    "\n",
    "    all_type = set()\n",
    "\n",
    "    for g, p in pred_pairs:\n",
    "        c = pred_pairs[(g, p)]\n",
    "        gold_to_pred[g][p] += c\n",
    "        pred_to_gold[p][g] += c\n",
    "        gold_sum[g] += c\n",
    "        pred_sum[p] += c\n",
    "        all_type.add(p)\n",
    "        all_type.add(g)\n",
    "\n",
    "    print(\"%40s\\t%s\\t%s\\t%s\\t%s\\t%s\" %\n",
    "          (\"label\", \"GC\", \"PC\", \"P\", \"R\", \"F1\"))\n",
    "\n",
    "    weight_sum = 0.0\n",
    "    unweight_sum = 0.0\n",
    "    N = 0.0\n",
    "    \n",
    "    for label in all_type:\n",
    "        pc = pred_sum[label]\n",
    "        gc = gold_sum[label]\n",
    "        cc = pred_pairs[(label, label)]\n",
    "        f1 = 0.0\n",
    "        precision = 0.0\n",
    "        recall = 0.0\n",
    "        if cc == 0:\n",
    "            pass\n",
    "        else:\n",
    "            if pc != 0:\n",
    "                precision = cc / pc\n",
    "            if gc != 0:\n",
    "                recall = cc / gc\n",
    "            f1 = 2 * precision * recall / (precision + recall)\n",
    "            N += gc\n",
    "            weight_sum += (f1 * gc)\n",
    "            unweight_sum += f1\n",
    "\n",
    "        print(\"%40s\\t%d\\t%d\\t%.3f\\t%.3f\\t%.3f\" %\n",
    "              (slash_to_dot(label), int(gc), int(pc), precision, recall, f1))\n",
    "        \n",
    "    print(\"weight_sum = %.2f\" % weight_sum)\n",
    "    print(\"unweight_sum = %.2f\" % unweight_sum)\n",
    "    print(\"N = %.2f\" % N)\n",
    "    print(\"len(type) = %d\" % len(gold_sum))\n",
    "    s1 = set([slash_to_dot(x) for x in gold_sum])\n",
    "    s2 = set(type_lex.reverse_lex())\n",
    "    print(s1.difference(s2))\n",
    "    print(s2.difference(s1))\n",
    "    \n",
    "print_performan_by_type(config[\"figer_path\"], \"/tmp/figer_docs.out\")\n",
    "print(\"----------------------------------------------------------------\")\n",
    "print_performan_by_type(config['figer_gold'], \"/tmp/figer_gold_docs.out\")\n",
    "print(\"----------------------------------------------------------------\")\n",
    "print_performan_by_type(\"/tmp/figer_coarse_gold.out\", \"/tmp/figer_coarse_theirs.out\")"
   ]
  },
  {
   "cell_type": "code",
   "execution_count": null,
   "metadata": {
    "collapsed": false
   },
   "outputs": [],
   "source": [
    "7.94/16.0"
   ]
  },
  {
   "cell_type": "code",
   "execution_count": null,
   "metadata": {
    "collapsed": false
   },
   "outputs": [],
   "source": [
    "444.81/548.00"
   ]
  },
  {
   "cell_type": "markdown",
   "metadata": {},
   "source": [
    "# -----------------------------------------------------------------------------------------------------"
   ]
  },
  {
   "cell_type": "code",
   "execution_count": 265,
   "metadata": {
    "collapsed": false
   },
   "outputs": [],
   "source": [
    "# mistakes dictionary\n",
    "mistake_dict = {}\n",
    "correct_dict = {}\n",
    "for i, (y_gold, y_pred) in enumerate(zip(Y_test, y_test_pred)):\n",
    "    if y_gold != y_pred:\n",
    "        mistake_dict.setdefault(y_gold, {})\n",
    "        mistake_dict[y_gold].setdefault(y_pred, [])\n",
    "        mistake_dict[y_gold][y_pred].append(i)\n",
    "    else:\n",
    "        correct_dict.setdefault(y_gold, [])\n",
    "        correct_dict[y_gold].append(i)"
   ]
  },
  {
   "cell_type": "code",
   "execution_count": 266,
   "metadata": {
    "collapsed": false
   },
   "outputs": [],
   "source": [
    "# mistakes dictionary\n",
    "figer_gold_mistake_dict = {}\n",
    "figer_gold_correct_dict = {}\n",
    "for i, (y_gold, y_pred) in enumerate(zip(Y_figer_gold, y_figer_gold_pred)):\n",
    "    if y_gold != y_pred:\n",
    "        figer_gold_mistake_dict.setdefault(y_gold, {})\n",
    "        figer_gold_mistake_dict[y_gold].setdefault(y_pred, [])\n",
    "        figer_gold_mistake_dict[y_gold][y_pred].append(i)\n",
    "    else:\n",
    "        figer_gold_correct_dict.setdefault(y_gold, [])\n",
    "        figer_gold_correct_dict[y_gold].append(i)"
   ]
  },
  {
   "cell_type": "code",
   "execution_count": 260,
   "metadata": {
    "collapsed": true
   },
   "outputs": [],
   "source": [
    "\n",
    "def plot_confusion_matrix(cm, classes,\n",
    "                          normalize=False,\n",
    "                          title='Confusion matrix',\n",
    "                          annotate=False,\n",
    "                          cmap=plt.cm.Blues):\n",
    "    \"\"\"\n",
    "    This function prints and plots the confusion matrix.\n",
    "    Normalization can be applied by setting `normalize=True`.\n",
    "    \"\"\"\n",
    "    \n",
    "    if normalize:\n",
    "        orginal_cm = cm\n",
    "        cm = cm.astype('float') / np.maximum(1, cm.sum(axis=1)[:, np.newaxis])\n",
    "        print(\"Normalized confusion matrix\")\n",
    "    else:\n",
    "        print('Confusion matrix, without normalization')\n",
    "    \n",
    "#     print(cm)\n",
    "    \n",
    "    plt.imshow(cm, interpolation='nearest', cmap=cmap)\n",
    "    plt.title(title)\n",
    "    plt.colorbar()\n",
    "    tick_marks = np.arange(len(classes))\n",
    "    plt.xticks(tick_marks, classes, rotation=45)\n",
    "    plt.yticks(tick_marks, classes)\n",
    "\n",
    "    thresh = cm.max() / 2.\n",
    "    if annotate:\n",
    "        for i, j in itertools.product(range(cm.shape[0]), range(cm.shape[1])):\n",
    "            plt.text(j, i, cm[i, j],\n",
    "                     horizontalalignment=\"center\",\n",
    "                     color=\"white\" if cm[i, j] > thresh else \"black\")\n",
    "\n",
    "    plt.tight_layout()\n",
    "    plt.ylabel('True label')\n",
    "    plt.xlabel('Predicted label')\n",
    "\n"
   ]
  },
  {
   "cell_type": "code",
   "execution_count": 262,
   "metadata": {
    "collapsed": false,
    "scrolled": false
   },
   "outputs": [
    {
     "name": "stdout",
     "output_type": "stream",
     "text": [
      "Confusion matrix, without normalization\n",
      "Normalized confusion matrix\n"
     ]
    },
    {
     "data": {
      "image/png": "[encoded data removed]",
      "text/plain": [
       "<matplotlib.figure.Figure at 0x7f02af005b90>"
      ]
     },
     "metadata": {},
     "output_type": "display_data"
    },
    {
     "data": {
      "image/png": "[encoded data removed]",
      "text/plain": [
       "<matplotlib.figure.Figure at 0x7f02a9dbd7d0>"
      ]
     },
     "metadata": {},
     "output_type": "display_data"
    }
   ],
   "source": [
    "\n",
    "# Compute confusion matrix\n",
    "cnf_matrix = confusion_matrix(Y_figer, y_figer_pred, classes)\n",
    "np.set_printoptions(precision=2)\n",
    "\n",
    "# Plot non-normalized confusion matrix\n",
    "plt.figure(figsize=(15,15))\n",
    "class_names = [index_to_type[k] for k in xrange(len(index_to_type))]\n",
    "plot_confusion_matrix(cnf_matrix, classes=class_names, annotate=True,\n",
    "                      title='Confusion matrix, without normalization')\n",
    "\n",
    "# Plot normalized confusion matrix\n",
    "plt.figure(figsize=(15,15))\n",
    "plot_confusion_matrix(cnf_matrix, classes=class_names, normalize=True,\n",
    "                      title='Normalized confusion matrix')\n",
    "\n",
    "plt.show()"
   ]
  },
  {
   "cell_type": "code",
   "execution_count": 261,
   "metadata": {
    "collapsed": false,
    "scrolled": false
   },
   "outputs": [
    {
     "name": "stdout",
     "output_type": "stream",
     "text": [
      "Confusion matrix, without normalization\n",
      "Normalized confusion matrix\n"
     ]
    },
    {
     "data": {
      "image/png": "[encoded data removed]",
      "text/plain": [
       "<matplotlib.figure.Figure at 0x7f02af005d90>"
      ]
     },
     "metadata": {},
     "output_type": "display_data"
    },
    {
     "data": {
      "image/png": "[encoded data removed]",
      "text/plain": [
       "<matplotlib.figure.Figure at 0x7f02addf3d10>"
      ]
     },
     "metadata": {},
     "output_type": "display_data"
    }
   ],
   "source": [
    "\n",
    "# Compute confusion matrix\n",
    "cnf_matrix = confusion_matrix(Y_test, y_test_pred, classes)\n",
    "np.set_printoptions(precision=2)\n",
    "\n",
    "# Plot non-normalized confusion matrix\n",
    "plt.figure(figsize=(15,15))\n",
    "class_names = [index_to_type[k] for k in xrange(len(index_to_type))]\n",
    "plot_confusion_matrix(cnf_matrix, classes=class_names, annotate=True,\n",
    "                      title='Confusion matrix, without normalization')\n",
    "\n",
    "# Plot normalized confusion matrix\n",
    "plt.figure(figsize=(15,15))\n",
    "plot_confusion_matrix(cnf_matrix, classes=class_names, normalize=True,\n",
    "                      title='Normalized confusion matrix')\n",
    "\n",
    "plt.show()"
   ]
  },
  {
   "cell_type": "code",
   "execution_count": null,
   "metadata": {
    "collapsed": false
   },
   "outputs": [],
   "source": [
    "set(Y_figer_gold)"
   ]
  },
  {
   "cell_type": "code",
   "execution_count": null,
   "metadata": {
    "collapsed": true
   },
   "outputs": [],
   "source": [
    "# # Compute confusion matrix\n",
    "# figer_gold_cnf_matrix = confusion_matrix(Y_figer_gold, y_figer_gold_pred, classes)\n",
    "# np.set_printoptions(precision=2)\n",
    "\n",
    "# # Plot non-normalized confusion matrix\n",
    "# plt.figure(figsize=(15,15))\n",
    "# class_names = [index_to_type[k] for k in xrange(len(index_to_type))]\n",
    "# plot_confusion_matrix(figer_gold_cnf_matrix, classes=class_names, annotate=True,\n",
    "#                       title='Figer Gold Confusion matrix, without normalization')\n",
    "\n",
    "# # Plot normalized confusion matrix\n",
    "# plt.figure(figsize=(15,15))\n",
    "# plot_confusion_matrix(figer_gold_cnf_matrix, classes=class_names, normalize=True,\n",
    "#                       title='Figer Gold Normalized confusion matrix')\n",
    "\n",
    "# plt.show()"
   ]
  },
  {
   "cell_type": "code",
   "execution_count": 263,
   "metadata": {
    "collapsed": false
   },
   "outputs": [],
   "source": [
    "def interpret_prediction(lin_classifier, doc, surface, x, y_gold, index_to_feat, index_to_type, dense_feat_names, \n",
    "                         num_dense, dense_dims, \n",
    "                         num_top_sparse_feats=5):\n",
    "    # assumes all dense feats are at last\n",
    "    \n",
    "    num_dense_dims = sum(dense_dims)\n",
    "    \n",
    "    # shape (num_classes, num_feats)\n",
    "    scores_matrix = x.toarray().flatten() * lin_classifier.coef_\n",
    "    # get best axis ≠ y\n",
    "    class_scores = np.sum(scores_matrix, axis=1) + lin_classifier.intercept_\n",
    "    gold_not_given = False\n",
    "    if y_gold == -1:\n",
    "        print \"CAUTION - gold label not provided! treating the best prediciton as gold.\\n\\n\"\n",
    "        gold_not_given = True\n",
    "        y_gold = np.argmax(class_scores)\n",
    "    y_gold_score = class_scores[y_gold]\n",
    "    top_classes = list(np.argsort(-class_scores))\n",
    "    gold_position = top_classes.index(y_gold) + 1\n",
    "    y_hat = top_classes[1] if gold_position == 1 else top_classes[0]\n",
    "    y_hat_score = class_scores[y_hat]\n",
    "    \n",
    "    def print_top_sparse_feats(sparse_feat_scores):\n",
    "        top_sparse_indices = np.argsort(-np.abs(sparse_feat_scores))\n",
    "        def print_scores(positive):\n",
    "            count = num_top_sparse_feats\n",
    "            i = 0\n",
    "            while count > 0:\n",
    "                feat_index = top_sparse_indices[i]\n",
    "                feat = index_to_feat[feat_index]\n",
    "                feat_score = sparse_feat_scores[feat_index]\n",
    "                if (positive and feat_score > 0) or ((not positive) and feat_score < 0):\n",
    "                    count -= 1\n",
    "                    print \"%-30s : %.3f\" % (feat, feat_score)\n",
    "                elif feat_score == 0:\n",
    "                    break\n",
    "                i += 1\n",
    "        print \"top +ve sparse feats:\"\n",
    "        print \"-\"*21 + \"\\n\"\n",
    "        print_scores(True)\n",
    "        print \"\"\n",
    "        print \"top -ve sparse feats:\"\n",
    "        print \"-\"*21 + \"\\n\"\n",
    "        print_scores(False)\n",
    "            \n",
    "    \n",
    "    def print_dense(dense_feat_scores):\n",
    "        print \"dense feats:\"\n",
    "        print \"-\"*12 + \"\\n\"\n",
    "        for name, score in zip(dense_feat_names, dense_feat_scores):\n",
    "            print \"%-30s : %.3f\" % (name, score)\n",
    "    \n",
    "    print \"sentence -> %s\" % doc\n",
    "    print \"\\n\"\n",
    "    print \"mention -> \\\"%s\\\"\" % surface\n",
    "    print \"\\n\"\n",
    "    \n",
    "    if not gold_not_given:\n",
    "        print \"%s prediction\" % (\"✔\" if y_gold_score > y_hat_score else \"✘\")\n",
    "        print \"rank of gold = %d\" % gold_position\n",
    "        print \"\\n\"\n",
    "    \n",
    "    print \"gold class, \\\"%s\\\" score = %.3f\" % (index_to_type[y_gold], y_gold_score)\n",
    "    print \"-\"*38 + \"\\n\"\n",
    "    dense_scores = scores_matrix[y_gold][-num_dense_dims:]\n",
    "    dense_feat_scores = []\n",
    "    cur_index = 0\n",
    "    for i in xrange(num_dense):\n",
    "        dense_dim = dense_dims[i]\n",
    "        dense_feat_scores.append( np.sum(dense_scores[cur_index:cur_index+dense_dim]) )\n",
    "        cur_index += dense_dim\n",
    "    print_dense(dense_feat_scores)\n",
    "    print \"\\n\"\n",
    "    print_top_sparse_feats(scores_matrix[y_gold][:-num_dense_dims])\n",
    "    print \"\\n\"\n",
    "\n",
    "    \n",
    "    print \"\\n\"\n",
    "    \n",
    "\n",
    "    print \"pred (≠ gold) class, \\\"%s\\\" score = %.3f\" % (index_to_type[y_hat], y_hat_score)\n",
    "    print \"-\"*51 + \"\\n\"\n",
    "    dense_feat_scores = np.sum(np.reshape(scores_matrix[y_hat][-num_dense_dims:], (-1, dense_dim)), axis=1)\n",
    "    print_dense(dense_feat_scores)\n",
    "    print \"\\n\"\n",
    "    print_top_sparse_feats(scores_matrix[y_hat][:-num_dense_dims])\n",
    "    print \"\\n\"\n"
   ]
  },
  {
   "cell_type": "code",
   "execution_count": null,
   "metadata": {
    "collapsed": false
   },
   "outputs": [],
   "source": [
    "get_ngrams_matches(\"The Hundred Regiments Offensive\".split(), extended_w2vdict, 3)"
   ]
  },
  {
   "cell_type": "code",
   "execution_count": 269,
   "metadata": {
    "collapsed": true
   },
   "outputs": [],
   "source": [
    "X_test_csc = X_test.tocsc()"
   ]
  },
  {
   "cell_type": "code",
   "execution_count": 270,
   "metadata": {
    "collapsed": true
   },
   "outputs": [],
   "source": [
    "debug_count = 0"
   ]
  },
  {
   "cell_type": "code",
   "execution_count": null,
   "metadata": {
    "collapsed": false
   },
   "outputs": [],
   "source": [
    "event_train_surfaces = set()\n",
    "for doc, mention in ontonote_train:\n",
    "    if mention.name == 'EVENT':\n",
    "        event_train_surfaces.add(doc[mention.start:mention.end].text)\n",
    "event_train_surfaces = list(event_train_surfaces)"
   ]
  },
  {
   "cell_type": "code",
   "execution_count": null,
   "metadata": {
    "collapsed": false
   },
   "outputs": [],
   "source": [
    "( event_train_surfaces )"
   ]
  },
  {
   "cell_type": "code",
   "execution_count": 271,
   "metadata": {
    "collapsed": false
   },
   "outputs": [
    {
     "ename": "AttributeError",
     "evalue": "'BaggingClassifier' object has no attribute 'coef_'",
     "output_type": "error",
     "traceback": [
      "\u001b[0;31m---------------------------------------------------------------------------\u001b[0m",
      "\u001b[0;31mAttributeError\u001b[0m                            Traceback (most recent call last)",
      "\u001b[0;32m<ipython-input-271-a7e45105d74d>\u001b[0m in \u001b[0;36m<module>\u001b[0;34m()\u001b[0m\n\u001b[1;32m     13\u001b[0m                      \u001b[0mindex_to_feat\u001b[0m\u001b[0;34m,\u001b[0m \u001b[0mindex_to_type\u001b[0m\u001b[0;34m,\u001b[0m \u001b[0;34m[\u001b[0m\u001b[0;34m\"w2v-mention\"\u001b[0m\u001b[0;34m,\u001b[0m \u001b[0;34m\"topic-score\"\u001b[0m\u001b[0;34m]\u001b[0m\u001b[0;34m,\u001b[0m \u001b[0;36m2\u001b[0m\u001b[0;34m,\u001b[0m \u001b[0;34m[\u001b[0m\u001b[0;36m300\u001b[0m\u001b[0;34m,\u001b[0m \u001b[0;36m50\u001b[0m\u001b[0;34m]\u001b[0m\u001b[0;34m,\u001b[0m\u001b[0;34m\u001b[0m\u001b[0m\n\u001b[1;32m     14\u001b[0m \u001b[0;31m#                      index_to_feat, index_to_type, [\"w2v-mention\"], 1, [300],\u001b[0m\u001b[0;34m\u001b[0m\u001b[0;34m\u001b[0m\u001b[0m\n\u001b[0;32m---> 15\u001b[0;31m                      \u001b[0mnum_top_sparse_feats\u001b[0m\u001b[0;34m=\u001b[0m\u001b[0;36m10\u001b[0m\u001b[0;34m\u001b[0m\u001b[0m\n\u001b[0m\u001b[1;32m     16\u001b[0m                     )\n\u001b[1;32m     17\u001b[0m \u001b[0;34m\u001b[0m\u001b[0m\n",
      "\u001b[0;32m<ipython-input-263-c1f72a1e59d2>\u001b[0m in \u001b[0;36minterpret_prediction\u001b[0;34m(lin_classifier, doc, surface, x, y_gold, index_to_feat, index_to_type, dense_feat_names, num_dense, dense_dims, num_top_sparse_feats)\u001b[0m\n\u001b[1;32m      7\u001b[0m \u001b[0;34m\u001b[0m\u001b[0m\n\u001b[1;32m      8\u001b[0m     \u001b[0;31m# shape (num_classes, num_feats)\u001b[0m\u001b[0;34m\u001b[0m\u001b[0;34m\u001b[0m\u001b[0m\n\u001b[0;32m----> 9\u001b[0;31m     \u001b[0mscores_matrix\u001b[0m \u001b[0;34m=\u001b[0m \u001b[0mx\u001b[0m\u001b[0;34m.\u001b[0m\u001b[0mtoarray\u001b[0m\u001b[0;34m(\u001b[0m\u001b[0;34m)\u001b[0m\u001b[0;34m.\u001b[0m\u001b[0mflatten\u001b[0m\u001b[0;34m(\u001b[0m\u001b[0;34m)\u001b[0m \u001b[0;34m*\u001b[0m \u001b[0mlin_classifier\u001b[0m\u001b[0;34m.\u001b[0m\u001b[0mcoef_\u001b[0m\u001b[0;34m\u001b[0m\u001b[0m\n\u001b[0m\u001b[1;32m     10\u001b[0m     \u001b[0;31m# get best axis ≠ y\u001b[0m\u001b[0;34m\u001b[0m\u001b[0;34m\u001b[0m\u001b[0m\n\u001b[1;32m     11\u001b[0m     \u001b[0mclass_scores\u001b[0m \u001b[0;34m=\u001b[0m \u001b[0mnp\u001b[0m\u001b[0;34m.\u001b[0m\u001b[0msum\u001b[0m\u001b[0;34m(\u001b[0m\u001b[0mscores_matrix\u001b[0m\u001b[0;34m,\u001b[0m \u001b[0maxis\u001b[0m\u001b[0;34m=\u001b[0m\u001b[0;36m1\u001b[0m\u001b[0;34m)\u001b[0m \u001b[0;34m+\u001b[0m \u001b[0mlin_classifier\u001b[0m\u001b[0;34m.\u001b[0m\u001b[0mintercept_\u001b[0m\u001b[0;34m\u001b[0m\u001b[0m\n",
      "\u001b[0;31mAttributeError\u001b[0m: 'BaggingClassifier' object has no attribute 'coef_'"
     ]
    }
   ],
   "source": [
    "# ontonotes test mistake analysis\n",
    "\n",
    "gold_type, pred_type = \"event\", \"organization\"\n",
    "\n",
    "try:\n",
    "#     i = figer_gold_correct_dict[type_lex.lexeme_to_index[gold_type]][debug_count]\n",
    "    i = mistake_dict[type_lex.lexeme_to_index[gold_type]][type_lex.lexeme_to_index[pred_type]][debug_count]\n",
    "    doc, mention = ontonote_test[i]\n",
    "    debug_count += 1\n",
    "    interpret_prediction(logreg,\n",
    "                     doc, doc[mention.start:mention.end],\n",
    "                     X_test_csc[i], Y_test[i],\n",
    "                     index_to_feat, index_to_type, [\"w2v-mention\", \"topic-score\"], 2, [300, 50],\n",
    "#                      index_to_feat, index_to_type, [\"w2v-mention\"], 1, [300],\n",
    "                     num_top_sparse_feats=10\n",
    "                    )\n",
    "\n",
    "except IndexError as e:\n",
    "    print \"exausted errors (%d). resetting debug_count to 0\" % (debug_count)\n",
    "    debug_count = 0\n",
    "\n"
   ]
  },
  {
   "cell_type": "code",
   "execution_count": null,
   "metadata": {
    "collapsed": true
   },
   "outputs": [],
   "source": [
    "debug_count = 0"
   ]
  },
  {
   "cell_type": "code",
   "execution_count": 272,
   "metadata": {
    "collapsed": false,
    "scrolled": false
   },
   "outputs": [
    {
     "ename": "NameError",
     "evalue": "name 'figer_gold_doc_indices' is not defined",
     "output_type": "error",
     "traceback": [
      "\u001b[0;31m---------------------------------------------------------------------------\u001b[0m",
      "\u001b[0;31mNameError\u001b[0m                                 Traceback (most recent call last)",
      "\u001b[0;32m<ipython-input-272-dd21782d8124>\u001b[0m in \u001b[0;36m<module>\u001b[0;34m()\u001b[0m\n\u001b[1;32m     30\u001b[0m     \u001b[0mdebug_count\u001b[0m \u001b[0;34m+=\u001b[0m \u001b[0;36m1\u001b[0m\u001b[0;34m\u001b[0m\u001b[0m\n\u001b[1;32m     31\u001b[0m     interpret_prediction(logreg,\n\u001b[0;32m---> 32\u001b[0;31m                      \u001b[0mfiger_gold_docs\u001b[0m\u001b[0;34m[\u001b[0m\u001b[0mfiger_gold_doc_indices\u001b[0m\u001b[0;34m[\u001b[0m\u001b[0mi\u001b[0m\u001b[0;34m]\u001b[0m\u001b[0;34m]\u001b[0m\u001b[0;34m,\u001b[0m \u001b[0mfiger_gold_surfaces\u001b[0m\u001b[0;34m[\u001b[0m\u001b[0mi\u001b[0m\u001b[0;34m]\u001b[0m\u001b[0;34m,\u001b[0m\u001b[0;34m\u001b[0m\u001b[0m\n\u001b[0m\u001b[1;32m     33\u001b[0m                      \u001b[0mX_figer_gold\u001b[0m\u001b[0;34m[\u001b[0m\u001b[0mi\u001b[0m\u001b[0;34m]\u001b[0m\u001b[0;34m,\u001b[0m \u001b[0mys_figer_gold\u001b[0m\u001b[0;34m[\u001b[0m\u001b[0mi\u001b[0m\u001b[0;34m]\u001b[0m\u001b[0;34m,\u001b[0m\u001b[0;34m\u001b[0m\u001b[0m\n\u001b[1;32m     34\u001b[0m \u001b[0;31m#                      index_to_feat, index_to_type, [\"w2v-mention\", \"topic-score\"], 2, [300, 50],\u001b[0m\u001b[0;34m\u001b[0m\u001b[0;34m\u001b[0m\u001b[0m\n",
      "\u001b[0;31mNameError\u001b[0m: name 'figer_gold_doc_indices' is not defined"
     ]
    }
   ],
   "source": [
    "# figer mistake analysis\n",
    "\n",
    "# i = figer_gold_mistake_dict[type_lex.lexeme_to_index['work']][type_lex.lexeme_to_index['person']][debug_count]\n",
    "# i = figer_gold_mistake_dict[type_lex.lexeme_to_index['organization']][type_lex.lexeme_to_index['location']][debug_count]\n",
    "# i = figer_gold_mistake_dict[type_lex.lexeme_to_index['living_thing']][type_lex.lexeme_to_index['norpl']][debug_count]\n",
    "# i = figer_gold_mistake_dict[type_lex.lexeme_to_index['work']][type_lex.lexeme_to_index['organization']][debug_count]\n",
    "gold_type, pred_type = \"person\", \"organization\"\n",
    "# gold_type, pred_type = \"organization\", \"work\"\n",
    "# gold_type, pred_type = \"event\", \"organization\"\n",
    "# gold_type, pred_type = \"event\", \"medicine\"\n",
    "# gold_type, pred_type = \"living_thing\", \"norpl\"\n",
    "# gold_type, pred_type = \"living_thing\", \"location\"\n",
    "# gold_type, pred_type = \"living_thing\", \"organization\"\n",
    "# gold_type, pred_type = \"building\", \"organization\"\n",
    "# gold_type, pred_type = \"product\", \"organization\"\n",
    "# gold_type, pred_type = \"product\", \"finance.currency\"\n",
    "# gold_type, pred_type = \"law\", \"organization\"\n",
    "# gold_type, pred_type = \"work\", \"person\"\n",
    "# gold_type, pred_type = \"work\", \"location\"\n",
    "# gold_type, pred_type = \"work\", \"organization\"\n",
    "# gold_type, pred_type = \"work\", \"norpl\"\n",
    "# gold_type, pred_type = \"work\", \"building\"\n",
    "# gold_type, pred_type = \"work\", \"product\"\n",
    "# gold_type, pred_type = \"transportation.road\", \"location\"\n",
    "# gold_type, pred_type = \"transportation.road\", \"building\"\n",
    "\n",
    "try:\n",
    "#     i = figer_gold_correct_dict[type_lex.lexeme_to_index[gold_type]][debug_count]\n",
    "    i = figer_gold_mistake_dict[type_lex.lexeme_to_index[gold_type]][type_lex.lexeme_to_index[pred_type]][debug_count]\n",
    "    debug_count += 1\n",
    "    interpret_prediction(logreg,\n",
    "                     figer_gold_docs[figer_gold_doc_indices[i]], figer_gold_surfaces[i],\n",
    "                     X_figer_gold[i], ys_figer_gold[i],\n",
    "#                      index_to_feat, index_to_type, [\"w2v-mention\", \"topic-score\"], 2, [300, 50],\n",
    "                     index_to_feat, index_to_type, [\"w2v-mention\"], 1, [300],\n",
    "                     num_top_sparse_feats=10\n",
    "                    )\n",
    "\n",
    "except IndexError as e:\n",
    "    print \"exausted errors (%d). resetting debug_count to 0\" % (debug_count)\n",
    "    debug_count = 0\n",
    "\n"
   ]
  },
  {
   "cell_type": "code",
   "execution_count": null,
   "metadata": {
    "collapsed": false
   },
   "outputs": [],
   "source": [
    "print(1)"
   ]
  },
  {
   "cell_type": "code",
   "execution_count": null,
   "metadata": {
    "collapsed": false,
    "scrolled": true
   },
   "outputs": [],
   "source": [
    "doc = figer_gold_docs[figer_gold_doc_indices[i]]\n",
    "print doc\n",
    "print \"\"\n",
    "print \"hyp_view:\\n\"\n",
    "print_view(doc, 'hyp_view')\n",
    "print \"\"\n",
    "print \"mentions:\\n\"\n",
    "print_view(doc, GoldMentionView.GOLD_MENTION_VIEW_NAME)"
   ]
  },
  {
   "cell_type": "code",
   "execution_count": 73,
   "metadata": {
    "collapsed": false
   },
   "outputs": [
    {
     "ename": "KeyError",
     "evalue": "'Wash'",
     "output_type": "error",
     "traceback": [
      "\u001b[0;31m---------------------------------------------------------------------------\u001b[0m",
      "\u001b[0;31mKeyError\u001b[0m                                  Traceback (most recent call last)",
      "\u001b[0;32m<ipython-input-73-18e04a000fb3>\u001b[0m in \u001b[0;36m<module>\u001b[0;34m()\u001b[0m\n\u001b[0;32m----> 1\u001b[0;31m \u001b[0mkbann\u001b[0m\u001b[0;34m.\u001b[0m\u001b[0msurface_to_type_dist\u001b[0m\u001b[0;34m[\u001b[0m\u001b[0;34m\"Wash\"\u001b[0m\u001b[0;34m]\u001b[0m\u001b[0;34m\u001b[0m\u001b[0m\n\u001b[0m",
      "\u001b[0;31mKeyError\u001b[0m: 'Wash'"
     ]
    }
   ],
   "source": [
    "kbann.surface_to_type_dist[\"Wash\"]"
   ]
  },
  {
   "cell_type": "code",
   "execution_count": 78,
   "metadata": {
    "collapsed": false
   },
   "outputs": [
    {
     "data": {
      "text/plain": [
       "array([ -2.16797000e-01,   3.49609000e-01,   1.55273000e-01,\n",
       "         1.93359000e-01,  -1.36719000e-01,   2.61719000e-01,\n",
       "        -3.61328000e-01,  -1.16699000e-01,   1.30859000e-01,\n",
       "         2.28516000e-01,   5.51758000e-02,   5.61523000e-02,\n",
       "         8.88672000e-02,   1.05469000e-01,   1.53198000e-02,\n",
       "        -1.33789000e-01,  -3.18359000e-01,   3.02734000e-01,\n",
       "         8.60596000e-03,   1.18164000e-01,  -5.34668000e-02,\n",
       "         7.81250000e-02,  -1.09375000e-01,   2.04468000e-03,\n",
       "        -9.91211000e-02,   3.20312000e-01,  -1.25000000e-01,\n",
       "         2.51953000e-01,  -3.12500000e-02,  -6.64062000e-02,\n",
       "        -1.50391000e-01,   1.66016000e-02,   2.10938000e-01,\n",
       "        -2.67578000e-01,  -1.77734000e-01,  -4.05273000e-02,\n",
       "        -7.42188000e-02,  -8.10547000e-02,  -3.12500000e-02,\n",
       "         1.40625000e-01,  -7.86133000e-02,  -1.75781000e-01,\n",
       "        -1.30859000e-01,   4.80957000e-02,  -1.79688000e-01,\n",
       "        -8.44727000e-02,   1.02539000e-02,  -3.02734000e-01,\n",
       "         3.45703000e-01,   6.68945000e-02,   5.20020000e-02,\n",
       "         1.03027000e-01,  -5.46265000e-03,  -3.80859000e-01,\n",
       "         6.39648000e-02,   6.10352000e-02,  -3.00598000e-03,\n",
       "         2.10938000e-01,  -5.20020000e-02,   2.09961000e-01,\n",
       "        -1.36719000e-01,  -1.51367000e-01,  -2.65625000e-01,\n",
       "        -2.39258000e-01,   4.12109000e-01,  -3.26172000e-01,\n",
       "        -1.11816000e-01,   2.27539000e-01,  -1.47461000e-01,\n",
       "        -6.34766000e-02,   2.11914000e-01,  -3.61328000e-02,\n",
       "        -1.77734000e-01,   6.44531000e-02,  -3.08594000e-01,\n",
       "        -3.41797000e-01,   2.88086000e-02,   2.81250000e-01,\n",
       "         2.85156000e-01,   1.41602000e-01,   1.06934000e-01,\n",
       "        -1.28906000e-01,  -9.27734000e-02,   4.93164000e-02,\n",
       "         2.73438000e-01,  -1.15723000e-01,  -1.40625000e-01,\n",
       "         3.33984000e-01,   2.77344000e-01,   3.70789000e-03,\n",
       "        -1.58203000e-01,   2.53906000e-02,   1.51367000e-01,\n",
       "        -1.28174000e-02,   2.66113000e-02,   4.00391000e-02,\n",
       "        -1.87500000e-01,  -1.02539000e-01,   5.78125000e-01,\n",
       "         3.24219000e-01,  -8.88672000e-02,   1.35498000e-02,\n",
       "         6.00586000e-02,  -1.26953000e-01,  -2.30469000e-01,\n",
       "        -2.03125000e-01,   2.51953000e-01,   4.63867000e-02,\n",
       "         7.47070000e-02,   3.10547000e-01,  -1.08398000e-01,\n",
       "        -1.25000000e-01,   2.85156000e-01,  -3.37891000e-01,\n",
       "         2.34375000e-01,   1.05957000e-01,   1.62109000e-01,\n",
       "         2.09961000e-01,  -2.75391000e-01,  -1.67969000e-01,\n",
       "         1.89453000e-01,   3.35938000e-01,   2.55859000e-01,\n",
       "        -2.16064000e-02,   1.89453000e-01,  -2.32422000e-01,\n",
       "        -2.73438000e-01,   9.39941000e-03,   4.19922000e-01,\n",
       "        -1.76758000e-01,  -3.53516000e-01,  -2.48047000e-01,\n",
       "        -9.81445000e-02,  -7.66602000e-02,  -8.30078000e-02,\n",
       "         1.01074000e-01,  -2.81250000e-01,   2.06055000e-01,\n",
       "        -3.49609000e-01,   3.41797000e-01,  -1.05469000e-01,\n",
       "        -1.39648000e-01,  -1.57227000e-01,  -3.82812000e-01,\n",
       "         1.94092000e-02,   4.71191000e-02,   6.64062000e-02,\n",
       "         4.24805000e-02,   2.31445000e-01,  -2.34375000e-01,\n",
       "         1.82617000e-01,  -2.77344000e-01,   2.42188000e-01,\n",
       "        -1.63086000e-01,  -2.85156000e-01,   3.34473000e-02,\n",
       "        -2.09961000e-02,  -1.05469000e-01,  -4.88281000e-02,\n",
       "         2.14844000e-02,   4.83398000e-02,   1.71875000e-01,\n",
       "         1.68457000e-02,   1.17676000e-01,   1.54297000e-01,\n",
       "        -3.10547000e-01,   1.73340000e-02,   1.19019000e-02,\n",
       "         2.12891000e-01,   5.20020000e-02,  -4.63486000e-04,\n",
       "         2.53906000e-01,  -1.49414000e-01,   5.51758000e-02,\n",
       "        -3.14941000e-02,   1.32812000e-01,  -9.71680000e-02,\n",
       "        -6.54297000e-02,  -2.40234000e-01,   2.88086000e-02,\n",
       "        -6.34766000e-02,   1.07910000e-01,   1.08398000e-01,\n",
       "        -3.94531000e-01,  -4.43359000e-01,  -2.50000000e-01,\n",
       "        -3.19824000e-02,  -2.69775000e-02,  -1.20117000e-01,\n",
       "         2.75391000e-01,  -3.53516000e-01,  -7.27539000e-02,\n",
       "         9.42383000e-02,   1.65039000e-01,  -1.15967000e-02,\n",
       "         2.80762000e-02,  -3.93066000e-02,  -4.92188000e-01,\n",
       "         1.40625000e-01,  -3.83301000e-02,  -1.46484000e-01,\n",
       "        -2.60010000e-02,  -1.75781000e-01,   4.02832000e-02,\n",
       "        -3.06641000e-01,   1.10840000e-01,  -1.97266000e-01,\n",
       "         1.11816000e-01,  -8.93555000e-02,  -1.26953000e-01,\n",
       "        -5.83496000e-02,   3.27148000e-02,  -7.47070000e-02,\n",
       "         1.70898000e-01,   1.25000000e-01,  -9.17969000e-02,\n",
       "        -5.24902000e-02,   1.07910000e-01,  -4.05273000e-02,\n",
       "        -2.57812000e-01,  -5.22461000e-02,   3.10547000e-01,\n",
       "         5.71289000e-02,   1.75781000e-01,   6.73828000e-02,\n",
       "         2.21680000e-01,  -1.88477000e-01,   1.54297000e-01,\n",
       "         2.80762000e-03,  -7.47070000e-02,  -3.12500000e-02,\n",
       "         1.20605000e-01,  -3.28125000e-01,   9.57031000e-02,\n",
       "        -8.83789000e-02,   3.08838000e-02,   8.59375000e-02,\n",
       "         2.51953000e-01,  -4.54712000e-03,   2.91016000e-01,\n",
       "        -1.04492000e-01,   5.07812000e-01,   2.34375000e-01,\n",
       "        -2.28516000e-01,   1.49414000e-01,   1.00586000e-01,\n",
       "        -2.32422000e-01,  -3.36914000e-02,  -1.67236000e-02,\n",
       "        -9.42383000e-02,  -2.49023000e-01,  -2.78320000e-02,\n",
       "         2.08984000e-01,   7.47070000e-02,   2.85156000e-01,\n",
       "         2.80762000e-02,  -2.63672000e-01,  -1.63086000e-01,\n",
       "        -1.80054000e-03,   3.46680000e-02,   1.00098000e-01,\n",
       "         8.10547000e-02,  -5.78613000e-02,  -1.36719000e-01,\n",
       "         1.37695000e-01,   4.56543000e-02,  -3.78906000e-01,\n",
       "         2.63672000e-01,   8.78906000e-02,   3.17383000e-02,\n",
       "        -3.58887000e-02,   1.49414000e-01,  -8.54492000e-02,\n",
       "        -3.49121000e-02,  -1.28906000e-01,  -1.48438000e-01,\n",
       "        -8.83789000e-02,   1.20117000e-01,  -9.57031000e-02,\n",
       "         1.50757000e-02,   8.00781000e-02,   5.73730000e-02,\n",
       "         2.39258000e-01,   4.06250000e-01,  -3.34473000e-02,\n",
       "        -3.22266000e-01,  -1.10840000e-01,   2.45117000e-01,\n",
       "        -5.42969000e-01,   9.13086000e-02,   1.24512000e-01,\n",
       "        -9.03320000e-02,  -3.02734000e-01,   2.31445000e-01,\n",
       "         2.08984000e-01,  -2.67578000e-01,  -9.91211000e-02,\n",
       "        -3.41797000e-01,  -9.33838000e-03,   4.04297000e-01])"
      ]
     },
     "execution_count": 78,
     "metadata": {},
     "output_type": "execute_result"
    }
   ],
   "source": [
    "extended_w2vdict[\"Wash\"]"
   ]
  },
  {
   "cell_type": "code",
   "execution_count": 98,
   "metadata": {
    "collapsed": false
   },
   "outputs": [],
   "source": [
    "from scipy import spatial\n",
    "\n",
    "def nearset_word(query):\n",
    "    query_w2v = extended_w2vdict[query]\n",
    "    min_v = 99999\n",
    "    min_w = query\n",
    "    for w in extended_w2vdict:\n",
    "        if w.lower() == query.lower():\n",
    "            continue\n",
    "        v = spatial.distance.cosine(query_w2v, extended_w2vdict[w])\n",
    "        if v < min_v:\n",
    "            min_v = v\n",
    "            min_w = w\n",
    "    return min_w, min_v\n"
   ]
  },
  {
   "cell_type": "code",
   "execution_count": 99,
   "metadata": {
    "collapsed": false
   },
   "outputs": [
    {
     "data": {
      "text/plain": [
       "(u'ore.', 0.30273255631987039)"
      ]
     },
     "execution_count": 99,
     "metadata": {},
     "output_type": "execute_result"
    }
   ],
   "source": [
    "nearset_word(\"Wash.\")"
   ]
  },
  {
   "cell_type": "code",
   "execution_count": 103,
   "metadata": {
    "collapsed": false
   },
   "outputs": [
    {
     "data": {
      "text/plain": [
       "2.2204460492503131e-16"
      ]
     },
     "execution_count": 103,
     "metadata": {},
     "output_type": "execute_result"
    }
   ],
   "source": [
    " spatial.distance.cosine([1,1],[1,1])"
   ]
  },
  {
   "cell_type": "code",
   "execution_count": 104,
   "metadata": {
    "collapsed": true
   },
   "outputs": [],
   "source": [
    "from gensim.models.keyedvectors import KeyedVectors\n",
    "gensim_word_vectors = KeyedVectors.load_word2vec_format(\"/save/haowu4/GoogleNews-vectors-negative300.combined_500k.txt\", binary=False)"
   ]
  },
  {
   "cell_type": "code",
   "execution_count": 107,
   "metadata": {
    "collapsed": false
   },
   "outputs": [
    {
     "data": {
      "text/plain": [
       "'/save/muddire2/GoogleNews-vectors-negative300.combined_500k.txt'"
      ]
     },
     "execution_count": 107,
     "metadata": {},
     "output_type": "execute_result"
    }
   ],
   "source": []
  },
  {
   "cell_type": "code",
   "execution_count": 115,
   "metadata": {
    "collapsed": false
   },
   "outputs": [],
   "source": []
  },
  {
   "cell_type": "code",
   "execution_count": 133,
   "metadata": {
    "collapsed": false
   },
   "outputs": [
    {
     "ename": "KeyError",
     "evalue": "\"word 'New York' not in vocabulary\"",
     "output_type": "error",
     "traceback": [
      "\u001b[0;31m---------------------------------------------------------------------------\u001b[0m",
      "\u001b[0;31mKeyError\u001b[0m                                  Traceback (most recent call last)",
      "\u001b[0;32m<ipython-input-133-fe3f3251d843>\u001b[0m in \u001b[0;36m<module>\u001b[0;34m()\u001b[0m\n\u001b[0;32m----> 1\u001b[0;31m \u001b[0mgensim_word_vectors\u001b[0m\u001b[0;34m.\u001b[0m\u001b[0mmost_similar\u001b[0m\u001b[0;34m(\u001b[0m\u001b[0;34m\"New York\"\u001b[0m\u001b[0;34m)\u001b[0m\u001b[0;34m\u001b[0m\u001b[0m\n\u001b[0m",
      "\u001b[0;32m/home/haowu4/anaconda2/envs/finer/lib/python2.7/site-packages/gensim/models/keyedvectors.pyc\u001b[0m in \u001b[0;36mmost_similar\u001b[0;34m(self, positive, negative, topn, restrict_vocab, indexer)\u001b[0m\n\u001b[1;32m    318\u001b[0m                 \u001b[0mmean\u001b[0m\u001b[0;34m.\u001b[0m\u001b[0mappend\u001b[0m\u001b[0;34m(\u001b[0m\u001b[0mweight\u001b[0m \u001b[0;34m*\u001b[0m \u001b[0mword\u001b[0m\u001b[0;34m)\u001b[0m\u001b[0;34m\u001b[0m\u001b[0m\n\u001b[1;32m    319\u001b[0m             \u001b[0;32melse\u001b[0m\u001b[0;34m:\u001b[0m\u001b[0;34m\u001b[0m\u001b[0m\n\u001b[0;32m--> 320\u001b[0;31m                 \u001b[0mmean\u001b[0m\u001b[0;34m.\u001b[0m\u001b[0mappend\u001b[0m\u001b[0;34m(\u001b[0m\u001b[0mweight\u001b[0m \u001b[0;34m*\u001b[0m \u001b[0mself\u001b[0m\u001b[0;34m.\u001b[0m\u001b[0mword_vec\u001b[0m\u001b[0;34m(\u001b[0m\u001b[0mword\u001b[0m\u001b[0;34m,\u001b[0m \u001b[0muse_norm\u001b[0m\u001b[0;34m=\u001b[0m\u001b[0mTrue\u001b[0m\u001b[0;34m)\u001b[0m\u001b[0;34m)\u001b[0m\u001b[0;34m\u001b[0m\u001b[0m\n\u001b[0m\u001b[1;32m    321\u001b[0m                 \u001b[0;32mif\u001b[0m \u001b[0mword\u001b[0m \u001b[0;32min\u001b[0m \u001b[0mself\u001b[0m\u001b[0;34m.\u001b[0m\u001b[0mvocab\u001b[0m\u001b[0;34m:\u001b[0m\u001b[0;34m\u001b[0m\u001b[0m\n\u001b[1;32m    322\u001b[0m                     \u001b[0mall_words\u001b[0m\u001b[0;34m.\u001b[0m\u001b[0madd\u001b[0m\u001b[0;34m(\u001b[0m\u001b[0mself\u001b[0m\u001b[0;34m.\u001b[0m\u001b[0mvocab\u001b[0m\u001b[0;34m[\u001b[0m\u001b[0mword\u001b[0m\u001b[0;34m]\u001b[0m\u001b[0;34m.\u001b[0m\u001b[0mindex\u001b[0m\u001b[0;34m)\u001b[0m\u001b[0;34m\u001b[0m\u001b[0m\n",
      "\u001b[0;32m/home/haowu4/anaconda2/envs/finer/lib/python2.7/site-packages/gensim/models/keyedvectors.pyc\u001b[0m in \u001b[0;36mword_vec\u001b[0;34m(self, word, use_norm)\u001b[0m\n\u001b[1;32m    271\u001b[0m                 \u001b[0;32mreturn\u001b[0m \u001b[0mself\u001b[0m\u001b[0;34m.\u001b[0m\u001b[0msyn0\u001b[0m\u001b[0;34m[\u001b[0m\u001b[0mself\u001b[0m\u001b[0;34m.\u001b[0m\u001b[0mvocab\u001b[0m\u001b[0;34m[\u001b[0m\u001b[0mword\u001b[0m\u001b[0;34m]\u001b[0m\u001b[0;34m.\u001b[0m\u001b[0mindex\u001b[0m\u001b[0;34m]\u001b[0m\u001b[0;34m\u001b[0m\u001b[0m\n\u001b[1;32m    272\u001b[0m         \u001b[0;32melse\u001b[0m\u001b[0;34m:\u001b[0m\u001b[0;34m\u001b[0m\u001b[0m\n\u001b[0;32m--> 273\u001b[0;31m             \u001b[0;32mraise\u001b[0m \u001b[0mKeyError\u001b[0m\u001b[0;34m(\u001b[0m\u001b[0;34m\"word '%s' not in vocabulary\"\u001b[0m \u001b[0;34m%\u001b[0m \u001b[0mword\u001b[0m\u001b[0;34m)\u001b[0m\u001b[0;34m\u001b[0m\u001b[0m\n\u001b[0m\u001b[1;32m    274\u001b[0m \u001b[0;34m\u001b[0m\u001b[0m\n\u001b[1;32m    275\u001b[0m     \u001b[0;32mdef\u001b[0m \u001b[0mmost_similar\u001b[0m\u001b[0;34m(\u001b[0m\u001b[0mself\u001b[0m\u001b[0;34m,\u001b[0m \u001b[0mpositive\u001b[0m\u001b[0;34m=\u001b[0m\u001b[0;34m[\u001b[0m\u001b[0;34m]\u001b[0m\u001b[0;34m,\u001b[0m \u001b[0mnegative\u001b[0m\u001b[0;34m=\u001b[0m\u001b[0;34m[\u001b[0m\u001b[0;34m]\u001b[0m\u001b[0;34m,\u001b[0m \u001b[0mtopn\u001b[0m\u001b[0;34m=\u001b[0m\u001b[0;36m10\u001b[0m\u001b[0;34m,\u001b[0m \u001b[0mrestrict_vocab\u001b[0m\u001b[0;34m=\u001b[0m\u001b[0mNone\u001b[0m\u001b[0;34m,\u001b[0m \u001b[0mindexer\u001b[0m\u001b[0;34m=\u001b[0m\u001b[0mNone\u001b[0m\u001b[0;34m)\u001b[0m\u001b[0;34m:\u001b[0m\u001b[0;34m\u001b[0m\u001b[0m\n",
      "\u001b[0;31mKeyError\u001b[0m: \"word 'New York' not in vocabulary\""
     ]
    }
   ],
   "source": [
    "gensim_word_vectors.most_similar(\"New York\")"
   ]
  },
  {
   "cell_type": "code",
   "execution_count": 273,
   "metadata": {
    "collapsed": false
   },
   "outputs": [
    {
     "ename": "KeyError",
     "evalue": "\"word 'Zarowsky' not in vocabulary\"",
     "output_type": "error",
     "traceback": [
      "\u001b[0;31m---------------------------------------------------------------------------\u001b[0m",
      "\u001b[0;31mKeyError\u001b[0m                                  Traceback (most recent call last)",
      "\u001b[0;32m<ipython-input-273-8f061d5e1b91>\u001b[0m in \u001b[0;36m<module>\u001b[0;34m()\u001b[0m\n\u001b[0;32m----> 1\u001b[0;31m \u001b[0mgensim_word_vectors\u001b[0m\u001b[0;34m.\u001b[0m\u001b[0mmost_similar_cosmul\u001b[0m\u001b[0;34m(\u001b[0m\u001b[0;34m\"Zarowsky\"\u001b[0m\u001b[0;34m)\u001b[0m\u001b[0;34m\u001b[0m\u001b[0m\n\u001b[0m",
      "\u001b[0;32m/home/haowu4/anaconda2/envs/finer/lib/python2.7/site-packages/gensim/models/keyedvectors.pyc\u001b[0m in \u001b[0;36mmost_similar_cosmul\u001b[0;34m(self, positive, negative, topn)\u001b[0m\n\u001b[1;32m    461\u001b[0m         positive = [\n\u001b[1;32m    462\u001b[0m             \u001b[0mself\u001b[0m\u001b[0;34m.\u001b[0m\u001b[0mword_vec\u001b[0m\u001b[0;34m(\u001b[0m\u001b[0mword\u001b[0m\u001b[0;34m,\u001b[0m \u001b[0muse_norm\u001b[0m\u001b[0;34m=\u001b[0m\u001b[0mTrue\u001b[0m\u001b[0;34m)\u001b[0m \u001b[0;32mif\u001b[0m \u001b[0misinstance\u001b[0m\u001b[0;34m(\u001b[0m\u001b[0mword\u001b[0m\u001b[0;34m,\u001b[0m \u001b[0mstring_types\u001b[0m\u001b[0;34m)\u001b[0m \u001b[0;32melse\u001b[0m \u001b[0mword\u001b[0m\u001b[0;34m\u001b[0m\u001b[0m\n\u001b[0;32m--> 463\u001b[0;31m             \u001b[0;32mfor\u001b[0m \u001b[0mword\u001b[0m \u001b[0;32min\u001b[0m \u001b[0mpositive\u001b[0m\u001b[0;34m\u001b[0m\u001b[0m\n\u001b[0m\u001b[1;32m    464\u001b[0m         ]\n\u001b[1;32m    465\u001b[0m         negative = [\n",
      "\u001b[0;32m/home/haowu4/anaconda2/envs/finer/lib/python2.7/site-packages/gensim/models/keyedvectors.pyc\u001b[0m in \u001b[0;36mword_vec\u001b[0;34m(self, word, use_norm)\u001b[0m\n\u001b[1;32m    271\u001b[0m                 \u001b[0;32mreturn\u001b[0m \u001b[0mself\u001b[0m\u001b[0;34m.\u001b[0m\u001b[0msyn0\u001b[0m\u001b[0;34m[\u001b[0m\u001b[0mself\u001b[0m\u001b[0;34m.\u001b[0m\u001b[0mvocab\u001b[0m\u001b[0;34m[\u001b[0m\u001b[0mword\u001b[0m\u001b[0;34m]\u001b[0m\u001b[0;34m.\u001b[0m\u001b[0mindex\u001b[0m\u001b[0;34m]\u001b[0m\u001b[0;34m\u001b[0m\u001b[0m\n\u001b[1;32m    272\u001b[0m         \u001b[0;32melse\u001b[0m\u001b[0;34m:\u001b[0m\u001b[0;34m\u001b[0m\u001b[0m\n\u001b[0;32m--> 273\u001b[0;31m             \u001b[0;32mraise\u001b[0m \u001b[0mKeyError\u001b[0m\u001b[0;34m(\u001b[0m\u001b[0;34m\"word '%s' not in vocabulary\"\u001b[0m \u001b[0;34m%\u001b[0m \u001b[0mword\u001b[0m\u001b[0;34m)\u001b[0m\u001b[0;34m\u001b[0m\u001b[0m\n\u001b[0m\u001b[1;32m    274\u001b[0m \u001b[0;34m\u001b[0m\u001b[0m\n\u001b[1;32m    275\u001b[0m     \u001b[0;32mdef\u001b[0m \u001b[0mmost_similar\u001b[0m\u001b[0;34m(\u001b[0m\u001b[0mself\u001b[0m\u001b[0;34m,\u001b[0m \u001b[0mpositive\u001b[0m\u001b[0;34m=\u001b[0m\u001b[0;34m[\u001b[0m\u001b[0;34m]\u001b[0m\u001b[0;34m,\u001b[0m \u001b[0mnegative\u001b[0m\u001b[0;34m=\u001b[0m\u001b[0;34m[\u001b[0m\u001b[0;34m]\u001b[0m\u001b[0;34m,\u001b[0m \u001b[0mtopn\u001b[0m\u001b[0;34m=\u001b[0m\u001b[0;36m10\u001b[0m\u001b[0;34m,\u001b[0m \u001b[0mrestrict_vocab\u001b[0m\u001b[0;34m=\u001b[0m\u001b[0mNone\u001b[0m\u001b[0;34m,\u001b[0m \u001b[0mindexer\u001b[0m\u001b[0;34m=\u001b[0m\u001b[0mNone\u001b[0m\u001b[0;34m)\u001b[0m\u001b[0;34m:\u001b[0m\u001b[0;34m\u001b[0m\u001b[0m\n",
      "\u001b[0;31mKeyError\u001b[0m: \"word 'Zarowsky' not in vocabulary\""
     ]
    }
   ],
   "source": [
    "gensim_word_vectors.most_similar_cosmul(\"Zarowsky\")"
   ]
  },
  {
   "cell_type": "code",
   "execution_count": 208,
   "metadata": {
    "collapsed": false
   },
   "outputs": [
    {
     "name": "stdout",
     "output_type": "stream",
     "text": [
      "The slowest run took 16.49 times longer than the fastest. This could mean that an intermediate result is being cached.\n",
      "1000000 loops, best of 3: 434 ns per loop\n"
     ]
    }
   ],
   "source": [
    "%%timeit\n",
    "\n",
    "\"A\" in gensim_word_vectors"
   ]
  },
  {
   "cell_type": "code",
   "execution_count": 224,
   "metadata": {
    "collapsed": false
   },
   "outputs": [
    {
     "data": {
      "text/plain": [
       "804253"
      ]
     },
     "execution_count": 224,
     "metadata": {},
     "output_type": "execute_result"
    }
   ],
   "source": [
    "len(extended_w2vdict)"
   ]
  },
  {
   "cell_type": "code",
   "execution_count": 227,
   "metadata": {
    "collapsed": false
   },
   "outputs": [],
   "source": [
    "gensim_word_vectors.cached_most_sim = {}"
   ]
  },
  {
   "cell_type": "code",
   "execution_count": 348,
   "metadata": {
    "collapsed": false
   },
   "outputs": [
    {
     "data": {
      "text/plain": [
       "{u'broadcast_program': 0.0017206521271561923,\n",
       " u'news_agency': 0.33268808878564976,\n",
       " u'organization.company': 0.3326450724824709,\n",
       " u'organization.sports_league': 0.33281713769518645,\n",
       " u'organization.sports_team': 4.30163031789048e-05,\n",
       " u'person.author': 8.60326063578096e-05}"
      ]
     },
     "execution_count": 348,
     "metadata": {},
     "output_type": "execute_result"
    }
   ],
   "source": [
    "kbann.surface_to_type_dist[\"NBA\"]"
   ]
  },
  {
   "cell_type": "code",
   "execution_count": 393,
   "metadata": {
    "collapsed": true
   },
   "outputs": [],
   "source": [
    "from nltk.corpus import wordnet as wn\n",
    "from dfiner.datastructures import View, Constituent\n",
    "from dfiner.annotators.fine_type_annotator import SynsetFineTyper\n",
    "from sklearn.metrics.pairwise import cosine_similarity\n",
    "\n",
    "from dfiner.types.finer_type_system import FinerTypeSystem\n",
    "\n",
    "from nltk.corpus import stopwords\n",
    "stopWords = set(stopwords.words('english'))\n",
    "\n",
    "def best_k_label(label2score, k):\n",
    "    min_v = sorted(label2score.values(), reverse=True)[k-1]\n",
    "    return [x for x in label2score if label2score[x] >= min_v]\n",
    "\n",
    "\n",
    "def embedding_of_phrase(gensim_w2v, doc, start, end):\n",
    "    base_vec = np.zeros(300)\n",
    "    counter = 0.0\n",
    "    for w in doc[start: end]:\n",
    "        w = w.text\n",
    "        if w.lower() in stopWords:\n",
    "            continue            \n",
    "        if w in gensim_w2v:\n",
    "            b = gensim_w2v[w]\n",
    "            base_vec += b\n",
    "            counter += 1.0\n",
    "    return base_vec\n",
    "\n",
    "\n",
    "class MentionEntailmentAnnotator(object):\n",
    "    TYPE_NAME = \"MentionEntail\"\n",
    "    def __init__(self,\n",
    "                 config,\n",
    "                 gensim_w2v,\n",
    "                 min_cosine=0.4,\n",
    "                 mention_view =\"OntonoteType\"\n",
    "                 ):\n",
    "        self.typer = SynsetFineTyper(config)\n",
    "        self.min_cosine = min_cosine\n",
    "        self.gensim_w2v = gensim_w2v\n",
    "        self.type_system = FinerTypeSystem.load_type_system(config)\n",
    "        self.mention_view = mention_view\n",
    "\n",
    "    def __call__(self, doc):\n",
    "        new_view = View()\n",
    "        view = doc.user_data[self.mention_view]\n",
    "        for constituent in view.constituents:\n",
    "            start = constituent.start\n",
    "            end = constituent.end\n",
    "            types = set()\n",
    "            max_sim = defaultdict(float)\n",
    "            mention_vec = embedding_of_phrase(self.gensim_w2v, doc, start, end)\n",
    "            mention_vec = embedding_of_phrase(self.gensim_w2v, doc, 0, len(doc))\n",
    "\n",
    "            for w in doc[max(start-1, 0): end]:\n",
    "#                 print \"Searching ... \", w\n",
    "                for x in wn.synsets(w.text):\n",
    "                    if x.pos() == \"n\":\n",
    "                        def_doc = nlp.make_doc(x.definition())\n",
    "                        def_vec = embedding_of_phrase(self.gensim_w2v, def_doc, 0, len(def_doc))\n",
    "                        sim_score = cosine_similarity(def_vec.reshape(1,-1), mention_vec.reshape(1,-1))[0,0]                        \n",
    "                        tps_w = self.typer.get_fine_types(\"%d_n\" % x.offset())\n",
    "                        for t in tps_w:\n",
    "                            types.add(t)\n",
    "                            max_sim[t] = max(max_sim[t], sim_score)\n",
    "#                         print(x)\n",
    "#                         print(x.definition())\n",
    "#                         print(sim_score)\n",
    "#                         print(types)\n",
    "#                         print(\" \")\n",
    "            if len(constituent.label2score) == 0:\n",
    "                continue\n",
    "                \n",
    "#             kk = max(self.trust_k, len(constituent.label2score))\n",
    "#             print(kk)\n",
    "#             ls = set(best_k_label(constituent.label2score, kk))\n",
    "\n",
    "#             print(\"111\",ls)\n",
    "            ls = constituent.label2score.keys()\n",
    "            mx_label2score = {}\n",
    "#             print(\"\\n\"*3)\n",
    "#             print(\"Fine types\", types)\n",
    "#             print(\"Coarse types\", ls)\n",
    "            for fine_type in types:\n",
    "                for coarse_type in ls:\n",
    "                    try:\n",
    "#                         print(\"Checking [%s],[%s]\" % (fine_type, coarse_type) )\n",
    "                        check = self.type_system.a_belongs_to_b(fine_type, coarse_type)\n",
    "#                         print check\n",
    "                        if check:\n",
    "#                             print(\"!!! Checking %s,%s\" % (fine_type, coarse_type) )\n",
    "                            if max_sim[fine_type] > self.min_cosine:\n",
    "                                mx_label2score[fine_type] = max_sim[fine_type] \n",
    "                    except KeyError:\n",
    "                        print(\"Not found type %s or %s\" % (coarse_type, fine_type))\n",
    "                        continue\n",
    "#             print(mx_label2score)\n",
    "            if len(mx_label2score) > 0:\n",
    "                c = Constituent(start,\n",
    "                                end,\n",
    "                                self.TYPE_NAME,\n",
    "                                label2score=mx_label2score)\n",
    "                new_view.add_constituent(c)\n",
    "        doc.user_data[self.TYPE_NAME] = new_view\n",
    "\n",
    "meann = MentionEntailmentAnnotator(config, gensim_word_vectors)"
   ]
  },
  {
   "cell_type": "code",
   "execution_count": 367,
   "metadata": {
    "collapsed": false
   },
   "outputs": [
    {
     "data": {
      "text/plain": [
       "<__main__.KBBiasTypeAnnotator at 0x7f02e39c3a10>"
      ]
     },
     "execution_count": 367,
     "metadata": {},
     "output_type": "execute_result"
    }
   ],
   "source": [
    "kbann"
   ]
  },
  {
   "cell_type": "code",
   "execution_count": 379,
   "metadata": {
    "collapsed": false
   },
   "outputs": [
    {
     "data": {
      "text/plain": [
       "[(u'Mustangs', 0.8690695762634277),\n",
       " (u'Wildcats', 0.8429080247879028),\n",
       " (u'Spartans', 0.8191928863525391),\n",
       " (u'Bulldogs', 0.8123408555984497),\n",
       " (u'Lancers', 0.811346173286438),\n",
       " (u'T_Birds', 0.8102020025253296),\n",
       " (u'Golden_Bears', 0.8078759908676147),\n",
       " (u'Bearcats', 0.8033010959625244),\n",
       " (u'Yellowjackets', 0.798908531665802),\n",
       " (u'Marauders', 0.7931555509567261)]"
      ]
     },
     "execution_count": 379,
     "metadata": {},
     "output_type": "execute_result"
    }
   ],
   "source": [
    "gensim_word_vectors.most_similar(\"Cougars\")"
   ]
  },
  {
   "cell_type": "code",
   "execution_count": 438,
   "metadata": {
    "collapsed": false
   },
   "outputs": [
    {
     "data": {
      "text/plain": [
       "{u'organization.company': 1.0}"
      ]
     },
     "execution_count": 438,
     "metadata": {},
     "output_type": "execute_result"
    }
   ],
   "source": [
    "kbann.surface_to_type_dist[u'AAAS']"
   ]
  },
  {
   "cell_type": "code",
   "execution_count": 446,
   "metadata": {
    "collapsed": false
   },
   "outputs": [],
   "source": [
    "import codecs\n",
    "import gzip\n",
    "import json\n",
    "from dfiner.datastructures import View, Constituent\n",
    "from dfiner.types.finer_type_system import FinerTypeSystem\n",
    "\n",
    "\n",
    "class KBBiasTypeAnnotator(object):\n",
    "\n",
    "    TYPE_NAME = \"KBBiasType\"\n",
    "\n",
    "    @staticmethod\n",
    "    def load_surface_to_typedist(fname):\n",
    "        ret = {}\n",
    "        with gzip.open(fname, 'rb') as zf:\n",
    "            reader = codecs.getreader(\"utf-8\")\n",
    "            contents = reader(zf)\n",
    "            for line in contents:\n",
    "                obj = json.loads(line)\n",
    "                ret[obj['surface']] = obj[\"type_dist\"]\n",
    "        return ret\n",
    "\n",
    "    def __init__(self,\n",
    "                 config,\n",
    "                 gensim_w2v = None,\n",
    "                 mention_view=\"OntonoteType\"):\n",
    "        # surface_to_type_dist maps\n",
    "        #       (surface, coarse type) => fine type to fine type.\n",
    "        self.surface_to_type_dist = self.load_surface_to_typedist(\n",
    "            config[\"mention_to_type_dist\"])\n",
    "        self.coarse_view_name = mention_view\n",
    "        self.gensim_w2v = gensim_w2v\n",
    "        self.config = config\n",
    "        self.type_system = FinerTypeSystem.load_type_system(config)\n",
    "\n",
    "    def __call__(self, doc):\n",
    "        new_view = View()\n",
    "        view = doc.user_data[self.coarse_view_name]\n",
    "        for constituent in view.constituents:\n",
    "            start = constituent.start\n",
    "            end = constituent.end\n",
    "            coarse_type = constituent.best_label_name\n",
    "            surface = doc[start:end].text\n",
    "            type_dist = defaultdict(float)\n",
    "            total = 0.0\n",
    "            fine_type_name = None\n",
    "            if surface in self.surface_to_type_dist:\n",
    "                type_dist = self.surface_to_type_dist[surface]\n",
    "                fine_type_name = self.pick_fine_type_or_none(type_dist,\n",
    "                                                         coarse_type)\n",
    "            if not fine_type_name:\n",
    "                type_dist = defaultdict(float)\n",
    "                if self.gensim_w2v and surface in self.gensim_w2v:\n",
    "                    similar_words = self.gensim_w2v.most_similar(surface, topn=5)\n",
    "\n",
    "                    min_sim = min([z for _, z in similar_words])\n",
    "                    if  min_sim > 0.8:\n",
    "                        print(\"Activivating for %s, with confidence %.2f\" % (surface, min_sim))\n",
    "                        for w, _ in similar_words:\n",
    "                            w_type_dist = self.surface_to_type_dist[surface]\n",
    "                            for t in w_type_dist:\n",
    "                                type_dist[t] += w_type_dist[t]\n",
    "                        for t in type_dist:\n",
    "                            type_dist[t] = type_dist[t] / float(len(similar_words))\n",
    "                        print(type_dist)\n",
    "                        fine_type_name = self.pick_fine_type_or_none(type_dist, coarse_type)\n",
    "                else:\n",
    "                    continue\n",
    "\n",
    "                \n",
    "            if fine_type_name:\n",
    "                c = Constituent(start,\n",
    "                                end,\n",
    "                                self.TYPE_NAME,\n",
    "                                label2score={fine_type_name: 1.0})\n",
    "                new_view.add_constituent(c)\n",
    "\n",
    "        doc.user_data[self.TYPE_NAME] = new_view\n",
    "\n",
    "    def pick_fine_type_or_none(self, type_dist, coarse_type):\n",
    "        consistent_types = {}\n",
    "        max_prob = 0.0\n",
    "        rescale = 0.0\n",
    "        best_type = None\n",
    "        for t in type_dist:\n",
    "            if self.type_system.a_belongs_to_b(t, coarse_type):\n",
    "                p = type_dist[t]\n",
    "                rescale += p\n",
    "                if p > max_prob:\n",
    "                    max_prob = p\n",
    "                    best_type = t\n",
    "                consistent_types[t] = p\n",
    "\n",
    "        if len(consistent_types) == 0:\n",
    "            return None\n",
    "\n",
    "        if len(consistent_types) == 1:\n",
    "            if max_prob > 0.4:\n",
    "                return best_type\n",
    "            else:\n",
    "                return None\n",
    "\n",
    "        if \"organization.sports_league\" in consistent_types:\n",
    "            if consistent_types[\"organization.sports_league\"] > 0.3:\n",
    "                return \"organization.sports_league\"\n",
    "            \n",
    "        sorted_entry = sorted(consistent_types.keys(),\n",
    "                              key=lambda x: consistent_types[x],\n",
    "                              reverse=True)\n",
    "        second_best_key = sorted_entry[1]\n",
    "\n",
    "        if (max_prob - consistent_types[second_best_key]) / rescale > 0.8:\n",
    "            return best_type\n",
    "\n",
    "        best_key = sorted_entry[1]\n",
    "        if best_key == \"organization.company\":\n",
    "            if consistent_types[second_best_key] > 0.35:\n",
    "                return second_best_key\n",
    "\n",
    "        if second_best_key == \"organization.company\":\n",
    "            return best_key\n",
    "\n",
    "\n",
    "if __name__ == '__main__':\n",
    "    pass\n"
   ]
  },
  {
   "cell_type": "code",
   "execution_count": null,
   "metadata": {
    "collapsed": true
   },
   "outputs": [],
   "source": []
  }
 ],
 "metadata": {
  "anaconda-cloud": {},
  "kernelspec": {
   "display_name": "finer",
   "language": "python",
   "name": "finer"
  },
  "language_info": {
   "codemirror_mode": {
    "name": "ipython",
    "version": 2
   },
   "file_extension": ".py",
   "mimetype": "text/x-python",
   "name": "python",
   "nbconvert_exporter": "python",
   "pygments_lexer": "ipython2",
   "version": "2.7.13"
  }
 },
 "nbformat": 4,
 "nbformat_minor": 1
}
