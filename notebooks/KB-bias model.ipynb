{
 "cells": [
  {
   "cell_type": "code",
   "execution_count": 6,
   "metadata": {
    "collapsed": false
   },
   "outputs": [],
   "source": [
    "import codecs\n",
    "from scipy import stats\n",
    "from collections import defaultdict\n",
    "import string\n",
    "import re\n",
    "\n",
    "import yaml\n",
    "with open(\"/home/haowu4/codes/dataless_finer/resources/figer_hier.yaml\") as input:\n",
    "    types = yaml.load(input.read())\n",
    "    \n",
    "class FinerTypeSystem(object):\n",
    "    def __init__(self, tree):\n",
    "        self.tree = tree\n",
    "\n",
    "    def is_coarse_type(self, node_name):\n",
    "        return self.tree[node_name][\"parent\"] is None\n",
    "    \n",
    "    def parent_of(self, node_name):\n",
    "        return self.tree[node_name][\"parent\"]\n",
    "\n",
    "    def types(self):\n",
    "        return self.tree\n",
    "    \n",
    "    def is_figer_type(self, node_name):\n",
    "        return self.tree[node_name][\"is_figer_type\"]\n",
    "\n",
    "    def a_belongs_to_b(self, fine, coarse):\n",
    "        it = fine\n",
    "        while self.tree[it][\"parent\"]:\n",
    "            if self.tree[it][\"parent\"] == coarse:\n",
    "                return True\n",
    "            it = self.tree[it][\"parent\"]\n",
    "        return False\n",
    "    \n",
    "    def has_type(self, t):\n",
    "        return t in self.tree\n",
    "    \n",
    "    def get_path(self, node):\n",
    "        path = []\n",
    "        it = node\n",
    "        while self.tree[it][\"parent\"]:\n",
    "            path.append(self.tree[it][\"parent\"])\n",
    "            it = self.tree[it][\"parent\"]\n",
    "        return path\n",
    "def unquotekey(key, encoding=None):\n",
    "    \"\"\"\n",
    "    unquote a namespace key and turn it into a unicode string\n",
    "    \"\"\"\n",
    "\n",
    "    valid_always = string.ascii_letters + string.digits\n",
    "\n",
    "    output = []\n",
    "    i = 0\n",
    "    while i < len(key):\n",
    "        if key[i] in valid_always:\n",
    "            output.append(key[i])\n",
    "            i += 1\n",
    "        elif key[i] in '_-' and i != 0 and i != len(key):\n",
    "            output.append(key[i])\n",
    "            i += 1\n",
    "        elif key[i] == '$' and i+4 < len(key):\n",
    "            # may raise ValueError if there are invalid characters\n",
    "            output.append(chr(int(key[i+1:i+5],16)))\n",
    "            i += 5\n",
    "        else:\n",
    "            raise ValueError(\"unquote key saw invalid character '%s' at position %d\" % (key[i], i))\n",
    "\n",
    "    ustr = u''.join(output)\n",
    "    \n",
    "    if encoding is None:\n",
    "        return ustr\n",
    "\n",
    "    return ustr.encode(encoding)\n",
    "\n",
    "system_print = print\n",
    "\n",
    "printed = 0\n",
    "\n",
    "def to_chunk(v, chunk_size = 0.05 ):\n",
    "    v = float(v)\n",
    "    return \"%.2f\" % (round(v/chunk_size) * chunk_size)\n",
    "\n",
    "\n",
    "def load_redirect_map():\n",
    "    redirects = {}\n",
    "    with codecs.open(\"/home/haowu4/data/wikidump/redirect_graph_node.graph\") as input:\n",
    "        for line in input:\n",
    "            line = line.strip()\n",
    "            if \"\\t\" in line:\n",
    "                a,b = line.split(\"\\t\")\n",
    "                a = a.replace(\" \", \"_\")\n",
    "                b = b.replace(\" \", \"_\")\n",
    "                redirects[a] = b\n",
    "            else:\n",
    "                redirects[line] = line\n",
    "    return redirects\n",
    "\n",
    "\n",
    "def load_mention_to_type():\n",
    "    surface_to_map =defaultdict(set)\n",
    "\n",
    "    with codecs.open(\"/home/haowu4/data/wikidump/wiki_title2figer_type.txt\", \"r\", \"utf-8\") as input:\n",
    "        for i,line in enumerate(input):\n",
    "            line = line.strip()\n",
    "            a,b = line.split(\"\\t\")\n",
    "            a = unquotekey(a)\n",
    "            surface_to_map[a].add(b)\n",
    "\n",
    "    surface_to_type_name = {}\n",
    "\n",
    "    for k in surface_to_map:\n",
    "        surface_to_type_name[k] = frozenset(surface_to_map[k])\n",
    "    return surface_to_type_name\n",
    "\n",
    "def sprint(*args, **kwargs):\n",
    "    global printed\n",
    "    printed += 1\n",
    "    if printed > 10:\n",
    "        return\n",
    "    print(*args, **kwargs)\n",
    "\n",
    "def analysis_line(line):\n",
    "    line = line.split(\"\\t\")\n",
    "    surface = line[0]\n",
    "    ks = []\n",
    "    print(line)\n",
    "    print(line)\n",
    "    for i in range(1, int(len(line)/2)):\n",
    "        k = int(line[i*2 +1])\n",
    "        print(k)\n",
    "        ks.append(k)\n",
    "    print(sum(ks))\n",
    "\n",
    "def entropy_score(k):\n",
    "    stats.entropy(list(k[\"titles\"].values()))\n",
    "\n",
    "def max_dist(k):\n",
    "    l = sorted(list(k[\"titles\"].values()), reverse=True)\n",
    "    if len(l) == 0:\n",
    "        return 0.0\n",
    "    \n",
    "    if len(l) == 1:\n",
    "        return l[0]\n",
    "    else:\n",
    "        return l[0] - l[1]\n",
    "    \n",
    "def print_mention_surface_dist(k):\n",
    "    print(\"Surface: [%s]\" % k[\"surface\"])\n",
    "    titles = k[\"titles\"]\n",
    "    print(\"Entropy : %.2f\" % stats.entropy(list(k[\"titles\"].values())))\n",
    "    print(\"MaxDist : %.2f\" % max_dist(k))\n",
    "    for k in sorted(titles.keys(), key = lambda x : titles[x], reverse=True):\n",
    "        print(\"\\t %-50s: %.3f %%\" % (k, titles[k] * 100 )) \n",
    "\n",
    "def read_mentions(redirects,mention_to_type, type_system):\n",
    "    ds = []\n",
    "\n",
    "    with codecs.open(\"/home/haowu4/data/wikidump/mention_surface_map.tsv\", \"r\", \"utf-8\") as input:\n",
    "        for line in input:\n",
    "            oline = line\n",
    "            line = line.split(\"\\t\")\n",
    "            total = 0.0\n",
    "            apperance_count = 0.0\n",
    "            dist = defaultdict(float)\n",
    "            for i in range(1, int(len(line)/2)):\n",
    "                title = line[i*2].strip()\n",
    "                count = float(line[i*2+1])    \n",
    "                apperance_count += count\n",
    "\n",
    "                try:\n",
    "                    title = redirects[title]\n",
    "                except KeyError:\n",
    "                    title = title\n",
    "\n",
    "                try:\n",
    "                    title = mention_to_type[title]\n",
    "\n",
    "                except KeyError:\n",
    "                    title = [\"UNK\"]\n",
    "                    \n",
    "                for l in title:\n",
    "                    if type_system.has_type(l) and not type_system.is_coarse_type(l):\n",
    "                        total += count\n",
    "                        dist[l] += count\n",
    "    \n",
    "            if apperance_count < 5:\n",
    "                continue\n",
    "\n",
    "            for title in dist:\n",
    "                dist[title] = dist[title]/total\n",
    "#                 vs.append(dist[title])\n",
    "\n",
    "            ds.append({\n",
    "                    \"titles\": dist,\n",
    "                    \"surface\" :line[0],\n",
    "                    \"total\" : total,\n",
    "                    \"apperance_count\" : apperance_count,\n",
    "                    \"line\": oline})\n",
    "            \n",
    "        return ds\n",
    "\n",
    "        \n",
    "def group_by_score(mentions, scoring_func, chunk = 0.05):\n",
    "    ess = []\n",
    "    value_to_collections = defaultdict(list)\n",
    "    \n",
    "    for m in mentions:\n",
    "        score = scoring_func(m)\n",
    "        chunk_id =  to_chunk(score, chunk_size=chunk)\n",
    "        value_to_collections[chunk_id].append(m)\n",
    "        ess.append(score)\n",
    "\n",
    "    return value_to_collections, ess"
   ]
  },
  {
   "cell_type": "code",
   "execution_count": 7,
   "metadata": {
    "collapsed": false,
    "scrolled": false
   },
   "outputs": [],
   "source": [
    "finer_types = FinerTypeSystem(types)\n",
    "redirects = load_redirect_map()\n",
    "mention_to_type = load_mention_to_type()\n",
    "mentions = read_mentions(redirects, mention_to_type, finer_types)\n"
   ]
  },
  {
   "cell_type": "code",
   "execution_count": 14,
   "metadata": {
    "collapsed": false,
    "scrolled": false
   },
   "outputs": [
    {
     "name": "stdout",
     "output_type": "stream",
     "text": [
      "0.00 : 960892\n",
      "1.00 : 553576\n",
      "0.95 : 4847\n",
      "0.90 : 3865\n",
      "0.05 : 3152\n",
      "0.80 : 3096\n",
      "0.85 : 3004\n",
      "0.35 : 2987\n",
      "0.10 : 2859\n",
      "0.20 : 2399\n",
      "0.50 : 2395\n",
      "0.60 : 2354\n",
      "0.75 : 2305\n",
      "0.15 : 2267\n",
      "0.65 : 2247\n",
      "0.25 : 2228\n",
      "0.70 : 2059\n",
      "0.45 : 1837\n",
      "0.55 : 1725\n",
      "0.40 : 1717\n",
      "0.30 : 1575\n"
     ]
    }
   ],
   "source": [
    "score_to_mention, scores = group_by_score(mentions, max_dist)\n",
    "\n",
    "for s,length in [(a,len(score_to_mention[a])) for a in sorted(score_to_mention.keys(), key=lambda x :len(score_to_mention[x]), reverse=True)]:\n",
    "    print(\"%s : %d\" % (s, length))\n",
    "    "
   ]
  },
  {
   "cell_type": "code",
   "execution_count": 21,
   "metadata": {
    "collapsed": false
   },
   "outputs": [
    {
     "name": "stdout",
     "output_type": "stream",
     "text": [
      "Surface: [New Jersey Nets]\n",
      "Entropy : 0.69\n",
      "MaxDist : 0.00\n",
      "\t organization.sports_team                          : 50.000 %\n",
      "\t person.actor                                      : 50.000 %\n"
     ]
    }
   ],
   "source": [
    "import random \n",
    "\n",
    "for k in score_to_mention:\n",
    "    for s in score_to_mention[k]:\n",
    "        if s['surface']  == \"New Jersey Nets\":\n",
    "            if random.random() < 2.00001:\n",
    "                print_mention_surface_dist(s)\n",
    "                break"
   ]
  },
  {
   "cell_type": "code",
   "execution_count": null,
   "metadata": {
    "collapsed": false
   },
   "outputs": [],
   "source": [
    "finer_types = FinerTypeSystem(types)\n",
    "\n",
    "finer_types.a_belongs_to_b(\"building.theater\", \"location\")"
   ]
  },
  {
   "cell_type": "code",
   "execution_count": null,
   "metadata": {
    "collapsed": false
   },
   "outputs": [],
   "source": [
    "finer_types.get_path(\"building.theater\")"
   ]
  },
  {
   "cell_type": "code",
   "execution_count": 138,
   "metadata": {
    "collapsed": false
   },
   "outputs": [
    {
     "data": {
      "text/plain": [
       "{'art': {'is_figer_type': True, 'parent': 'work'},\n",
       " 'art.film': {'is_figer_type': True, 'parent': 'work'},\n",
       " 'astral_body': {'is_figer_type': True, 'parent': 'geography'},\n",
       " 'award': {'is_figer_type': True, 'parent': None},\n",
       " 'broadcast_program': {'is_figer_type': True, 'parent': 'work'},\n",
       " 'building': {'is_figer_type': True, 'parent': None},\n",
       " 'building.airport': {'is_figer_type': True, 'parent': 'building'},\n",
       " 'building.dam': {'is_figer_type': True, 'parent': 'building'},\n",
       " 'building.hospital': {'is_figer_type': True, 'parent': 'building'},\n",
       " 'building.hotel': {'is_figer_type': True, 'parent': 'building'},\n",
       " 'building.library': {'is_figer_type': True, 'parent': 'building'},\n",
       " 'building.power_station': {'is_figer_type': True, 'parent': 'building'},\n",
       " 'building.restaurant': {'is_figer_type': True, 'parent': 'building'},\n",
       " 'building.sports_facility': {'is_figer_type': True, 'parent': 'building'},\n",
       " 'building.theater': {'is_figer_type': True, 'parent': 'building'},\n",
       " 'computer.programming_language': {'is_figer_type': True, 'parent': 'norpl'},\n",
       " 'education.department': {'is_figer_type': True, 'parent': 'organization'},\n",
       " 'education.educational_degree': {'is_figer_type': True, 'parent': 'award'},\n",
       " 'event': {'is_figer_type': True, 'parent': None},\n",
       " 'event.attack': {'is_figer_type': True, 'parent': 'event'},\n",
       " 'event.election': {'is_figer_type': True, 'parent': 'event'},\n",
       " 'event.military_conflict': {'is_figer_type': True, 'parent': 'event'},\n",
       " 'event.natural_disaster': {'is_figer_type': True, 'parent': 'event'},\n",
       " 'event.protest': {'is_figer_type': True, 'parent': 'event'},\n",
       " 'event.sports_event': {'is_figer_type': True, 'parent': 'event'},\n",
       " 'event.terrorist_attack': {'is_figer_type': True, 'parent': 'event.attack'},\n",
       " 'finance.currency': {'is_figer_type': True, 'parent': None},\n",
       " 'finance.stock_exchange': {'is_figer_type': True, 'parent': 'organization'},\n",
       " 'food': {'is_figer_type': True, 'parent': 'product'},\n",
       " 'geography': {'is_figer_type': False, 'parent': None},\n",
       " 'geography.glacier': {'is_figer_type': True, 'parent': 'geography'},\n",
       " 'geography.island': {'is_figer_type': True, 'parent': 'geography'},\n",
       " 'geography.mountain': {'is_figer_type': True, 'parent': 'geography'},\n",
       " 'government.government': {'is_figer_type': True, 'parent': 'organization'},\n",
       " 'government.political_party': {'is_figer_type': True,\n",
       "  'parent': 'organization'},\n",
       " 'government_agency': {'is_figer_type': True,\n",
       "  'parent': 'government.government'},\n",
       " 'language': {'is_figer_type': True, 'parent': 'norpl'},\n",
       " 'law': {'is_figer_type': True, 'parent': None},\n",
       " 'living_thing': {'is_figer_type': True, 'parent': None},\n",
       " 'livingthing.animal': {'is_figer_type': True, 'parent': 'livingthing'},\n",
       " 'location': {'is_figer_type': True, 'parent': None},\n",
       " 'location.body_of_water': {'is_figer_type': True, 'parent': 'geography'},\n",
       " 'location.bridge': {'is_figer_type': True, 'parent': 'building'},\n",
       " 'location.cemetery': {'is_figer_type': True, 'parent': 'location'},\n",
       " 'location.city': {'is_figer_type': True, 'parent': 'location'},\n",
       " 'location.country': {'is_figer_type': True, 'parent': 'location'},\n",
       " 'location.county': {'is_figer_type': True, 'parent': 'location'},\n",
       " 'location.province': {'is_figer_type': True, 'parent': 'location'},\n",
       " 'medicine': {'is_figer_type': False, 'parent': None},\n",
       " 'medicine.drug': {'is_figer_type': True, 'parent': 'medicine'},\n",
       " 'medicine.medical_treatment': {'is_figer_type': True, 'parent': 'medicine'},\n",
       " 'medicine.symptom': {'is_figer_type': True, 'parent': 'medicine'},\n",
       " 'metropolitan_transit.transit_line': {'is_figer_type': True,\n",
       "  'parent': 'organization.company'},\n",
       " 'military': {'is_figer_type': True, 'parent': 'organization'},\n",
       " 'music': {'is_figer_type': True, 'parent': 'work'},\n",
       " 'news_agency': {'is_figer_type': True, 'parent': 'organization.company'},\n",
       " 'newspaper': {'is_figer_type': True, 'parent': 'written_work'},\n",
       " 'norpl': {'is_figer_type': False, 'parent': None},\n",
       " 'organization': {'is_figer_type': True, 'parent': None},\n",
       " 'organization.airline': {'is_figer_type': True,\n",
       "  'parent': 'organization.company'},\n",
       " 'organization.company': {'is_figer_type': True, 'parent': 'organization'},\n",
       " 'organization.educational_institution': {'is_figer_type': True,\n",
       "  'parent': 'organization'},\n",
       " 'organization.fraternity_sorority': {'is_figer_type': True,\n",
       "  'parent': 'organization'},\n",
       " 'organization.sports_league': {'is_figer_type': True,\n",
       "  'parent': 'organization'},\n",
       " 'organization.sports_team': {'is_figer_type': True, 'parent': 'organization'},\n",
       " 'organization.terrorist_organization': {'is_figer_type': True,\n",
       "  'parent': 'organization'},\n",
       " 'park': {'is_figer_type': True, 'parent': 'location'},\n",
       " 'people.ethnicity': {'is_figer_type': True, 'parent': 'norpl'},\n",
       " 'person': {'is_figer_type': True, 'parent': None},\n",
       " 'person.actor': {'is_figer_type': True, 'parent': 'person.artist'},\n",
       " 'person.architect': {'is_figer_type': True, 'parent': 'person'},\n",
       " 'person.artist': {'is_figer_type': True, 'parent': 'person'},\n",
       " 'person.athlete': {'is_figer_type': True, 'parent': 'person'},\n",
       " 'person.author': {'is_figer_type': True, 'parent': 'person'},\n",
       " 'person.coach': {'is_figer_type': True, 'parent': 'person'},\n",
       " 'person.director': {'is_figer_type': True, 'parent': 'person.artist'},\n",
       " 'person.doctor': {'is_figer_type': True, 'parent': 'person'},\n",
       " 'person.engineer': {'is_figer_type': True, 'parent': 'person'},\n",
       " 'person.monarch': {'is_figer_type': True, 'parent': 'person'},\n",
       " 'person.musician': {'is_figer_type': True, 'parent': 'person.artist'},\n",
       " 'person.politician': {'is_figer_type': True, 'parent': 'person'},\n",
       " 'person.religious_leader': {'is_figer_type': True, 'parent': 'person'},\n",
       " 'person.soldier': {'is_figer_type': True, 'parent': 'person'},\n",
       " 'person.terrorist': {'is_figer_type': True, 'parent': 'person'},\n",
       " 'play': {'is_figer_type': True, 'parent': 'work'},\n",
       " 'product': {'is_figer_type': True, 'parent': None},\n",
       " 'product.airplane': {'is_figer_type': True, 'parent': 'product'},\n",
       " 'product.camera': {'is_figer_type': True, 'parent': 'product'},\n",
       " 'product.car': {'is_figer_type': True, 'parent': 'product'},\n",
       " 'product.computer': {'is_figer_type': True, 'parent': 'product'},\n",
       " 'product.engine_device': {'is_figer_type': True, 'parent': 'product'},\n",
       " 'product.instrument': {'is_figer_type': True, 'parent': 'product'},\n",
       " 'product.mobile_phone': {'is_figer_type': True, 'parent': 'product'},\n",
       " 'product.ship': {'is_figer_type': True, 'parent': 'product'},\n",
       " 'product.spacecraft': {'is_figer_type': True, 'parent': 'product'},\n",
       " 'product.weapon': {'is_figer_type': True, 'parent': 'product.instrument'},\n",
       " 'rail.railway': {'is_figer_type': True, 'parent': 'organization.company'},\n",
       " 'software': {'is_figer_type': True, 'parent': None},\n",
       " 'time': {'is_figer_type': True, 'parent': None},\n",
       " 'title': {'is_figer_type': True, 'parent': None},\n",
       " 'train': {'is_figer_type': True, 'parent': 'product'},\n",
       " 'transit': {'is_figer_type': True, 'parent': 'organization.company'},\n",
       " 'transportation.road': {'is_figer_type': True, 'parent': None},\n",
       " 'visual_art.color': {'is_figer_type': True, 'parent': None},\n",
       " 'work': {'is_figer_type': False, 'parent': None},\n",
       " 'written_work': {'is_figer_type': True, 'parent': 'work'}}"
      ]
     },
     "execution_count": 138,
     "metadata": {},
     "output_type": "execute_result"
    }
   ],
   "source": []
  },
  {
   "cell_type": "code",
   "execution_count": 9,
   "metadata": {
    "collapsed": false
   },
   "outputs": [],
   "source": [
    "from sys import getsizeof"
   ]
  },
  {
   "cell_type": "code",
   "execution_count": 10,
   "metadata": {
    "collapsed": false
   },
   "outputs": [
    {
     "data": {
      "text/plain": [
       "2115952"
      ]
     },
     "execution_count": 10,
     "metadata": {},
     "output_type": "execute_result"
    }
   ],
   "source": [
    "getsizeof(mentions)"
   ]
  },
  {
   "cell_type": "code",
   "execution_count": 11,
   "metadata": {
    "collapsed": false
   },
   "outputs": [
    {
     "data": {
      "text/plain": [
       "192"
      ]
     },
     "execution_count": 11,
     "metadata": {},
     "output_type": "execute_result"
    }
   ],
   "source": [
    "getsizeof([x for x in range(10)])"
   ]
  },
  {
   "cell_type": "code",
   "execution_count": 17,
   "metadata": {
    "collapsed": true
   },
   "outputs": [],
   "source": [
    "def compact_mention(m):\n",
    "    return {\n",
    "#         \"total_type\" :  len(m[\"titles\"])\n",
    "        \"total\" : m[\"titles\"],\n",
    "        \"surface\" : m[\"surface\"],\n",
    "        \"type_dist\" : m[\"titles\"]\n",
    "    }"
   ]
  },
  {
   "cell_type": "code",
   "execution_count": 13,
   "metadata": {
    "collapsed": false
   },
   "outputs": [],
   "source": [
    "import json\n",
    "with codecs.open(\"/home/haowu4/data/wikidump/mention_to_type_dist\",\"w\", \"utf-8\") as output:\n",
    "    for m in mentions:\n",
    "        if len(m[\"titles\"]) == 0:\n",
    "            continue\n",
    "        m = compact_mention(m)\n",
    "        output.write(json.dumps(m))\n",
    "        output.write(\"\\n\")"
   ]
  },
  {
   "cell_type": "code",
   "execution_count": 15,
   "metadata": {
    "collapsed": false
   },
   "outputs": [
    {
     "data": {
      "text/plain": [
       "{'surface': 'writer',\n",
       " 'total': defaultdict(float,\n",
       "             {'education.department': 0.1875,\n",
       "              'language': 0.0625,\n",
       "              'person.actor': 0.125,\n",
       "              'person.artist': 0.0625,\n",
       "              'person.author': 0.25,\n",
       "              'person.musician': 0.3125}),\n",
       " 'type_dist': defaultdict(float,\n",
       "             {'education.department': 0.1875,\n",
       "              'language': 0.0625,\n",
       "              'person.actor': 0.125,\n",
       "              'person.artist': 0.0625,\n",
       "              'person.author': 0.25,\n",
       "              'person.musician': 0.3125})}"
      ]
     },
     "execution_count": 15,
     "metadata": {},
     "output_type": "execute_result"
    }
   ],
   "source": [
    "compact_mention(mentions[1111])"
   ]
  },
  {
   "cell_type": "code",
   "execution_count": 14,
   "metadata": {
    "collapsed": false
   },
   "outputs": [
    {
     "name": "stdout",
     "output_type": "stream",
     "text": [
      "{\"surface\": \"Read more...\", \"type_dist\": {\"government_agency\": 0.0018811136192626034, \"person.politician\": 0.07336343115124154, \"organization.sports_team\": 0.0071482317531978935, \"person.athlete\": 0.0417607223476298, \"product.airplane\": 0.0007524454477050414, \"military\": 0.004514672686230248, \"organization.educational_institution\": 0.006019563581640331, \"building.sports_facility\": 0.001128668171557562, \"location.cemetery\": 0.004138449962377728, \"building.restaurant\": 0.0003762227238525207, \"product.computer\": 0.0007524454477050414, \"building.library\": 0.0007524454477050414, \"language\": 0.008276899924755455, \"location.province\": 0.002257336343115124, \"medicine.symptom\": 0.001128668171557562, \"person.coach\": 0.003386004514672686, \"play\": 0.0003762227238525207, \"person.monarch\": 0.014296463506395787, \"person.religious_leader\": 0.007524454477050414, \"art\": 0.003386004514672686, \"location.bridge\": 0.003762227238525207, \"location.body_of_water\": 0.009781790820165538, \"event.natural_disaster\": 0.010534236267870579, \"written_work\": 0.012791572610985704, \"broadcast_program\": 0.004890895410082769, \"livingthing.animal\": 0.0030097817908201654, \"event.sports_event\": 0.003386004514672686, \"building.power_station\": 0.0003762227238525207, \"organization.airline\": 0.0018811136192626034, \"building.dam\": 0.0003762227238525207, \"product.instrument\": 0.002257336343115124, \"organization.fraternity_sorority\": 0.0007524454477050414, \"park\": 0.0007524454477050414, \"event.election\": 0.0030097817908201654, \"government.government\": 0.0026335590669676447, \"building.theater\": 0.001128668171557562, \"organization.company\": 0.013920240782543265, \"geography.island\": 0.011286681715575621, \"organization.sports_league\": 0.001128668171557562, \"building.hotel\": 0.0007524454477050414, \"metropolitan_transit.transit_line\": 0.0015048908954100827, \"product.spacecraft\": 0.0003762227238525207, \"music\": 0.10233258088788563, \"event.protest\": 0.002257336343115124, \"geography.mountain\": 0.009029345372460496, \"person.doctor\": 0.003386004514672686, \"product.weapon\": 0.002257336343115124, \"event.attack\": 0.0026335590669676447, \"person.author\": 0.18021068472535742, \"person.soldier\": 0.012039127163280662, \"food\": 0.008276899924755455, \"art.film\": 0.0071482317531978935, \"location.city\": 0.039503386004514675, \"news_agency\": 0.0018811136192626034, \"building.airport\": 0.003386004514672686, \"person.director\": 0.014296463506395787, \"person.musician\": 0.05492851768246802, \"person.engineer\": 0.003386004514672686, \"product.car\": 0.0003762227238525207, \"person.artist\": 0.10458991723100075, \"person.architect\": 0.004890895410082769, \"person.actor\": 0.08314522197140707, \"event.military_conflict\": 0.035364936042136946, \"transit\": 0.004890895410082769, \"location.country\": 0.02671181339352897, \"people.ethnicity\": 0.003386004514672686, \"product.ship\": 0.001128668171557562, \"government.political_party\": 0.002257336343115124, \"location.county\": 0.003762227238525207, \"astral_body\": 0.009029345372460496}, \"total\": {\"government_agency\": 0.0018811136192626034, \"person.politician\": 0.07336343115124154, \"organization.sports_team\": 0.0071482317531978935, \"person.athlete\": 0.0417607223476298, \"product.airplane\": 0.0007524454477050414, \"military\": 0.004514672686230248, \"organization.educational_institution\": 0.006019563581640331, \"building.sports_facility\": 0.001128668171557562, \"location.cemetery\": 0.004138449962377728, \"building.restaurant\": 0.0003762227238525207, \"product.computer\": 0.0007524454477050414, \"building.library\": 0.0007524454477050414, \"language\": 0.008276899924755455, \"location.province\": 0.002257336343115124, \"medicine.symptom\": 0.001128668171557562, \"person.coach\": 0.003386004514672686, \"play\": 0.0003762227238525207, \"person.monarch\": 0.014296463506395787, \"person.religious_leader\": 0.007524454477050414, \"art\": 0.003386004514672686, \"location.bridge\": 0.003762227238525207, \"location.body_of_water\": 0.009781790820165538, \"event.natural_disaster\": 0.010534236267870579, \"written_work\": 0.012791572610985704, \"broadcast_program\": 0.004890895410082769, \"livingthing.animal\": 0.0030097817908201654, \"event.sports_event\": 0.003386004514672686, \"building.power_station\": 0.0003762227238525207, \"organization.airline\": 0.0018811136192626034, \"building.dam\": 0.0003762227238525207, \"product.instrument\": 0.002257336343115124, \"organization.fraternity_sorority\": 0.0007524454477050414, \"park\": 0.0007524454477050414, \"event.election\": 0.0030097817908201654, \"government.government\": 0.0026335590669676447, \"building.theater\": 0.001128668171557562, \"organization.company\": 0.013920240782543265, \"geography.island\": 0.011286681715575621, \"organization.sports_league\": 0.001128668171557562, \"building.hotel\": 0.0007524454477050414, \"metropolitan_transit.transit_line\": 0.0015048908954100827, \"product.spacecraft\": 0.0003762227238525207, \"music\": 0.10233258088788563, \"event.protest\": 0.002257336343115124, \"geography.mountain\": 0.009029345372460496, \"person.doctor\": 0.003386004514672686, \"product.weapon\": 0.002257336343115124, \"event.attack\": 0.0026335590669676447, \"person.author\": 0.18021068472535742, \"person.soldier\": 0.012039127163280662, \"food\": 0.008276899924755455, \"art.film\": 0.0071482317531978935, \"location.city\": 0.039503386004514675, \"news_agency\": 0.0018811136192626034, \"building.airport\": 0.003386004514672686, \"person.director\": 0.014296463506395787, \"person.musician\": 0.05492851768246802, \"person.engineer\": 0.003386004514672686, \"product.car\": 0.0003762227238525207, \"person.artist\": 0.10458991723100075, \"person.architect\": 0.004890895410082769, \"person.actor\": 0.08314522197140707, \"event.military_conflict\": 0.035364936042136946, \"transit\": 0.004890895410082769, \"location.country\": 0.02671181339352897, \"people.ethnicity\": 0.003386004514672686, \"product.ship\": 0.001128668171557562, \"government.political_party\": 0.002257336343115124, \"location.county\": 0.003762227238525207, \"astral_body\": 0.009029345372460496}}\n",
      "\n"
     ]
    }
   ],
   "source": [
    "import codecs\n",
    "import gzip \n",
    "\n",
    "zf = gzip.open(\"/home/haowu4/codes/dataless_finer/resources/mention_to_type_dist.txt.gz\", 'rb')\n",
    "reader = codecs.getreader(\"utf-8\")\n",
    "contents = reader(zf)\n",
    "for line in contents:\n",
    "    print(line)\n",
    "    break\n"
   ]
  },
  {
   "cell_type": "code",
   "execution_count": 15,
   "metadata": {
    "collapsed": false
   },
   "outputs": [
    {
     "data": {
      "text/plain": [
       "1563386"
      ]
     },
     "execution_count": 15,
     "metadata": {},
     "output_type": "execute_result"
    }
   ],
   "source": [
    "len(mentions)"
   ]
  },
  {
   "cell_type": "code",
   "execution_count": 18,
   "metadata": {
    "collapsed": false
   },
   "outputs": [],
   "source": [
    "import json\n",
    "with codecs.open(\"/home/haowu4/data/wikidump/mention_to_type_dist_lg5.txt\",\"w\", \"utf-8\") as output:\n",
    "    for m in mentions:\n",
    "        if len(m[\"titles\"]) == 0:\n",
    "            continue\n",
    "        m = compact_mention(m)\n",
    "        output.write(json.dumps(m))\n",
    "        output.write(\"\\n\")"
   ]
  },
  {
   "cell_type": "code",
   "execution_count": null,
   "metadata": {
    "collapsed": true
   },
   "outputs": [],
   "source": []
  }
 ],
 "metadata": {
  "anaconda-cloud": {},
  "kernelspec": {
   "display_name": "Python [conda root]",
   "language": "python",
   "name": "conda-root-py"
  },
  "language_info": {
   "codemirror_mode": {
    "name": "ipython",
    "version": 3
   },
   "file_extension": ".py",
   "mimetype": "text/x-python",
   "name": "python",
   "nbconvert_exporter": "python",
   "pygments_lexer": "ipython3",
   "version": "3.5.2"
  }
 },
 "nbformat": 4,
 "nbformat_minor": 1
}
