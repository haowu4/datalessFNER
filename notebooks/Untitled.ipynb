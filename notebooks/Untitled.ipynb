{
 "cells": [
  {
   "cell_type": "code",
   "execution_count": 118,
   "metadata": {
    "collapsed": false
   },
   "outputs": [],
   "source": [
    "import random\n",
    "import numpy as np\n",
    "\n",
    "positions = [[0,0], [0,1], [1,0], [1,1]]\n",
    "positions = np.array(positions)\n",
    "values = [1.0,2.0,3.0,4.0]\n",
    "\n",
    "def distance(x,y):\n",
    "    x = np.linalg.norm(positions[x] - positions[y], ord=2)\n",
    "    return np.abs(x)\n",
    "\n",
    "def sample():\n",
    "    x0 = random.choice(range(4))\n",
    "#     x0 = \n",
    "\n",
    "\n",
    "transisition_mat = np.zeros((4,4))\n",
    "\n",
    "for x in range(4):\n",
    "    z = 0.0\n",
    "    max_z = 0\n",
    "    for y in range(4):\n",
    "        if x == y:\n",
    "            continue\n",
    "        n = distance(x,y)        \n",
    "        max_z = max(n, max_z)\n",
    "        \n",
    "    for y in range(4):\n",
    "        if x == y:\n",
    "            continue    \n",
    "        n = distance(x,y)        \n",
    "        z += (max_z-distance(x,y) + 1)\n",
    "        \n",
    "    for y in range(4):\n",
    "        if x == y:\n",
    "            continue\n",
    "        transisition_mat[x,y] = (max_z-distance(x,y) + 1)/z\n",
    "    \n",
    "\n",
    "value_ratio_mat = np.zeros((4,4))\n",
    "\n",
    "for x in range(4):\n",
    "    for y in range(4):\n",
    "        k  = values[y] / values[x] \n",
    "        k = min(k,1.0)\n",
    "        value_mat[x,y] = k\n",
    "        \n"
   ]
  },
  {
   "cell_type": "code",
   "execution_count": 119,
   "metadata": {
    "collapsed": false
   },
   "outputs": [
    {
     "data": {
      "text/plain": [
       "array([[ 0.        ,  0.36939806,  0.36939806,  0.26120387],\n",
       "       [ 0.36939806,  0.        ,  0.26120387,  0.36939806],\n",
       "       [ 0.36939806,  0.26120387,  0.        ,  0.36939806],\n",
       "       [ 0.26120387,  0.36939806,  0.36939806,  0.        ]])"
      ]
     },
     "execution_count": 119,
     "metadata": {},
     "output_type": "execute_result"
    }
   ],
   "source": [
    "transisition_mat"
   ]
  },
  {
   "cell_type": "code",
   "execution_count": 120,
   "metadata": {
    "collapsed": false
   },
   "outputs": [
    {
     "data": {
      "text/plain": [
       "array([[ 1.        ,  1.        ,  1.        ,  1.        ],\n",
       "       [ 0.5       ,  1.        ,  1.        ,  1.        ],\n",
       "       [ 0.33333333,  0.66666667,  1.        ,  1.        ],\n",
       "       [ 0.25      ,  0.5       ,  0.75      ,  1.        ]])"
      ]
     },
     "execution_count": 120,
     "metadata": {},
     "output_type": "execute_result"
    }
   ],
   "source": [
    "value_mat"
   ]
  },
  {
   "cell_type": "code",
   "execution_count": 121,
   "metadata": {
    "collapsed": false
   },
   "outputs": [],
   "source": [
    "rw_mat = np.zeros((4,4))\n",
    "for i in range(4):\n",
    "    for j in range(4):\n",
    "        rw_mat[i,j] = transisition_mat[i,j] * value_mat[i,j]"
   ]
  },
  {
   "cell_type": "code",
   "execution_count": 122,
   "metadata": {
    "collapsed": false
   },
   "outputs": [],
   "source": [
    "rw_mat_row_sum = np.sum(rw_mat, axis=1)"
   ]
  },
  {
   "cell_type": "code",
   "execution_count": 123,
   "metadata": {
    "collapsed": false
   },
   "outputs": [],
   "source": [
    "for i in range(4):\n",
    "    rw_mat[i,i] = 1-rw_mat_row_sum[i]"
   ]
  },
  {
   "cell_type": "code",
   "execution_count": 124,
   "metadata": {
    "collapsed": false
   },
   "outputs": [
    {
     "data": {
      "text/plain": [
       "array([[ 0.        ,  0.36939806,  0.36939806,  0.26120387],\n",
       "       [ 0.18469903,  0.18469903,  0.26120387,  0.36939806],\n",
       "       [ 0.12313269,  0.17413592,  0.33333333,  0.36939806],\n",
       "       [ 0.06530097,  0.18469903,  0.27704855,  0.47295145]])"
      ]
     },
     "execution_count": 124,
     "metadata": {},
     "output_type": "execute_result"
    }
   ],
   "source": [
    "rw_mat"
   ]
  },
  {
   "cell_type": "code",
   "execution_count": 125,
   "metadata": {
    "collapsed": false
   },
   "outputs": [],
   "source": [
    "init_dist = np.random.rand(4)\n",
    "init_dist = init_dist / np.sum(init_dist)"
   ]
  },
  {
   "cell_type": "code",
   "execution_count": 126,
   "metadata": {
    "collapsed": false
   },
   "outputs": [],
   "source": [
    "init_dist = np.matrix(init_dist)\n",
    "rw_mat = np.matrix(rw_mat)\n",
    "for i in range(1000):\n",
    "    wdist = init_dist * rw_mat"
   ]
  },
  {
   "cell_type": "code",
   "execution_count": 127,
   "metadata": {
    "collapsed": false
   },
   "outputs": [
    {
     "data": {
      "text/plain": [
       "matrix([[ 0.10250105,  0.23115505,  0.30171165,  0.36463224]])"
      ]
     },
     "execution_count": 127,
     "metadata": {},
     "output_type": "execute_result"
    }
   ],
   "source": [
    "init_dist * rw_mat"
   ]
  },
  {
   "cell_type": "code",
   "execution_count": 128,
   "metadata": {
    "collapsed": false
   },
   "outputs": [
    {
     "data": {
      "text/plain": [
       "matrix([[ 0.10250105,  0.23115505,  0.30171165,  0.36463224]])"
      ]
     },
     "execution_count": 128,
     "metadata": {},
     "output_type": "execute_result"
    }
   ],
   "source": [
    "wdist"
   ]
  },
  {
   "cell_type": "code",
   "execution_count": 140,
   "metadata": {
    "collapsed": false
   },
   "outputs": [
    {
     "data": {
      "text/plain": [
       "matrix([[ 0.52796909],\n",
       "        [ 0.51400128],\n",
       "        [ 0.53841068],\n",
       "        [ 0.57650547]])"
      ]
     },
     "execution_count": 140,
     "metadata": {},
     "output_type": "execute_result"
    }
   ],
   "source": [
    "rw_mat*np.linalg.eig(rw_mat.T)[1][:,0]"
   ]
  },
  {
   "cell_type": "code",
   "execution_count": 173,
   "metadata": {
    "collapsed": false
   },
   "outputs": [],
   "source": [
    "from numpy.random import choice\n",
    "from collections import defaultdict\n",
    "init_dist = np.random.rand(4)\n",
    "init_dist = init_dist / np.sum(init_dist)\n",
    "init_dist = np.matrix(init_dist)\n",
    "\n",
    "def sample():\n",
    "    dist = defaultdict(float)\n",
    "    total = 1000\n",
    "    for _ in range(total):\n",
    "        x_curr = choice(range(0,4), p=init_dist.tolist()[0])\n",
    "        for j in range(100):\n",
    "            x_curr = choice(range(0,4), p=rw_mat[x_curr].tolist()[0])\n",
    "        dist[x_curr] += 1.0\n",
    "    for k in dist:\n",
    "        dist[k] = dist[k]/total\n",
    "    return dist"
   ]
  },
  {
   "cell_type": "code",
   "execution_count": 174,
   "metadata": {
    "collapsed": false
   },
   "outputs": [
    {
     "data": {
      "text/plain": [
       "defaultdict(float, {0: 0.105, 1: 0.191, 2: 0.302, 3: 0.402})"
      ]
     },
     "execution_count": 174,
     "metadata": {},
     "output_type": "execute_result"
    }
   ],
   "source": [
    "sample()"
   ]
  },
  {
   "cell_type": "code",
   "execution_count": 175,
   "metadata": {
    "collapsed": false
   },
   "outputs": [
    {
     "data": {
      "text/plain": [
       "matrix([[ 0.        ,  0.36939806,  0.36939806,  0.26120387],\n",
       "        [ 0.18469903,  0.18469903,  0.26120387,  0.36939806],\n",
       "        [ 0.12313269,  0.17413592,  0.33333333,  0.36939806],\n",
       "        [ 0.06530097,  0.18469903,  0.27704855,  0.47295145]])"
      ]
     },
     "execution_count": 175,
     "metadata": {},
     "output_type": "execute_result"
    }
   ],
   "source": [
    "rw_mat"
   ]
  },
  {
   "cell_type": "code",
   "execution_count": 159,
   "metadata": {
    "collapsed": false
   },
   "outputs": [
    {
     "data": {
      "text/plain": [
       "matrix([[ 0.        ,  0.36939806,  0.36939806,  0.26120387]])"
      ]
     },
     "execution_count": 159,
     "metadata": {},
     "output_type": "execute_result"
    }
   ],
   "source": [
    "rw_mat[0]"
   ]
  },
  {
   "cell_type": "code",
   "execution_count": 1,
   "metadata": {
    "collapsed": true
   },
   "outputs": [],
   "source": [
    "import polylearn"
   ]
  },
  {
   "cell_type": "code",
   "execution_count": null,
   "metadata": {
    "collapsed": true
   },
   "outputs": [],
   "source": []
  }
 ],
 "metadata": {
  "anaconda-cloud": {},
  "kernelspec": {
   "display_name": "Python [conda env:dataless_finer]",
   "language": "python",
   "name": "conda-env-dataless_finer-py"
  },
  "language_info": {
   "codemirror_mode": {
    "name": "ipython",
    "version": 2
   },
   "file_extension": ".py",
   "mimetype": "text/x-python",
   "name": "python",
   "nbconvert_exporter": "python",
   "pygments_lexer": "ipython2",
   "version": "2.7.13"
  }
 },
 "nbformat": 4,
 "nbformat_minor": 1
}
