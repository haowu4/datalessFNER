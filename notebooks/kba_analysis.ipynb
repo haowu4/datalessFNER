{
 "cells": [
  {
   "cell_type": "code",
   "execution_count": 9,
   "metadata": {
    "collapsed": true
   },
   "outputs": [
    {
     "name": "stdout",
     "output_type": "stream",
     "text": [
      "4898278: [art.film\t\n",
      "]\n",
      "4905247: [art.film\t\n",
      "]\n",
      "4910172: [art.film\t\n",
      "]\n",
      "4923585: [art.film\t\n",
      "]\n",
      "4929851: [art.film\t\n",
      "]\n",
      "4937725: [art.film\t\n",
      "]\n",
      "4941348: [art.film\t\n",
      "]\n",
      "4942553: [art.film\t\n",
      "]\n",
      "4942555: [art.film\t\n",
      "]\n",
      "4942708: [art.film\t\n",
      "]\n",
      "4943388: [art.film\t\n",
      "]\n",
      "4943390: [art.film\t\n",
      "]\n",
      "4945799: [art.film\t\n",
      "]\n",
      "4948393: [art.film\t\n",
      "]\n",
      "4951085: [art.film\t\n",
      "]\n",
      "4953855: [art.film\t\n",
      "]\n",
      "4965867: [art.film\t\n",
      "]\n",
      "4965869: [art.film\t\n",
      "]\n",
      "4966109: [art.film\t\n",
      "]\n",
      "4972293: [art.film\t\n",
      "]\n",
      "4975289: [art.film\t\n",
      "]\n",
      "4980197: [art.film\t\n",
      "]\n",
      "4987680: [art.film\t\n",
      "]\n",
      "4989370: [art.film\t\n",
      "]\n",
      "5002302: [art.film\t\n",
      "]\n",
      "5016355: [art.film\t\n",
      "]\n",
      "5018966: [art.film\t\n",
      "]\n",
      "5018970: [art.film\t\n",
      "]\n",
      "5024950: [art.film\t\n",
      "]\n",
      "5029516: [art.film\t\n",
      "]\n",
      "5038858: [art.film\t\n",
      "]\n",
      "5388980: [broadcast_program\t\n",
      "]\n"
     ]
    }
   ],
   "source": [
    "import codecs\n",
    "\n",
    "def read_data():\n",
    "    ret = []\n",
    "    with codecs.open(\"/home/haowu4/data/type_to_alias.txt\", 'r', \"utf-8\") as input:\n",
    "        for i, oline in enumerate(input):\n",
    "            line = oline.strip()\n",
    "            if len(line) == 0:\n",
    "                continue\n",
    "            try:\n",
    "                t, surface = line.split(\"\\t\")\n",
    "                ret.append((t,surface))\n",
    "            except ValueError:\n",
    "                print(\"%d: [%s]\" % (i, oline))\n",
    "            \n",
    "    return ret\n",
    "\n",
    "data = read_data()\n"
   ]
  },
  {
   "cell_type": "code",
   "execution_count": null,
   "metadata": {
    "collapsed": false
   },
   "outputs": [],
   "source": []
  },
  {
   "cell_type": "code",
   "execution_count": null,
   "metadata": {
    "collapsed": true
   },
   "outputs": [],
   "source": []
  }
 ],
 "metadata": {
  "anaconda-cloud": {},
  "kernelspec": {
   "display_name": "Python [conda env:dataless_finer]",
   "language": "python",
   "name": "conda-env-dataless_finer-py"
  },
  "language_info": {
   "codemirror_mode": {
    "name": "ipython",
    "version": 2
   },
   "file_extension": ".py",
   "mimetype": "text/x-python",
   "name": "python",
   "nbconvert_exporter": "python",
   "pygments_lexer": "ipython2",
   "version": "2.7.13"
  }
 },
 "nbformat": 4,
 "nbformat_minor": 1
}
